{
  "nbformat": 4,
  "nbformat_minor": 0,
  "metadata": {
    "colab": {
      "provenance": [],
      "collapsed_sections": []
    },
    "kernelspec": {
      "name": "python3",
      "display_name": "Python 3"
    },
    "language_info": {
      "name": "python"
    }
  },
  "cells": [
    {
      "cell_type": "code",
      "execution_count": null,
      "metadata": {
        "id": "MBYsH_EbzW_a"
      },
      "outputs": [],
      "source": [
        "import pandas as pd\n",
        "import numpy as np\n",
        "import seaborn as sns\n",
        "import matplotlib.pyplot as plt\n",
        "import warnings\n",
        "warnings.filterwarnings('ignore')"
      ]
    },
    {
      "cell_type": "markdown",
      "source": [
        "Information on dataset: The dataset contains records from both ischemic and hemorrhagic strokes. The criteria used to define a stroke was that a stroke occurs when a blood vessel that carries oxygen and nutrients to the brain is either blocked (ischemic) by a clot or bursts (hemorrhagic)."
      ],
      "metadata": {
        "id": "pi1lBZyA1C7i"
      }
    },
    {
      "cell_type": "code",
      "source": [
        "#now import data set\n",
        "df=pd.read_csv('healthcare_stroke_data.csv')\n",
        "df"
      ],
      "metadata": {
        "colab": {
          "base_uri": "https://localhost:8080/",
          "height": 424
        },
        "id": "3UHsEPFIznxY",
        "outputId": "77d1a9fc-f37c-4632-b496-55626e658da2"
      },
      "execution_count": null,
      "outputs": [
        {
          "output_type": "execute_result",
          "data": {
            "text/plain": [
              "         id  gender   age  hypertension  heart_disease ever_married  \\\n",
              "0      9046    Male  67.0             0              1          Yes   \n",
              "1     51676  Female  61.0             0              0          Yes   \n",
              "2     31112    Male  80.0             0              1          Yes   \n",
              "3     60182  Female  49.0             0              0          Yes   \n",
              "4      1665  Female  79.0             1              0          Yes   \n",
              "...     ...     ...   ...           ...            ...          ...   \n",
              "5105  18234  Female  80.0             1              0          Yes   \n",
              "5106  44873  Female  81.0             0              0          Yes   \n",
              "5107  19723  Female  35.0             0              0          Yes   \n",
              "5108  37544    Male  51.0             0              0          Yes   \n",
              "5109  44679  Female  44.0             0              0          Yes   \n",
              "\n",
              "          work_type Residence_type  avg_glucose_level   bmi   smoking_status  \\\n",
              "0           Private          Urban             228.69  36.6  formerly smoked   \n",
              "1     Self-employed          Rural             202.21   NaN     never smoked   \n",
              "2           Private          Rural             105.92  32.5     never smoked   \n",
              "3           Private          Urban             171.23  34.4           smokes   \n",
              "4     Self-employed          Rural             174.12  24.0     never smoked   \n",
              "...             ...            ...                ...   ...              ...   \n",
              "5105        Private          Urban              83.75   NaN     never smoked   \n",
              "5106  Self-employed          Urban             125.20  40.0     never smoked   \n",
              "5107  Self-employed          Rural              82.99  30.6     never smoked   \n",
              "5108        Private          Rural             166.29  25.6  formerly smoked   \n",
              "5109       Govt_job          Urban              85.28  26.2          Unknown   \n",
              "\n",
              "      stroke  \n",
              "0          1  \n",
              "1          1  \n",
              "2          1  \n",
              "3          1  \n",
              "4          1  \n",
              "...      ...  \n",
              "5105       0  \n",
              "5106       0  \n",
              "5107       0  \n",
              "5108       0  \n",
              "5109       0  \n",
              "\n",
              "[5110 rows x 12 columns]"
            ],
            "text/html": [
              "\n",
              "  <div id=\"df-13bdd218-4614-4e20-b47c-6abc7c72c383\">\n",
              "    <div class=\"colab-df-container\">\n",
              "      <div>\n",
              "<style scoped>\n",
              "    .dataframe tbody tr th:only-of-type {\n",
              "        vertical-align: middle;\n",
              "    }\n",
              "\n",
              "    .dataframe tbody tr th {\n",
              "        vertical-align: top;\n",
              "    }\n",
              "\n",
              "    .dataframe thead th {\n",
              "        text-align: right;\n",
              "    }\n",
              "</style>\n",
              "<table border=\"1\" class=\"dataframe\">\n",
              "  <thead>\n",
              "    <tr style=\"text-align: right;\">\n",
              "      <th></th>\n",
              "      <th>id</th>\n",
              "      <th>gender</th>\n",
              "      <th>age</th>\n",
              "      <th>hypertension</th>\n",
              "      <th>heart_disease</th>\n",
              "      <th>ever_married</th>\n",
              "      <th>work_type</th>\n",
              "      <th>Residence_type</th>\n",
              "      <th>avg_glucose_level</th>\n",
              "      <th>bmi</th>\n",
              "      <th>smoking_status</th>\n",
              "      <th>stroke</th>\n",
              "    </tr>\n",
              "  </thead>\n",
              "  <tbody>\n",
              "    <tr>\n",
              "      <th>0</th>\n",
              "      <td>9046</td>\n",
              "      <td>Male</td>\n",
              "      <td>67.0</td>\n",
              "      <td>0</td>\n",
              "      <td>1</td>\n",
              "      <td>Yes</td>\n",
              "      <td>Private</td>\n",
              "      <td>Urban</td>\n",
              "      <td>228.69</td>\n",
              "      <td>36.6</td>\n",
              "      <td>formerly smoked</td>\n",
              "      <td>1</td>\n",
              "    </tr>\n",
              "    <tr>\n",
              "      <th>1</th>\n",
              "      <td>51676</td>\n",
              "      <td>Female</td>\n",
              "      <td>61.0</td>\n",
              "      <td>0</td>\n",
              "      <td>0</td>\n",
              "      <td>Yes</td>\n",
              "      <td>Self-employed</td>\n",
              "      <td>Rural</td>\n",
              "      <td>202.21</td>\n",
              "      <td>NaN</td>\n",
              "      <td>never smoked</td>\n",
              "      <td>1</td>\n",
              "    </tr>\n",
              "    <tr>\n",
              "      <th>2</th>\n",
              "      <td>31112</td>\n",
              "      <td>Male</td>\n",
              "      <td>80.0</td>\n",
              "      <td>0</td>\n",
              "      <td>1</td>\n",
              "      <td>Yes</td>\n",
              "      <td>Private</td>\n",
              "      <td>Rural</td>\n",
              "      <td>105.92</td>\n",
              "      <td>32.5</td>\n",
              "      <td>never smoked</td>\n",
              "      <td>1</td>\n",
              "    </tr>\n",
              "    <tr>\n",
              "      <th>3</th>\n",
              "      <td>60182</td>\n",
              "      <td>Female</td>\n",
              "      <td>49.0</td>\n",
              "      <td>0</td>\n",
              "      <td>0</td>\n",
              "      <td>Yes</td>\n",
              "      <td>Private</td>\n",
              "      <td>Urban</td>\n",
              "      <td>171.23</td>\n",
              "      <td>34.4</td>\n",
              "      <td>smokes</td>\n",
              "      <td>1</td>\n",
              "    </tr>\n",
              "    <tr>\n",
              "      <th>4</th>\n",
              "      <td>1665</td>\n",
              "      <td>Female</td>\n",
              "      <td>79.0</td>\n",
              "      <td>1</td>\n",
              "      <td>0</td>\n",
              "      <td>Yes</td>\n",
              "      <td>Self-employed</td>\n",
              "      <td>Rural</td>\n",
              "      <td>174.12</td>\n",
              "      <td>24.0</td>\n",
              "      <td>never smoked</td>\n",
              "      <td>1</td>\n",
              "    </tr>\n",
              "    <tr>\n",
              "      <th>...</th>\n",
              "      <td>...</td>\n",
              "      <td>...</td>\n",
              "      <td>...</td>\n",
              "      <td>...</td>\n",
              "      <td>...</td>\n",
              "      <td>...</td>\n",
              "      <td>...</td>\n",
              "      <td>...</td>\n",
              "      <td>...</td>\n",
              "      <td>...</td>\n",
              "      <td>...</td>\n",
              "      <td>...</td>\n",
              "    </tr>\n",
              "    <tr>\n",
              "      <th>5105</th>\n",
              "      <td>18234</td>\n",
              "      <td>Female</td>\n",
              "      <td>80.0</td>\n",
              "      <td>1</td>\n",
              "      <td>0</td>\n",
              "      <td>Yes</td>\n",
              "      <td>Private</td>\n",
              "      <td>Urban</td>\n",
              "      <td>83.75</td>\n",
              "      <td>NaN</td>\n",
              "      <td>never smoked</td>\n",
              "      <td>0</td>\n",
              "    </tr>\n",
              "    <tr>\n",
              "      <th>5106</th>\n",
              "      <td>44873</td>\n",
              "      <td>Female</td>\n",
              "      <td>81.0</td>\n",
              "      <td>0</td>\n",
              "      <td>0</td>\n",
              "      <td>Yes</td>\n",
              "      <td>Self-employed</td>\n",
              "      <td>Urban</td>\n",
              "      <td>125.20</td>\n",
              "      <td>40.0</td>\n",
              "      <td>never smoked</td>\n",
              "      <td>0</td>\n",
              "    </tr>\n",
              "    <tr>\n",
              "      <th>5107</th>\n",
              "      <td>19723</td>\n",
              "      <td>Female</td>\n",
              "      <td>35.0</td>\n",
              "      <td>0</td>\n",
              "      <td>0</td>\n",
              "      <td>Yes</td>\n",
              "      <td>Self-employed</td>\n",
              "      <td>Rural</td>\n",
              "      <td>82.99</td>\n",
              "      <td>30.6</td>\n",
              "      <td>never smoked</td>\n",
              "      <td>0</td>\n",
              "    </tr>\n",
              "    <tr>\n",
              "      <th>5108</th>\n",
              "      <td>37544</td>\n",
              "      <td>Male</td>\n",
              "      <td>51.0</td>\n",
              "      <td>0</td>\n",
              "      <td>0</td>\n",
              "      <td>Yes</td>\n",
              "      <td>Private</td>\n",
              "      <td>Rural</td>\n",
              "      <td>166.29</td>\n",
              "      <td>25.6</td>\n",
              "      <td>formerly smoked</td>\n",
              "      <td>0</td>\n",
              "    </tr>\n",
              "    <tr>\n",
              "      <th>5109</th>\n",
              "      <td>44679</td>\n",
              "      <td>Female</td>\n",
              "      <td>44.0</td>\n",
              "      <td>0</td>\n",
              "      <td>0</td>\n",
              "      <td>Yes</td>\n",
              "      <td>Govt_job</td>\n",
              "      <td>Urban</td>\n",
              "      <td>85.28</td>\n",
              "      <td>26.2</td>\n",
              "      <td>Unknown</td>\n",
              "      <td>0</td>\n",
              "    </tr>\n",
              "  </tbody>\n",
              "</table>\n",
              "<p>5110 rows × 12 columns</p>\n",
              "</div>\n",
              "      <button class=\"colab-df-convert\" onclick=\"convertToInteractive('df-13bdd218-4614-4e20-b47c-6abc7c72c383')\"\n",
              "              title=\"Convert this dataframe to an interactive table.\"\n",
              "              style=\"display:none;\">\n",
              "        \n",
              "  <svg xmlns=\"http://www.w3.org/2000/svg\" height=\"24px\"viewBox=\"0 0 24 24\"\n",
              "       width=\"24px\">\n",
              "    <path d=\"M0 0h24v24H0V0z\" fill=\"none\"/>\n",
              "    <path d=\"M18.56 5.44l.94 2.06.94-2.06 2.06-.94-2.06-.94-.94-2.06-.94 2.06-2.06.94zm-11 1L8.5 8.5l.94-2.06 2.06-.94-2.06-.94L8.5 2.5l-.94 2.06-2.06.94zm10 10l.94 2.06.94-2.06 2.06-.94-2.06-.94-.94-2.06-.94 2.06-2.06.94z\"/><path d=\"M17.41 7.96l-1.37-1.37c-.4-.4-.92-.59-1.43-.59-.52 0-1.04.2-1.43.59L10.3 9.45l-7.72 7.72c-.78.78-.78 2.05 0 2.83L4 21.41c.39.39.9.59 1.41.59.51 0 1.02-.2 1.41-.59l7.78-7.78 2.81-2.81c.8-.78.8-2.07 0-2.86zM5.41 20L4 18.59l7.72-7.72 1.47 1.35L5.41 20z\"/>\n",
              "  </svg>\n",
              "      </button>\n",
              "      \n",
              "  <style>\n",
              "    .colab-df-container {\n",
              "      display:flex;\n",
              "      flex-wrap:wrap;\n",
              "      gap: 12px;\n",
              "    }\n",
              "\n",
              "    .colab-df-convert {\n",
              "      background-color: #E8F0FE;\n",
              "      border: none;\n",
              "      border-radius: 50%;\n",
              "      cursor: pointer;\n",
              "      display: none;\n",
              "      fill: #1967D2;\n",
              "      height: 32px;\n",
              "      padding: 0 0 0 0;\n",
              "      width: 32px;\n",
              "    }\n",
              "\n",
              "    .colab-df-convert:hover {\n",
              "      background-color: #E2EBFA;\n",
              "      box-shadow: 0px 1px 2px rgba(60, 64, 67, 0.3), 0px 1px 3px 1px rgba(60, 64, 67, 0.15);\n",
              "      fill: #174EA6;\n",
              "    }\n",
              "\n",
              "    [theme=dark] .colab-df-convert {\n",
              "      background-color: #3B4455;\n",
              "      fill: #D2E3FC;\n",
              "    }\n",
              "\n",
              "    [theme=dark] .colab-df-convert:hover {\n",
              "      background-color: #434B5C;\n",
              "      box-shadow: 0px 1px 3px 1px rgba(0, 0, 0, 0.15);\n",
              "      filter: drop-shadow(0px 1px 2px rgba(0, 0, 0, 0.3));\n",
              "      fill: #FFFFFF;\n",
              "    }\n",
              "  </style>\n",
              "\n",
              "      <script>\n",
              "        const buttonEl =\n",
              "          document.querySelector('#df-13bdd218-4614-4e20-b47c-6abc7c72c383 button.colab-df-convert');\n",
              "        buttonEl.style.display =\n",
              "          google.colab.kernel.accessAllowed ? 'block' : 'none';\n",
              "\n",
              "        async function convertToInteractive(key) {\n",
              "          const element = document.querySelector('#df-13bdd218-4614-4e20-b47c-6abc7c72c383');\n",
              "          const dataTable =\n",
              "            await google.colab.kernel.invokeFunction('convertToInteractive',\n",
              "                                                     [key], {});\n",
              "          if (!dataTable) return;\n",
              "\n",
              "          const docLinkHtml = 'Like what you see? Visit the ' +\n",
              "            '<a target=\"_blank\" href=https://colab.research.google.com/notebooks/data_table.ipynb>data table notebook</a>'\n",
              "            + ' to learn more about interactive tables.';\n",
              "          element.innerHTML = '';\n",
              "          dataTable['output_type'] = 'display_data';\n",
              "          await google.colab.output.renderOutput(dataTable, element);\n",
              "          const docLink = document.createElement('div');\n",
              "          docLink.innerHTML = docLinkHtml;\n",
              "          element.appendChild(docLink);\n",
              "        }\n",
              "      </script>\n",
              "    </div>\n",
              "  </div>\n",
              "  "
            ]
          },
          "metadata": {},
          "execution_count": 2
        }
      ]
    },
    {
      "cell_type": "code",
      "source": [
        "df.head(5)"
      ],
      "metadata": {
        "colab": {
          "base_uri": "https://localhost:8080/",
          "height": 206
        },
        "id": "LCDyeJC2zsNB",
        "outputId": "bcc4f873-9fdd-44f0-e72b-bf35f92b3b4c"
      },
      "execution_count": null,
      "outputs": [
        {
          "output_type": "execute_result",
          "data": {
            "text/plain": [
              "      id  gender   age  hypertension  heart_disease ever_married  \\\n",
              "0   9046    Male  67.0             0              1          Yes   \n",
              "1  51676  Female  61.0             0              0          Yes   \n",
              "2  31112    Male  80.0             0              1          Yes   \n",
              "3  60182  Female  49.0             0              0          Yes   \n",
              "4   1665  Female  79.0             1              0          Yes   \n",
              "\n",
              "       work_type Residence_type  avg_glucose_level   bmi   smoking_status  \\\n",
              "0        Private          Urban             228.69  36.6  formerly smoked   \n",
              "1  Self-employed          Rural             202.21   NaN     never smoked   \n",
              "2        Private          Rural             105.92  32.5     never smoked   \n",
              "3        Private          Urban             171.23  34.4           smokes   \n",
              "4  Self-employed          Rural             174.12  24.0     never smoked   \n",
              "\n",
              "   stroke  \n",
              "0       1  \n",
              "1       1  \n",
              "2       1  \n",
              "3       1  \n",
              "4       1  "
            ],
            "text/html": [
              "\n",
              "  <div id=\"df-03069956-3d2d-49b7-ae50-be39364ff375\">\n",
              "    <div class=\"colab-df-container\">\n",
              "      <div>\n",
              "<style scoped>\n",
              "    .dataframe tbody tr th:only-of-type {\n",
              "        vertical-align: middle;\n",
              "    }\n",
              "\n",
              "    .dataframe tbody tr th {\n",
              "        vertical-align: top;\n",
              "    }\n",
              "\n",
              "    .dataframe thead th {\n",
              "        text-align: right;\n",
              "    }\n",
              "</style>\n",
              "<table border=\"1\" class=\"dataframe\">\n",
              "  <thead>\n",
              "    <tr style=\"text-align: right;\">\n",
              "      <th></th>\n",
              "      <th>id</th>\n",
              "      <th>gender</th>\n",
              "      <th>age</th>\n",
              "      <th>hypertension</th>\n",
              "      <th>heart_disease</th>\n",
              "      <th>ever_married</th>\n",
              "      <th>work_type</th>\n",
              "      <th>Residence_type</th>\n",
              "      <th>avg_glucose_level</th>\n",
              "      <th>bmi</th>\n",
              "      <th>smoking_status</th>\n",
              "      <th>stroke</th>\n",
              "    </tr>\n",
              "  </thead>\n",
              "  <tbody>\n",
              "    <tr>\n",
              "      <th>0</th>\n",
              "      <td>9046</td>\n",
              "      <td>Male</td>\n",
              "      <td>67.0</td>\n",
              "      <td>0</td>\n",
              "      <td>1</td>\n",
              "      <td>Yes</td>\n",
              "      <td>Private</td>\n",
              "      <td>Urban</td>\n",
              "      <td>228.69</td>\n",
              "      <td>36.6</td>\n",
              "      <td>formerly smoked</td>\n",
              "      <td>1</td>\n",
              "    </tr>\n",
              "    <tr>\n",
              "      <th>1</th>\n",
              "      <td>51676</td>\n",
              "      <td>Female</td>\n",
              "      <td>61.0</td>\n",
              "      <td>0</td>\n",
              "      <td>0</td>\n",
              "      <td>Yes</td>\n",
              "      <td>Self-employed</td>\n",
              "      <td>Rural</td>\n",
              "      <td>202.21</td>\n",
              "      <td>NaN</td>\n",
              "      <td>never smoked</td>\n",
              "      <td>1</td>\n",
              "    </tr>\n",
              "    <tr>\n",
              "      <th>2</th>\n",
              "      <td>31112</td>\n",
              "      <td>Male</td>\n",
              "      <td>80.0</td>\n",
              "      <td>0</td>\n",
              "      <td>1</td>\n",
              "      <td>Yes</td>\n",
              "      <td>Private</td>\n",
              "      <td>Rural</td>\n",
              "      <td>105.92</td>\n",
              "      <td>32.5</td>\n",
              "      <td>never smoked</td>\n",
              "      <td>1</td>\n",
              "    </tr>\n",
              "    <tr>\n",
              "      <th>3</th>\n",
              "      <td>60182</td>\n",
              "      <td>Female</td>\n",
              "      <td>49.0</td>\n",
              "      <td>0</td>\n",
              "      <td>0</td>\n",
              "      <td>Yes</td>\n",
              "      <td>Private</td>\n",
              "      <td>Urban</td>\n",
              "      <td>171.23</td>\n",
              "      <td>34.4</td>\n",
              "      <td>smokes</td>\n",
              "      <td>1</td>\n",
              "    </tr>\n",
              "    <tr>\n",
              "      <th>4</th>\n",
              "      <td>1665</td>\n",
              "      <td>Female</td>\n",
              "      <td>79.0</td>\n",
              "      <td>1</td>\n",
              "      <td>0</td>\n",
              "      <td>Yes</td>\n",
              "      <td>Self-employed</td>\n",
              "      <td>Rural</td>\n",
              "      <td>174.12</td>\n",
              "      <td>24.0</td>\n",
              "      <td>never smoked</td>\n",
              "      <td>1</td>\n",
              "    </tr>\n",
              "  </tbody>\n",
              "</table>\n",
              "</div>\n",
              "      <button class=\"colab-df-convert\" onclick=\"convertToInteractive('df-03069956-3d2d-49b7-ae50-be39364ff375')\"\n",
              "              title=\"Convert this dataframe to an interactive table.\"\n",
              "              style=\"display:none;\">\n",
              "        \n",
              "  <svg xmlns=\"http://www.w3.org/2000/svg\" height=\"24px\"viewBox=\"0 0 24 24\"\n",
              "       width=\"24px\">\n",
              "    <path d=\"M0 0h24v24H0V0z\" fill=\"none\"/>\n",
              "    <path d=\"M18.56 5.44l.94 2.06.94-2.06 2.06-.94-2.06-.94-.94-2.06-.94 2.06-2.06.94zm-11 1L8.5 8.5l.94-2.06 2.06-.94-2.06-.94L8.5 2.5l-.94 2.06-2.06.94zm10 10l.94 2.06.94-2.06 2.06-.94-2.06-.94-.94-2.06-.94 2.06-2.06.94z\"/><path d=\"M17.41 7.96l-1.37-1.37c-.4-.4-.92-.59-1.43-.59-.52 0-1.04.2-1.43.59L10.3 9.45l-7.72 7.72c-.78.78-.78 2.05 0 2.83L4 21.41c.39.39.9.59 1.41.59.51 0 1.02-.2 1.41-.59l7.78-7.78 2.81-2.81c.8-.78.8-2.07 0-2.86zM5.41 20L4 18.59l7.72-7.72 1.47 1.35L5.41 20z\"/>\n",
              "  </svg>\n",
              "      </button>\n",
              "      \n",
              "  <style>\n",
              "    .colab-df-container {\n",
              "      display:flex;\n",
              "      flex-wrap:wrap;\n",
              "      gap: 12px;\n",
              "    }\n",
              "\n",
              "    .colab-df-convert {\n",
              "      background-color: #E8F0FE;\n",
              "      border: none;\n",
              "      border-radius: 50%;\n",
              "      cursor: pointer;\n",
              "      display: none;\n",
              "      fill: #1967D2;\n",
              "      height: 32px;\n",
              "      padding: 0 0 0 0;\n",
              "      width: 32px;\n",
              "    }\n",
              "\n",
              "    .colab-df-convert:hover {\n",
              "      background-color: #E2EBFA;\n",
              "      box-shadow: 0px 1px 2px rgba(60, 64, 67, 0.3), 0px 1px 3px 1px rgba(60, 64, 67, 0.15);\n",
              "      fill: #174EA6;\n",
              "    }\n",
              "\n",
              "    [theme=dark] .colab-df-convert {\n",
              "      background-color: #3B4455;\n",
              "      fill: #D2E3FC;\n",
              "    }\n",
              "\n",
              "    [theme=dark] .colab-df-convert:hover {\n",
              "      background-color: #434B5C;\n",
              "      box-shadow: 0px 1px 3px 1px rgba(0, 0, 0, 0.15);\n",
              "      filter: drop-shadow(0px 1px 2px rgba(0, 0, 0, 0.3));\n",
              "      fill: #FFFFFF;\n",
              "    }\n",
              "  </style>\n",
              "\n",
              "      <script>\n",
              "        const buttonEl =\n",
              "          document.querySelector('#df-03069956-3d2d-49b7-ae50-be39364ff375 button.colab-df-convert');\n",
              "        buttonEl.style.display =\n",
              "          google.colab.kernel.accessAllowed ? 'block' : 'none';\n",
              "\n",
              "        async function convertToInteractive(key) {\n",
              "          const element = document.querySelector('#df-03069956-3d2d-49b7-ae50-be39364ff375');\n",
              "          const dataTable =\n",
              "            await google.colab.kernel.invokeFunction('convertToInteractive',\n",
              "                                                     [key], {});\n",
              "          if (!dataTable) return;\n",
              "\n",
              "          const docLinkHtml = 'Like what you see? Visit the ' +\n",
              "            '<a target=\"_blank\" href=https://colab.research.google.com/notebooks/data_table.ipynb>data table notebook</a>'\n",
              "            + ' to learn more about interactive tables.';\n",
              "          element.innerHTML = '';\n",
              "          dataTable['output_type'] = 'display_data';\n",
              "          await google.colab.output.renderOutput(dataTable, element);\n",
              "          const docLink = document.createElement('div');\n",
              "          docLink.innerHTML = docLinkHtml;\n",
              "          element.appendChild(docLink);\n",
              "        }\n",
              "      </script>\n",
              "    </div>\n",
              "  </div>\n",
              "  "
            ]
          },
          "metadata": {},
          "execution_count": 3
        }
      ]
    },
    {
      "cell_type": "code",
      "source": [
        "#check null value\n",
        "df.isnull().sum()"
      ],
      "metadata": {
        "colab": {
          "base_uri": "https://localhost:8080/"
        },
        "id": "greQtyyjzuT9",
        "outputId": "82eecb7b-7cd6-4b3e-ac4d-063d6fb37434"
      },
      "execution_count": null,
      "outputs": [
        {
          "output_type": "execute_result",
          "data": {
            "text/plain": [
              "id                     0\n",
              "gender                 0\n",
              "age                    0\n",
              "hypertension           0\n",
              "heart_disease          0\n",
              "ever_married           0\n",
              "work_type              0\n",
              "Residence_type         0\n",
              "avg_glucose_level      0\n",
              "bmi                  201\n",
              "smoking_status         0\n",
              "stroke                 0\n",
              "dtype: int64"
            ]
          },
          "metadata": {},
          "execution_count": 4
        }
      ]
    },
    {
      "cell_type": "code",
      "source": [
        "#check duplicates\n",
        "df.duplicated().sum()"
      ],
      "metadata": {
        "colab": {
          "base_uri": "https://localhost:8080/"
        },
        "id": "66ld_DwdzwTc",
        "outputId": "94b441c8-51bf-4290-eac4-75549e4fe4b5"
      },
      "execution_count": null,
      "outputs": [
        {
          "output_type": "execute_result",
          "data": {
            "text/plain": [
              "0"
            ]
          },
          "metadata": {},
          "execution_count": 5
        }
      ]
    },
    {
      "cell_type": "code",
      "source": [
        "df.head(5)"
      ],
      "metadata": {
        "colab": {
          "base_uri": "https://localhost:8080/",
          "height": 206
        },
        "id": "PZ7uSol_zzNz",
        "outputId": "bd1ac170-798c-4c11-a12d-4ea3a08ffbc0"
      },
      "execution_count": null,
      "outputs": [
        {
          "output_type": "execute_result",
          "data": {
            "text/plain": [
              "      id  gender   age  hypertension  heart_disease ever_married  \\\n",
              "0   9046    Male  67.0             0              1          Yes   \n",
              "1  51676  Female  61.0             0              0          Yes   \n",
              "2  31112    Male  80.0             0              1          Yes   \n",
              "3  60182  Female  49.0             0              0          Yes   \n",
              "4   1665  Female  79.0             1              0          Yes   \n",
              "\n",
              "       work_type Residence_type  avg_glucose_level   bmi   smoking_status  \\\n",
              "0        Private          Urban             228.69  36.6  formerly smoked   \n",
              "1  Self-employed          Rural             202.21   NaN     never smoked   \n",
              "2        Private          Rural             105.92  32.5     never smoked   \n",
              "3        Private          Urban             171.23  34.4           smokes   \n",
              "4  Self-employed          Rural             174.12  24.0     never smoked   \n",
              "\n",
              "   stroke  \n",
              "0       1  \n",
              "1       1  \n",
              "2       1  \n",
              "3       1  \n",
              "4       1  "
            ],
            "text/html": [
              "\n",
              "  <div id=\"df-239e2fa5-dff5-4931-b36c-7018277576f3\">\n",
              "    <div class=\"colab-df-container\">\n",
              "      <div>\n",
              "<style scoped>\n",
              "    .dataframe tbody tr th:only-of-type {\n",
              "        vertical-align: middle;\n",
              "    }\n",
              "\n",
              "    .dataframe tbody tr th {\n",
              "        vertical-align: top;\n",
              "    }\n",
              "\n",
              "    .dataframe thead th {\n",
              "        text-align: right;\n",
              "    }\n",
              "</style>\n",
              "<table border=\"1\" class=\"dataframe\">\n",
              "  <thead>\n",
              "    <tr style=\"text-align: right;\">\n",
              "      <th></th>\n",
              "      <th>id</th>\n",
              "      <th>gender</th>\n",
              "      <th>age</th>\n",
              "      <th>hypertension</th>\n",
              "      <th>heart_disease</th>\n",
              "      <th>ever_married</th>\n",
              "      <th>work_type</th>\n",
              "      <th>Residence_type</th>\n",
              "      <th>avg_glucose_level</th>\n",
              "      <th>bmi</th>\n",
              "      <th>smoking_status</th>\n",
              "      <th>stroke</th>\n",
              "    </tr>\n",
              "  </thead>\n",
              "  <tbody>\n",
              "    <tr>\n",
              "      <th>0</th>\n",
              "      <td>9046</td>\n",
              "      <td>Male</td>\n",
              "      <td>67.0</td>\n",
              "      <td>0</td>\n",
              "      <td>1</td>\n",
              "      <td>Yes</td>\n",
              "      <td>Private</td>\n",
              "      <td>Urban</td>\n",
              "      <td>228.69</td>\n",
              "      <td>36.6</td>\n",
              "      <td>formerly smoked</td>\n",
              "      <td>1</td>\n",
              "    </tr>\n",
              "    <tr>\n",
              "      <th>1</th>\n",
              "      <td>51676</td>\n",
              "      <td>Female</td>\n",
              "      <td>61.0</td>\n",
              "      <td>0</td>\n",
              "      <td>0</td>\n",
              "      <td>Yes</td>\n",
              "      <td>Self-employed</td>\n",
              "      <td>Rural</td>\n",
              "      <td>202.21</td>\n",
              "      <td>NaN</td>\n",
              "      <td>never smoked</td>\n",
              "      <td>1</td>\n",
              "    </tr>\n",
              "    <tr>\n",
              "      <th>2</th>\n",
              "      <td>31112</td>\n",
              "      <td>Male</td>\n",
              "      <td>80.0</td>\n",
              "      <td>0</td>\n",
              "      <td>1</td>\n",
              "      <td>Yes</td>\n",
              "      <td>Private</td>\n",
              "      <td>Rural</td>\n",
              "      <td>105.92</td>\n",
              "      <td>32.5</td>\n",
              "      <td>never smoked</td>\n",
              "      <td>1</td>\n",
              "    </tr>\n",
              "    <tr>\n",
              "      <th>3</th>\n",
              "      <td>60182</td>\n",
              "      <td>Female</td>\n",
              "      <td>49.0</td>\n",
              "      <td>0</td>\n",
              "      <td>0</td>\n",
              "      <td>Yes</td>\n",
              "      <td>Private</td>\n",
              "      <td>Urban</td>\n",
              "      <td>171.23</td>\n",
              "      <td>34.4</td>\n",
              "      <td>smokes</td>\n",
              "      <td>1</td>\n",
              "    </tr>\n",
              "    <tr>\n",
              "      <th>4</th>\n",
              "      <td>1665</td>\n",
              "      <td>Female</td>\n",
              "      <td>79.0</td>\n",
              "      <td>1</td>\n",
              "      <td>0</td>\n",
              "      <td>Yes</td>\n",
              "      <td>Self-employed</td>\n",
              "      <td>Rural</td>\n",
              "      <td>174.12</td>\n",
              "      <td>24.0</td>\n",
              "      <td>never smoked</td>\n",
              "      <td>1</td>\n",
              "    </tr>\n",
              "  </tbody>\n",
              "</table>\n",
              "</div>\n",
              "      <button class=\"colab-df-convert\" onclick=\"convertToInteractive('df-239e2fa5-dff5-4931-b36c-7018277576f3')\"\n",
              "              title=\"Convert this dataframe to an interactive table.\"\n",
              "              style=\"display:none;\">\n",
              "        \n",
              "  <svg xmlns=\"http://www.w3.org/2000/svg\" height=\"24px\"viewBox=\"0 0 24 24\"\n",
              "       width=\"24px\">\n",
              "    <path d=\"M0 0h24v24H0V0z\" fill=\"none\"/>\n",
              "    <path d=\"M18.56 5.44l.94 2.06.94-2.06 2.06-.94-2.06-.94-.94-2.06-.94 2.06-2.06.94zm-11 1L8.5 8.5l.94-2.06 2.06-.94-2.06-.94L8.5 2.5l-.94 2.06-2.06.94zm10 10l.94 2.06.94-2.06 2.06-.94-2.06-.94-.94-2.06-.94 2.06-2.06.94z\"/><path d=\"M17.41 7.96l-1.37-1.37c-.4-.4-.92-.59-1.43-.59-.52 0-1.04.2-1.43.59L10.3 9.45l-7.72 7.72c-.78.78-.78 2.05 0 2.83L4 21.41c.39.39.9.59 1.41.59.51 0 1.02-.2 1.41-.59l7.78-7.78 2.81-2.81c.8-.78.8-2.07 0-2.86zM5.41 20L4 18.59l7.72-7.72 1.47 1.35L5.41 20z\"/>\n",
              "  </svg>\n",
              "      </button>\n",
              "      \n",
              "  <style>\n",
              "    .colab-df-container {\n",
              "      display:flex;\n",
              "      flex-wrap:wrap;\n",
              "      gap: 12px;\n",
              "    }\n",
              "\n",
              "    .colab-df-convert {\n",
              "      background-color: #E8F0FE;\n",
              "      border: none;\n",
              "      border-radius: 50%;\n",
              "      cursor: pointer;\n",
              "      display: none;\n",
              "      fill: #1967D2;\n",
              "      height: 32px;\n",
              "      padding: 0 0 0 0;\n",
              "      width: 32px;\n",
              "    }\n",
              "\n",
              "    .colab-df-convert:hover {\n",
              "      background-color: #E2EBFA;\n",
              "      box-shadow: 0px 1px 2px rgba(60, 64, 67, 0.3), 0px 1px 3px 1px rgba(60, 64, 67, 0.15);\n",
              "      fill: #174EA6;\n",
              "    }\n",
              "\n",
              "    [theme=dark] .colab-df-convert {\n",
              "      background-color: #3B4455;\n",
              "      fill: #D2E3FC;\n",
              "    }\n",
              "\n",
              "    [theme=dark] .colab-df-convert:hover {\n",
              "      background-color: #434B5C;\n",
              "      box-shadow: 0px 1px 3px 1px rgba(0, 0, 0, 0.15);\n",
              "      filter: drop-shadow(0px 1px 2px rgba(0, 0, 0, 0.3));\n",
              "      fill: #FFFFFF;\n",
              "    }\n",
              "  </style>\n",
              "\n",
              "      <script>\n",
              "        const buttonEl =\n",
              "          document.querySelector('#df-239e2fa5-dff5-4931-b36c-7018277576f3 button.colab-df-convert');\n",
              "        buttonEl.style.display =\n",
              "          google.colab.kernel.accessAllowed ? 'block' : 'none';\n",
              "\n",
              "        async function convertToInteractive(key) {\n",
              "          const element = document.querySelector('#df-239e2fa5-dff5-4931-b36c-7018277576f3');\n",
              "          const dataTable =\n",
              "            await google.colab.kernel.invokeFunction('convertToInteractive',\n",
              "                                                     [key], {});\n",
              "          if (!dataTable) return;\n",
              "\n",
              "          const docLinkHtml = 'Like what you see? Visit the ' +\n",
              "            '<a target=\"_blank\" href=https://colab.research.google.com/notebooks/data_table.ipynb>data table notebook</a>'\n",
              "            + ' to learn more about interactive tables.';\n",
              "          element.innerHTML = '';\n",
              "          dataTable['output_type'] = 'display_data';\n",
              "          await google.colab.output.renderOutput(dataTable, element);\n",
              "          const docLink = document.createElement('div');\n",
              "          docLink.innerHTML = docLinkHtml;\n",
              "          element.appendChild(docLink);\n",
              "        }\n",
              "      </script>\n",
              "    </div>\n",
              "  </div>\n",
              "  "
            ]
          },
          "metadata": {},
          "execution_count": 6
        }
      ]
    },
    {
      "cell_type": "code",
      "source": [
        "#as we can see id is not seems important to predict the outcome so first we will drop the id column\n",
        "df.drop('id',axis=1,inplace=True)"
      ],
      "metadata": {
        "id": "DRX8InzR06lk"
      },
      "execution_count": null,
      "outputs": []
    },
    {
      "cell_type": "code",
      "source": [
        "#now to visualise the null value\n",
        "sns.heatmap(df.isnull())\n",
        "plt.show()"
      ],
      "metadata": {
        "colab": {
          "base_uri": "https://localhost:8080/",
          "height": 351
        },
        "id": "XDEfq3Gj7exY",
        "outputId": "3b272685-6c92-4c91-db44-41384400e7bc"
      },
      "execution_count": null,
      "outputs": [
        {
          "output_type": "display_data",
          "data": {
            "text/plain": [
              "<Figure size 432x288 with 2 Axes>"
            ],
            "image/png": "[encoded data removed]"
          },
          "metadata": {
            "needs_background": "light"
          }
        }
      ]
    },
    {
      "cell_type": "code",
      "source": [
        "#as we already check the null value is less than 50% so we will fill the null value with the median\n",
        "#now we will fill the null value with the median\n",
        "m=df['bmi'].median()\n",
        "print(m)\n",
        "df['bmi'].fillna(m,inplace=True)"
      ],
      "metadata": {
        "colab": {
          "base_uri": "https://localhost:8080/"
        },
        "id": "hqor_Ous7gnn",
        "outputId": "63c6358e-501b-45c9-b1f8-6f314eaf05d2"
      },
      "execution_count": null,
      "outputs": [
        {
          "output_type": "stream",
          "name": "stdout",
          "text": [
            "28.1\n"
          ]
        }
      ]
    },
    {
      "cell_type": "code",
      "source": [
        "df.head(5)"
      ],
      "metadata": {
        "colab": {
          "base_uri": "https://localhost:8080/",
          "height": 206
        },
        "id": "X_qQijwU7jUF",
        "outputId": "4350d89f-081e-44a5-c727-1ee612e7a311"
      },
      "execution_count": null,
      "outputs": [
        {
          "output_type": "execute_result",
          "data": {
            "text/plain": [
              "   gender   age  hypertension  heart_disease ever_married      work_type  \\\n",
              "0    Male  67.0             0              1          Yes        Private   \n",
              "1  Female  61.0             0              0          Yes  Self-employed   \n",
              "2    Male  80.0             0              1          Yes        Private   \n",
              "3  Female  49.0             0              0          Yes        Private   \n",
              "4  Female  79.0             1              0          Yes  Self-employed   \n",
              "\n",
              "  Residence_type  avg_glucose_level   bmi   smoking_status  stroke  \n",
              "0          Urban             228.69  36.6  formerly smoked       1  \n",
              "1          Rural             202.21  28.1     never smoked       1  \n",
              "2          Rural             105.92  32.5     never smoked       1  \n",
              "3          Urban             171.23  34.4           smokes       1  \n",
              "4          Rural             174.12  24.0     never smoked       1  "
            ],
            "text/html": [
              "\n",
              "  <div id=\"df-a4c0dd3d-85fc-4fc9-aa9b-bad024ea806b\">\n",
              "    <div class=\"colab-df-container\">\n",
              "      <div>\n",
              "<style scoped>\n",
              "    .dataframe tbody tr th:only-of-type {\n",
              "        vertical-align: middle;\n",
              "    }\n",
              "\n",
              "    .dataframe tbody tr th {\n",
              "        vertical-align: top;\n",
              "    }\n",
              "\n",
              "    .dataframe thead th {\n",
              "        text-align: right;\n",
              "    }\n",
              "</style>\n",
              "<table border=\"1\" class=\"dataframe\">\n",
              "  <thead>\n",
              "    <tr style=\"text-align: right;\">\n",
              "      <th></th>\n",
              "      <th>gender</th>\n",
              "      <th>age</th>\n",
              "      <th>hypertension</th>\n",
              "      <th>heart_disease</th>\n",
              "      <th>ever_married</th>\n",
              "      <th>work_type</th>\n",
              "      <th>Residence_type</th>\n",
              "      <th>avg_glucose_level</th>\n",
              "      <th>bmi</th>\n",
              "      <th>smoking_status</th>\n",
              "      <th>stroke</th>\n",
              "    </tr>\n",
              "  </thead>\n",
              "  <tbody>\n",
              "    <tr>\n",
              "      <th>0</th>\n",
              "      <td>Male</td>\n",
              "      <td>67.0</td>\n",
              "      <td>0</td>\n",
              "      <td>1</td>\n",
              "      <td>Yes</td>\n",
              "      <td>Private</td>\n",
              "      <td>Urban</td>\n",
              "      <td>228.69</td>\n",
              "      <td>36.6</td>\n",
              "      <td>formerly smoked</td>\n",
              "      <td>1</td>\n",
              "    </tr>\n",
              "    <tr>\n",
              "      <th>1</th>\n",
              "      <td>Female</td>\n",
              "      <td>61.0</td>\n",
              "      <td>0</td>\n",
              "      <td>0</td>\n",
              "      <td>Yes</td>\n",
              "      <td>Self-employed</td>\n",
              "      <td>Rural</td>\n",
              "      <td>202.21</td>\n",
              "      <td>28.1</td>\n",
              "      <td>never smoked</td>\n",
              "      <td>1</td>\n",
              "    </tr>\n",
              "    <tr>\n",
              "      <th>2</th>\n",
              "      <td>Male</td>\n",
              "      <td>80.0</td>\n",
              "      <td>0</td>\n",
              "      <td>1</td>\n",
              "      <td>Yes</td>\n",
              "      <td>Private</td>\n",
              "      <td>Rural</td>\n",
              "      <td>105.92</td>\n",
              "      <td>32.5</td>\n",
              "      <td>never smoked</td>\n",
              "      <td>1</td>\n",
              "    </tr>\n",
              "    <tr>\n",
              "      <th>3</th>\n",
              "      <td>Female</td>\n",
              "      <td>49.0</td>\n",
              "      <td>0</td>\n",
              "      <td>0</td>\n",
              "      <td>Yes</td>\n",
              "      <td>Private</td>\n",
              "      <td>Urban</td>\n",
              "      <td>171.23</td>\n",
              "      <td>34.4</td>\n",
              "      <td>smokes</td>\n",
              "      <td>1</td>\n",
              "    </tr>\n",
              "    <tr>\n",
              "      <th>4</th>\n",
              "      <td>Female</td>\n",
              "      <td>79.0</td>\n",
              "      <td>1</td>\n",
              "      <td>0</td>\n",
              "      <td>Yes</td>\n",
              "      <td>Self-employed</td>\n",
              "      <td>Rural</td>\n",
              "      <td>174.12</td>\n",
              "      <td>24.0</td>\n",
              "      <td>never smoked</td>\n",
              "      <td>1</td>\n",
              "    </tr>\n",
              "  </tbody>\n",
              "</table>\n",
              "</div>\n",
              "      <button class=\"colab-df-convert\" onclick=\"convertToInteractive('df-a4c0dd3d-85fc-4fc9-aa9b-bad024ea806b')\"\n",
              "              title=\"Convert this dataframe to an interactive table.\"\n",
              "              style=\"display:none;\">\n",
              "        \n",
              "  <svg xmlns=\"http://www.w3.org/2000/svg\" height=\"24px\"viewBox=\"0 0 24 24\"\n",
              "       width=\"24px\">\n",
              "    <path d=\"M0 0h24v24H0V0z\" fill=\"none\"/>\n",
              "    <path d=\"M18.56 5.44l.94 2.06.94-2.06 2.06-.94-2.06-.94-.94-2.06-.94 2.06-2.06.94zm-11 1L8.5 8.5l.94-2.06 2.06-.94-2.06-.94L8.5 2.5l-.94 2.06-2.06.94zm10 10l.94 2.06.94-2.06 2.06-.94-2.06-.94-.94-2.06-.94 2.06-2.06.94z\"/><path d=\"M17.41 7.96l-1.37-1.37c-.4-.4-.92-.59-1.43-.59-.52 0-1.04.2-1.43.59L10.3 9.45l-7.72 7.72c-.78.78-.78 2.05 0 2.83L4 21.41c.39.39.9.59 1.41.59.51 0 1.02-.2 1.41-.59l7.78-7.78 2.81-2.81c.8-.78.8-2.07 0-2.86zM5.41 20L4 18.59l7.72-7.72 1.47 1.35L5.41 20z\"/>\n",
              "  </svg>\n",
              "      </button>\n",
              "      \n",
              "  <style>\n",
              "    .colab-df-container {\n",
              "      display:flex;\n",
              "      flex-wrap:wrap;\n",
              "      gap: 12px;\n",
              "    }\n",
              "\n",
              "    .colab-df-convert {\n",
              "      background-color: #E8F0FE;\n",
              "      border: none;\n",
              "      border-radius: 50%;\n",
              "      cursor: pointer;\n",
              "      display: none;\n",
              "      fill: #1967D2;\n",
              "      height: 32px;\n",
              "      padding: 0 0 0 0;\n",
              "      width: 32px;\n",
              "    }\n",
              "\n",
              "    .colab-df-convert:hover {\n",
              "      background-color: #E2EBFA;\n",
              "      box-shadow: 0px 1px 2px rgba(60, 64, 67, 0.3), 0px 1px 3px 1px rgba(60, 64, 67, 0.15);\n",
              "      fill: #174EA6;\n",
              "    }\n",
              "\n",
              "    [theme=dark] .colab-df-convert {\n",
              "      background-color: #3B4455;\n",
              "      fill: #D2E3FC;\n",
              "    }\n",
              "\n",
              "    [theme=dark] .colab-df-convert:hover {\n",
              "      background-color: #434B5C;\n",
              "      box-shadow: 0px 1px 3px 1px rgba(0, 0, 0, 0.15);\n",
              "      filter: drop-shadow(0px 1px 2px rgba(0, 0, 0, 0.3));\n",
              "      fill: #FFFFFF;\n",
              "    }\n",
              "  </style>\n",
              "\n",
              "      <script>\n",
              "        const buttonEl =\n",
              "          document.querySelector('#df-a4c0dd3d-85fc-4fc9-aa9b-bad024ea806b button.colab-df-convert');\n",
              "        buttonEl.style.display =\n",
              "          google.colab.kernel.accessAllowed ? 'block' : 'none';\n",
              "\n",
              "        async function convertToInteractive(key) {\n",
              "          const element = document.querySelector('#df-a4c0dd3d-85fc-4fc9-aa9b-bad024ea806b');\n",
              "          const dataTable =\n",
              "            await google.colab.kernel.invokeFunction('convertToInteractive',\n",
              "                                                     [key], {});\n",
              "          if (!dataTable) return;\n",
              "\n",
              "          const docLinkHtml = 'Like what you see? Visit the ' +\n",
              "            '<a target=\"_blank\" href=https://colab.research.google.com/notebooks/data_table.ipynb>data table notebook</a>'\n",
              "            + ' to learn more about interactive tables.';\n",
              "          element.innerHTML = '';\n",
              "          dataTable['output_type'] = 'display_data';\n",
              "          await google.colab.output.renderOutput(dataTable, element);\n",
              "          const docLink = document.createElement('div');\n",
              "          docLink.innerHTML = docLinkHtml;\n",
              "          element.appendChild(docLink);\n",
              "        }\n",
              "      </script>\n",
              "    </div>\n",
              "  </div>\n",
              "  "
            ]
          },
          "metadata": {},
          "execution_count": 10
        }
      ]
    },
    {
      "cell_type": "code",
      "source": [
        "#now we will check the null value once again\n",
        "df.isnull().sum()"
      ],
      "metadata": {
        "colab": {
          "base_uri": "https://localhost:8080/"
        },
        "id": "Yjcvxsb67k4E",
        "outputId": "f4353fcf-e837-4638-a61d-1a5ca5929e5d"
      },
      "execution_count": null,
      "outputs": [
        {
          "output_type": "execute_result",
          "data": {
            "text/plain": [
              "gender               0\n",
              "age                  0\n",
              "hypertension         0\n",
              "heart_disease        0\n",
              "ever_married         0\n",
              "work_type            0\n",
              "Residence_type       0\n",
              "avg_glucose_level    0\n",
              "bmi                  0\n",
              "smoking_status       0\n",
              "stroke               0\n",
              "dtype: int64"
            ]
          },
          "metadata": {},
          "execution_count": 11
        }
      ]
    },
    {
      "cell_type": "code",
      "source": [
        "#visualising the null value\n",
        "sns.heatmap(df.isnull())\n",
        "plt.show()"
      ],
      "metadata": {
        "colab": {
          "base_uri": "https://localhost:8080/",
          "height": 351
        },
        "id": "q6-Vgcp27mM4",
        "outputId": "e8fd42f5-ca6c-4350-8d6c-3811236f9835"
      },
      "execution_count": null,
      "outputs": [
        {
          "output_type": "display_data",
          "data": {
            "text/plain": [
              "<Figure size 432x288 with 2 Axes>"
            ],
            "image/png": "[encoded data removed]"
          },
          "metadata": {
            "needs_background": "light"
          }
        }
      ]
    },
    {
      "cell_type": "code",
      "source": [
        "#after handling the null value we will check the data type of dataset.\n",
        "df.dtypes"
      ],
      "metadata": {
        "colab": {
          "base_uri": "https://localhost:8080/"
        },
        "id": "eh1Rd4nj7pyD",
        "outputId": "66333732-9914-440c-d99f-ff6e23b3211b"
      },
      "execution_count": null,
      "outputs": [
        {
          "output_type": "execute_result",
          "data": {
            "text/plain": [
              "gender                object\n",
              "age                  float64\n",
              "hypertension           int64\n",
              "heart_disease          int64\n",
              "ever_married          object\n",
              "work_type             object\n",
              "Residence_type        object\n",
              "avg_glucose_level    float64\n",
              "bmi                  float64\n",
              "smoking_status        object\n",
              "stroke                 int64\n",
              "dtype: object"
            ]
          },
          "metadata": {},
          "execution_count": 13
        }
      ]
    },
    {
      "cell_type": "code",
      "source": [
        "#now we have to make sure that we should have data set in numerical form as \n",
        "#machine only understands the numbers\n",
        "#so we have to split the data which is numerical and categorical\n",
        "df_num=df.select_dtypes(['int64','float64'])\n",
        "df_cat=df.select_dtypes(object)"
      ],
      "metadata": {
        "id": "vFwZ6nc67t2k"
      },
      "execution_count": null,
      "outputs": []
    },
    {
      "cell_type": "code",
      "source": [
        "df_num.head(5)"
      ],
      "metadata": {
        "colab": {
          "base_uri": "https://localhost:8080/",
          "height": 206
        },
        "id": "Ua290DYA71AV",
        "outputId": "20ea5057-1ffd-4aaf-f7c4-c889a4347214"
      },
      "execution_count": null,
      "outputs": [
        {
          "output_type": "execute_result",
          "data": {
            "text/plain": [
              "    age  hypertension  heart_disease  avg_glucose_level   bmi  stroke\n",
              "0  67.0             0              1             228.69  36.6       1\n",
              "1  61.0             0              0             202.21  28.1       1\n",
              "2  80.0             0              1             105.92  32.5       1\n",
              "3  49.0             0              0             171.23  34.4       1\n",
              "4  79.0             1              0             174.12  24.0       1"
            ],
            "text/html": [
              "\n",
              "  <div id=\"df-1ec4dc4a-a2b3-4ef8-85db-2c7601a413ca\">\n",
              "    <div class=\"colab-df-container\">\n",
              "      <div>\n",
              "<style scoped>\n",
              "    .dataframe tbody tr th:only-of-type {\n",
              "        vertical-align: middle;\n",
              "    }\n",
              "\n",
              "    .dataframe tbody tr th {\n",
              "        vertical-align: top;\n",
              "    }\n",
              "\n",
              "    .dataframe thead th {\n",
              "        text-align: right;\n",
              "    }\n",
              "</style>\n",
              "<table border=\"1\" class=\"dataframe\">\n",
              "  <thead>\n",
              "    <tr style=\"text-align: right;\">\n",
              "      <th></th>\n",
              "      <th>age</th>\n",
              "      <th>hypertension</th>\n",
              "      <th>heart_disease</th>\n",
              "      <th>avg_glucose_level</th>\n",
              "      <th>bmi</th>\n",
              "      <th>stroke</th>\n",
              "    </tr>\n",
              "  </thead>\n",
              "  <tbody>\n",
              "    <tr>\n",
              "      <th>0</th>\n",
              "      <td>67.0</td>\n",
              "      <td>0</td>\n",
              "      <td>1</td>\n",
              "      <td>228.69</td>\n",
              "      <td>36.6</td>\n",
              "      <td>1</td>\n",
              "    </tr>\n",
              "    <tr>\n",
              "      <th>1</th>\n",
              "      <td>61.0</td>\n",
              "      <td>0</td>\n",
              "      <td>0</td>\n",
              "      <td>202.21</td>\n",
              "      <td>28.1</td>\n",
              "      <td>1</td>\n",
              "    </tr>\n",
              "    <tr>\n",
              "      <th>2</th>\n",
              "      <td>80.0</td>\n",
              "      <td>0</td>\n",
              "      <td>1</td>\n",
              "      <td>105.92</td>\n",
              "      <td>32.5</td>\n",
              "      <td>1</td>\n",
              "    </tr>\n",
              "    <tr>\n",
              "      <th>3</th>\n",
              "      <td>49.0</td>\n",
              "      <td>0</td>\n",
              "      <td>0</td>\n",
              "      <td>171.23</td>\n",
              "      <td>34.4</td>\n",
              "      <td>1</td>\n",
              "    </tr>\n",
              "    <tr>\n",
              "      <th>4</th>\n",
              "      <td>79.0</td>\n",
              "      <td>1</td>\n",
              "      <td>0</td>\n",
              "      <td>174.12</td>\n",
              "      <td>24.0</td>\n",
              "      <td>1</td>\n",
              "    </tr>\n",
              "  </tbody>\n",
              "</table>\n",
              "</div>\n",
              "      <button class=\"colab-df-convert\" onclick=\"convertToInteractive('df-1ec4dc4a-a2b3-4ef8-85db-2c7601a413ca')\"\n",
              "              title=\"Convert this dataframe to an interactive table.\"\n",
              "              style=\"display:none;\">\n",
              "        \n",
              "  <svg xmlns=\"http://www.w3.org/2000/svg\" height=\"24px\"viewBox=\"0 0 24 24\"\n",
              "       width=\"24px\">\n",
              "    <path d=\"M0 0h24v24H0V0z\" fill=\"none\"/>\n",
              "    <path d=\"M18.56 5.44l.94 2.06.94-2.06 2.06-.94-2.06-.94-.94-2.06-.94 2.06-2.06.94zm-11 1L8.5 8.5l.94-2.06 2.06-.94-2.06-.94L8.5 2.5l-.94 2.06-2.06.94zm10 10l.94 2.06.94-2.06 2.06-.94-2.06-.94-.94-2.06-.94 2.06-2.06.94z\"/><path d=\"M17.41 7.96l-1.37-1.37c-.4-.4-.92-.59-1.43-.59-.52 0-1.04.2-1.43.59L10.3 9.45l-7.72 7.72c-.78.78-.78 2.05 0 2.83L4 21.41c.39.39.9.59 1.41.59.51 0 1.02-.2 1.41-.59l7.78-7.78 2.81-2.81c.8-.78.8-2.07 0-2.86zM5.41 20L4 18.59l7.72-7.72 1.47 1.35L5.41 20z\"/>\n",
              "  </svg>\n",
              "      </button>\n",
              "      \n",
              "  <style>\n",
              "    .colab-df-container {\n",
              "      display:flex;\n",
              "      flex-wrap:wrap;\n",
              "      gap: 12px;\n",
              "    }\n",
              "\n",
              "    .colab-df-convert {\n",
              "      background-color: #E8F0FE;\n",
              "      border: none;\n",
              "      border-radius: 50%;\n",
              "      cursor: pointer;\n",
              "      display: none;\n",
              "      fill: #1967D2;\n",
              "      height: 32px;\n",
              "      padding: 0 0 0 0;\n",
              "      width: 32px;\n",
              "    }\n",
              "\n",
              "    .colab-df-convert:hover {\n",
              "      background-color: #E2EBFA;\n",
              "      box-shadow: 0px 1px 2px rgba(60, 64, 67, 0.3), 0px 1px 3px 1px rgba(60, 64, 67, 0.15);\n",
              "      fill: #174EA6;\n",
              "    }\n",
              "\n",
              "    [theme=dark] .colab-df-convert {\n",
              "      background-color: #3B4455;\n",
              "      fill: #D2E3FC;\n",
              "    }\n",
              "\n",
              "    [theme=dark] .colab-df-convert:hover {\n",
              "      background-color: #434B5C;\n",
              "      box-shadow: 0px 1px 3px 1px rgba(0, 0, 0, 0.15);\n",
              "      filter: drop-shadow(0px 1px 2px rgba(0, 0, 0, 0.3));\n",
              "      fill: #FFFFFF;\n",
              "    }\n",
              "  </style>\n",
              "\n",
              "      <script>\n",
              "        const buttonEl =\n",
              "          document.querySelector('#df-1ec4dc4a-a2b3-4ef8-85db-2c7601a413ca button.colab-df-convert');\n",
              "        buttonEl.style.display =\n",
              "          google.colab.kernel.accessAllowed ? 'block' : 'none';\n",
              "\n",
              "        async function convertToInteractive(key) {\n",
              "          const element = document.querySelector('#df-1ec4dc4a-a2b3-4ef8-85db-2c7601a413ca');\n",
              "          const dataTable =\n",
              "            await google.colab.kernel.invokeFunction('convertToInteractive',\n",
              "                                                     [key], {});\n",
              "          if (!dataTable) return;\n",
              "\n",
              "          const docLinkHtml = 'Like what you see? Visit the ' +\n",
              "            '<a target=\"_blank\" href=https://colab.research.google.com/notebooks/data_table.ipynb>data table notebook</a>'\n",
              "            + ' to learn more about interactive tables.';\n",
              "          element.innerHTML = '';\n",
              "          dataTable['output_type'] = 'display_data';\n",
              "          await google.colab.output.renderOutput(dataTable, element);\n",
              "          const docLink = document.createElement('div');\n",
              "          docLink.innerHTML = docLinkHtml;\n",
              "          element.appendChild(docLink);\n",
              "        }\n",
              "      </script>\n",
              "    </div>\n",
              "  </div>\n",
              "  "
            ]
          },
          "metadata": {},
          "execution_count": 15
        }
      ]
    },
    {
      "cell_type": "code",
      "source": [
        "df_cat.head(5)"
      ],
      "metadata": {
        "colab": {
          "base_uri": "https://localhost:8080/",
          "height": 206
        },
        "id": "1sA-x-Ft76uK",
        "outputId": "a2140194-f59a-4888-ae9a-29f92db99eee"
      },
      "execution_count": null,
      "outputs": [
        {
          "output_type": "execute_result",
          "data": {
            "text/plain": [
              "   gender ever_married      work_type Residence_type   smoking_status\n",
              "0    Male          Yes        Private          Urban  formerly smoked\n",
              "1  Female          Yes  Self-employed          Rural     never smoked\n",
              "2    Male          Yes        Private          Rural     never smoked\n",
              "3  Female          Yes        Private          Urban           smokes\n",
              "4  Female          Yes  Self-employed          Rural     never smoked"
            ],
            "text/html": [
              "\n",
              "  <div id=\"df-2a02f1cc-4a6d-4a16-b50d-3939a6686421\">\n",
              "    <div class=\"colab-df-container\">\n",
              "      <div>\n",
              "<style scoped>\n",
              "    .dataframe tbody tr th:only-of-type {\n",
              "        vertical-align: middle;\n",
              "    }\n",
              "\n",
              "    .dataframe tbody tr th {\n",
              "        vertical-align: top;\n",
              "    }\n",
              "\n",
              "    .dataframe thead th {\n",
              "        text-align: right;\n",
              "    }\n",
              "</style>\n",
              "<table border=\"1\" class=\"dataframe\">\n",
              "  <thead>\n",
              "    <tr style=\"text-align: right;\">\n",
              "      <th></th>\n",
              "      <th>gender</th>\n",
              "      <th>ever_married</th>\n",
              "      <th>work_type</th>\n",
              "      <th>Residence_type</th>\n",
              "      <th>smoking_status</th>\n",
              "    </tr>\n",
              "  </thead>\n",
              "  <tbody>\n",
              "    <tr>\n",
              "      <th>0</th>\n",
              "      <td>Male</td>\n",
              "      <td>Yes</td>\n",
              "      <td>Private</td>\n",
              "      <td>Urban</td>\n",
              "      <td>formerly smoked</td>\n",
              "    </tr>\n",
              "    <tr>\n",
              "      <th>1</th>\n",
              "      <td>Female</td>\n",
              "      <td>Yes</td>\n",
              "      <td>Self-employed</td>\n",
              "      <td>Rural</td>\n",
              "      <td>never smoked</td>\n",
              "    </tr>\n",
              "    <tr>\n",
              "      <th>2</th>\n",
              "      <td>Male</td>\n",
              "      <td>Yes</td>\n",
              "      <td>Private</td>\n",
              "      <td>Rural</td>\n",
              "      <td>never smoked</td>\n",
              "    </tr>\n",
              "    <tr>\n",
              "      <th>3</th>\n",
              "      <td>Female</td>\n",
              "      <td>Yes</td>\n",
              "      <td>Private</td>\n",
              "      <td>Urban</td>\n",
              "      <td>smokes</td>\n",
              "    </tr>\n",
              "    <tr>\n",
              "      <th>4</th>\n",
              "      <td>Female</td>\n",
              "      <td>Yes</td>\n",
              "      <td>Self-employed</td>\n",
              "      <td>Rural</td>\n",
              "      <td>never smoked</td>\n",
              "    </tr>\n",
              "  </tbody>\n",
              "</table>\n",
              "</div>\n",
              "      <button class=\"colab-df-convert\" onclick=\"convertToInteractive('df-2a02f1cc-4a6d-4a16-b50d-3939a6686421')\"\n",
              "              title=\"Convert this dataframe to an interactive table.\"\n",
              "              style=\"display:none;\">\n",
              "        \n",
              "  <svg xmlns=\"http://www.w3.org/2000/svg\" height=\"24px\"viewBox=\"0 0 24 24\"\n",
              "       width=\"24px\">\n",
              "    <path d=\"M0 0h24v24H0V0z\" fill=\"none\"/>\n",
              "    <path d=\"M18.56 5.44l.94 2.06.94-2.06 2.06-.94-2.06-.94-.94-2.06-.94 2.06-2.06.94zm-11 1L8.5 8.5l.94-2.06 2.06-.94-2.06-.94L8.5 2.5l-.94 2.06-2.06.94zm10 10l.94 2.06.94-2.06 2.06-.94-2.06-.94-.94-2.06-.94 2.06-2.06.94z\"/><path d=\"M17.41 7.96l-1.37-1.37c-.4-.4-.92-.59-1.43-.59-.52 0-1.04.2-1.43.59L10.3 9.45l-7.72 7.72c-.78.78-.78 2.05 0 2.83L4 21.41c.39.39.9.59 1.41.59.51 0 1.02-.2 1.41-.59l7.78-7.78 2.81-2.81c.8-.78.8-2.07 0-2.86zM5.41 20L4 18.59l7.72-7.72 1.47 1.35L5.41 20z\"/>\n",
              "  </svg>\n",
              "      </button>\n",
              "      \n",
              "  <style>\n",
              "    .colab-df-container {\n",
              "      display:flex;\n",
              "      flex-wrap:wrap;\n",
              "      gap: 12px;\n",
              "    }\n",
              "\n",
              "    .colab-df-convert {\n",
              "      background-color: #E8F0FE;\n",
              "      border: none;\n",
              "      border-radius: 50%;\n",
              "      cursor: pointer;\n",
              "      display: none;\n",
              "      fill: #1967D2;\n",
              "      height: 32px;\n",
              "      padding: 0 0 0 0;\n",
              "      width: 32px;\n",
              "    }\n",
              "\n",
              "    .colab-df-convert:hover {\n",
              "      background-color: #E2EBFA;\n",
              "      box-shadow: 0px 1px 2px rgba(60, 64, 67, 0.3), 0px 1px 3px 1px rgba(60, 64, 67, 0.15);\n",
              "      fill: #174EA6;\n",
              "    }\n",
              "\n",
              "    [theme=dark] .colab-df-convert {\n",
              "      background-color: #3B4455;\n",
              "      fill: #D2E3FC;\n",
              "    }\n",
              "\n",
              "    [theme=dark] .colab-df-convert:hover {\n",
              "      background-color: #434B5C;\n",
              "      box-shadow: 0px 1px 3px 1px rgba(0, 0, 0, 0.15);\n",
              "      filter: drop-shadow(0px 1px 2px rgba(0, 0, 0, 0.3));\n",
              "      fill: #FFFFFF;\n",
              "    }\n",
              "  </style>\n",
              "\n",
              "      <script>\n",
              "        const buttonEl =\n",
              "          document.querySelector('#df-2a02f1cc-4a6d-4a16-b50d-3939a6686421 button.colab-df-convert');\n",
              "        buttonEl.style.display =\n",
              "          google.colab.kernel.accessAllowed ? 'block' : 'none';\n",
              "\n",
              "        async function convertToInteractive(key) {\n",
              "          const element = document.querySelector('#df-2a02f1cc-4a6d-4a16-b50d-3939a6686421');\n",
              "          const dataTable =\n",
              "            await google.colab.kernel.invokeFunction('convertToInteractive',\n",
              "                                                     [key], {});\n",
              "          if (!dataTable) return;\n",
              "\n",
              "          const docLinkHtml = 'Like what you see? Visit the ' +\n",
              "            '<a target=\"_blank\" href=https://colab.research.google.com/notebooks/data_table.ipynb>data table notebook</a>'\n",
              "            + ' to learn more about interactive tables.';\n",
              "          element.innerHTML = '';\n",
              "          dataTable['output_type'] = 'display_data';\n",
              "          await google.colab.output.renderOutput(dataTable, element);\n",
              "          const docLink = document.createElement('div');\n",
              "          docLink.innerHTML = docLinkHtml;\n",
              "          element.appendChild(docLink);\n",
              "        }\n",
              "      </script>\n",
              "    </div>\n",
              "  </div>\n",
              "  "
            ]
          },
          "metadata": {},
          "execution_count": 16
        }
      ]
    },
    {
      "cell_type": "code",
      "source": [
        "#now we will convert the data into numeric form by using LabelEncoder\n",
        "from sklearn.preprocessing import LabelEncoder"
      ],
      "metadata": {
        "id": "1Ee2DaFX78Cd"
      },
      "execution_count": null,
      "outputs": []
    },
    {
      "cell_type": "code",
      "source": [
        "for col in df_cat:\n",
        "    #now create object of LabelEncoder\n",
        "    le=LabelEncoder()\n",
        "    df_cat[col]=le.fit_transform(df_cat[col])"
      ],
      "metadata": {
        "id": "0OPikIgA7-DN"
      },
      "execution_count": null,
      "outputs": []
    },
    {
      "cell_type": "code",
      "source": [
        "df_cat"
      ],
      "metadata": {
        "colab": {
          "base_uri": "https://localhost:8080/",
          "height": 424
        },
        "id": "W7NGFblL7_as",
        "outputId": "47d6b79d-3e95-4dd4-8b5f-92e87124a3d1"
      },
      "execution_count": null,
      "outputs": [
        {
          "output_type": "execute_result",
          "data": {
            "text/plain": [
              "      gender  ever_married  work_type  Residence_type  smoking_status\n",
              "0          1             1          2               1               1\n",
              "1          0             1          3               0               2\n",
              "2          1             1          2               0               2\n",
              "3          0             1          2               1               3\n",
              "4          0             1          3               0               2\n",
              "...      ...           ...        ...             ...             ...\n",
              "5105       0             1          2               1               2\n",
              "5106       0             1          3               1               2\n",
              "5107       0             1          3               0               2\n",
              "5108       1             1          2               0               1\n",
              "5109       0             1          0               1               0\n",
              "\n",
              "[5110 rows x 5 columns]"
            ],
            "text/html": [
              "\n",
              "  <div id=\"df-93d044f1-f06e-4164-9f68-05bf8e2f7bf3\">\n",
              "    <div class=\"colab-df-container\">\n",
              "      <div>\n",
              "<style scoped>\n",
              "    .dataframe tbody tr th:only-of-type {\n",
              "        vertical-align: middle;\n",
              "    }\n",
              "\n",
              "    .dataframe tbody tr th {\n",
              "        vertical-align: top;\n",
              "    }\n",
              "\n",
              "    .dataframe thead th {\n",
              "        text-align: right;\n",
              "    }\n",
              "</style>\n",
              "<table border=\"1\" class=\"dataframe\">\n",
              "  <thead>\n",
              "    <tr style=\"text-align: right;\">\n",
              "      <th></th>\n",
              "      <th>gender</th>\n",
              "      <th>ever_married</th>\n",
              "      <th>work_type</th>\n",
              "      <th>Residence_type</th>\n",
              "      <th>smoking_status</th>\n",
              "    </tr>\n",
              "  </thead>\n",
              "  <tbody>\n",
              "    <tr>\n",
              "      <th>0</th>\n",
              "      <td>1</td>\n",
              "      <td>1</td>\n",
              "      <td>2</td>\n",
              "      <td>1</td>\n",
              "      <td>1</td>\n",
              "    </tr>\n",
              "    <tr>\n",
              "      <th>1</th>\n",
              "      <td>0</td>\n",
              "      <td>1</td>\n",
              "      <td>3</td>\n",
              "      <td>0</td>\n",
              "      <td>2</td>\n",
              "    </tr>\n",
              "    <tr>\n",
              "      <th>2</th>\n",
              "      <td>1</td>\n",
              "      <td>1</td>\n",
              "      <td>2</td>\n",
              "      <td>0</td>\n",
              "      <td>2</td>\n",
              "    </tr>\n",
              "    <tr>\n",
              "      <th>3</th>\n",
              "      <td>0</td>\n",
              "      <td>1</td>\n",
              "      <td>2</td>\n",
              "      <td>1</td>\n",
              "      <td>3</td>\n",
              "    </tr>\n",
              "    <tr>\n",
              "      <th>4</th>\n",
              "      <td>0</td>\n",
              "      <td>1</td>\n",
              "      <td>3</td>\n",
              "      <td>0</td>\n",
              "      <td>2</td>\n",
              "    </tr>\n",
              "    <tr>\n",
              "      <th>...</th>\n",
              "      <td>...</td>\n",
              "      <td>...</td>\n",
              "      <td>...</td>\n",
              "      <td>...</td>\n",
              "      <td>...</td>\n",
              "    </tr>\n",
              "    <tr>\n",
              "      <th>5105</th>\n",
              "      <td>0</td>\n",
              "      <td>1</td>\n",
              "      <td>2</td>\n",
              "      <td>1</td>\n",
              "      <td>2</td>\n",
              "    </tr>\n",
              "    <tr>\n",
              "      <th>5106</th>\n",
              "      <td>0</td>\n",
              "      <td>1</td>\n",
              "      <td>3</td>\n",
              "      <td>1</td>\n",
              "      <td>2</td>\n",
              "    </tr>\n",
              "    <tr>\n",
              "      <th>5107</th>\n",
              "      <td>0</td>\n",
              "      <td>1</td>\n",
              "      <td>3</td>\n",
              "      <td>0</td>\n",
              "      <td>2</td>\n",
              "    </tr>\n",
              "    <tr>\n",
              "      <th>5108</th>\n",
              "      <td>1</td>\n",
              "      <td>1</td>\n",
              "      <td>2</td>\n",
              "      <td>0</td>\n",
              "      <td>1</td>\n",
              "    </tr>\n",
              "    <tr>\n",
              "      <th>5109</th>\n",
              "      <td>0</td>\n",
              "      <td>1</td>\n",
              "      <td>0</td>\n",
              "      <td>1</td>\n",
              "      <td>0</td>\n",
              "    </tr>\n",
              "  </tbody>\n",
              "</table>\n",
              "<p>5110 rows × 5 columns</p>\n",
              "</div>\n",
              "      <button class=\"colab-df-convert\" onclick=\"convertToInteractive('df-93d044f1-f06e-4164-9f68-05bf8e2f7bf3')\"\n",
              "              title=\"Convert this dataframe to an interactive table.\"\n",
              "              style=\"display:none;\">\n",
              "        \n",
              "  <svg xmlns=\"http://www.w3.org/2000/svg\" height=\"24px\"viewBox=\"0 0 24 24\"\n",
              "       width=\"24px\">\n",
              "    <path d=\"M0 0h24v24H0V0z\" fill=\"none\"/>\n",
              "    <path d=\"M18.56 5.44l.94 2.06.94-2.06 2.06-.94-2.06-.94-.94-2.06-.94 2.06-2.06.94zm-11 1L8.5 8.5l.94-2.06 2.06-.94-2.06-.94L8.5 2.5l-.94 2.06-2.06.94zm10 10l.94 2.06.94-2.06 2.06-.94-2.06-.94-.94-2.06-.94 2.06-2.06.94z\"/><path d=\"M17.41 7.96l-1.37-1.37c-.4-.4-.92-.59-1.43-.59-.52 0-1.04.2-1.43.59L10.3 9.45l-7.72 7.72c-.78.78-.78 2.05 0 2.83L4 21.41c.39.39.9.59 1.41.59.51 0 1.02-.2 1.41-.59l7.78-7.78 2.81-2.81c.8-.78.8-2.07 0-2.86zM5.41 20L4 18.59l7.72-7.72 1.47 1.35L5.41 20z\"/>\n",
              "  </svg>\n",
              "      </button>\n",
              "      \n",
              "  <style>\n",
              "    .colab-df-container {\n",
              "      display:flex;\n",
              "      flex-wrap:wrap;\n",
              "      gap: 12px;\n",
              "    }\n",
              "\n",
              "    .colab-df-convert {\n",
              "      background-color: #E8F0FE;\n",
              "      border: none;\n",
              "      border-radius: 50%;\n",
              "      cursor: pointer;\n",
              "      display: none;\n",
              "      fill: #1967D2;\n",
              "      height: 32px;\n",
              "      padding: 0 0 0 0;\n",
              "      width: 32px;\n",
              "    }\n",
              "\n",
              "    .colab-df-convert:hover {\n",
              "      background-color: #E2EBFA;\n",
              "      box-shadow: 0px 1px 2px rgba(60, 64, 67, 0.3), 0px 1px 3px 1px rgba(60, 64, 67, 0.15);\n",
              "      fill: #174EA6;\n",
              "    }\n",
              "\n",
              "    [theme=dark] .colab-df-convert {\n",
              "      background-color: #3B4455;\n",
              "      fill: #D2E3FC;\n",
              "    }\n",
              "\n",
              "    [theme=dark] .colab-df-convert:hover {\n",
              "      background-color: #434B5C;\n",
              "      box-shadow: 0px 1px 3px 1px rgba(0, 0, 0, 0.15);\n",
              "      filter: drop-shadow(0px 1px 2px rgba(0, 0, 0, 0.3));\n",
              "      fill: #FFFFFF;\n",
              "    }\n",
              "  </style>\n",
              "\n",
              "      <script>\n",
              "        const buttonEl =\n",
              "          document.querySelector('#df-93d044f1-f06e-4164-9f68-05bf8e2f7bf3 button.colab-df-convert');\n",
              "        buttonEl.style.display =\n",
              "          google.colab.kernel.accessAllowed ? 'block' : 'none';\n",
              "\n",
              "        async function convertToInteractive(key) {\n",
              "          const element = document.querySelector('#df-93d044f1-f06e-4164-9f68-05bf8e2f7bf3');\n",
              "          const dataTable =\n",
              "            await google.colab.kernel.invokeFunction('convertToInteractive',\n",
              "                                                     [key], {});\n",
              "          if (!dataTable) return;\n",
              "\n",
              "          const docLinkHtml = 'Like what you see? Visit the ' +\n",
              "            '<a target=\"_blank\" href=https://colab.research.google.com/notebooks/data_table.ipynb>data table notebook</a>'\n",
              "            + ' to learn more about interactive tables.';\n",
              "          element.innerHTML = '';\n",
              "          dataTable['output_type'] = 'display_data';\n",
              "          await google.colab.output.renderOutput(dataTable, element);\n",
              "          const docLink = document.createElement('div');\n",
              "          docLink.innerHTML = docLinkHtml;\n",
              "          element.appendChild(docLink);\n",
              "        }\n",
              "      </script>\n",
              "    </div>\n",
              "  </div>\n",
              "  "
            ]
          },
          "metadata": {},
          "execution_count": 19
        }
      ]
    },
    {
      "cell_type": "code",
      "source": [
        "#noe we can check the data type of df_cat which was categorical data\n",
        "df_cat.dtypes"
      ],
      "metadata": {
        "colab": {
          "base_uri": "https://localhost:8080/"
        },
        "id": "rkW8f4RI8Bdb",
        "outputId": "f9cf626a-3b7d-4213-e930-2722e6051af2"
      },
      "execution_count": null,
      "outputs": [
        {
          "output_type": "execute_result",
          "data": {
            "text/plain": [
              "gender            int64\n",
              "ever_married      int64\n",
              "work_type         int64\n",
              "Residence_type    int64\n",
              "smoking_status    int64\n",
              "dtype: object"
            ]
          },
          "metadata": {},
          "execution_count": 20
        }
      ]
    },
    {
      "cell_type": "code",
      "source": [
        "#after converting the complete dataset into numerical data types we need to \n",
        "#concatenate df_cat and df_num\n",
        "df_new=pd.concat([df_num,df_cat],axis=1)\n",
        "df_new.head(5)"
      ],
      "metadata": {
        "colab": {
          "base_uri": "https://localhost:8080/",
          "height": 206
        },
        "id": "VS6dVdXS8DZQ",
        "outputId": "4787072f-73db-4f0c-bdc4-ad53a4d7c0f1"
      },
      "execution_count": null,
      "outputs": [
        {
          "output_type": "execute_result",
          "data": {
            "text/plain": [
              "    age  hypertension  heart_disease  avg_glucose_level   bmi  stroke  gender  \\\n",
              "0  67.0             0              1             228.69  36.6       1       1   \n",
              "1  61.0             0              0             202.21  28.1       1       0   \n",
              "2  80.0             0              1             105.92  32.5       1       1   \n",
              "3  49.0             0              0             171.23  34.4       1       0   \n",
              "4  79.0             1              0             174.12  24.0       1       0   \n",
              "\n",
              "   ever_married  work_type  Residence_type  smoking_status  \n",
              "0             1          2               1               1  \n",
              "1             1          3               0               2  \n",
              "2             1          2               0               2  \n",
              "3             1          2               1               3  \n",
              "4             1          3               0               2  "
            ],
            "text/html": [
              "\n",
              "  <div id=\"df-67df052c-5c9d-42d4-95be-e7dfd109e219\">\n",
              "    <div class=\"colab-df-container\">\n",
              "      <div>\n",
              "<style scoped>\n",
              "    .dataframe tbody tr th:only-of-type {\n",
              "        vertical-align: middle;\n",
              "    }\n",
              "\n",
              "    .dataframe tbody tr th {\n",
              "        vertical-align: top;\n",
              "    }\n",
              "\n",
              "    .dataframe thead th {\n",
              "        text-align: right;\n",
              "    }\n",
              "</style>\n",
              "<table border=\"1\" class=\"dataframe\">\n",
              "  <thead>\n",
              "    <tr style=\"text-align: right;\">\n",
              "      <th></th>\n",
              "      <th>age</th>\n",
              "      <th>hypertension</th>\n",
              "      <th>heart_disease</th>\n",
              "      <th>avg_glucose_level</th>\n",
              "      <th>bmi</th>\n",
              "      <th>stroke</th>\n",
              "      <th>gender</th>\n",
              "      <th>ever_married</th>\n",
              "      <th>work_type</th>\n",
              "      <th>Residence_type</th>\n",
              "      <th>smoking_status</th>\n",
              "    </tr>\n",
              "  </thead>\n",
              "  <tbody>\n",
              "    <tr>\n",
              "      <th>0</th>\n",
              "      <td>67.0</td>\n",
              "      <td>0</td>\n",
              "      <td>1</td>\n",
              "      <td>228.69</td>\n",
              "      <td>36.6</td>\n",
              "      <td>1</td>\n",
              "      <td>1</td>\n",
              "      <td>1</td>\n",
              "      <td>2</td>\n",
              "      <td>1</td>\n",
              "      <td>1</td>\n",
              "    </tr>\n",
              "    <tr>\n",
              "      <th>1</th>\n",
              "      <td>61.0</td>\n",
              "      <td>0</td>\n",
              "      <td>0</td>\n",
              "      <td>202.21</td>\n",
              "      <td>28.1</td>\n",
              "      <td>1</td>\n",
              "      <td>0</td>\n",
              "      <td>1</td>\n",
              "      <td>3</td>\n",
              "      <td>0</td>\n",
              "      <td>2</td>\n",
              "    </tr>\n",
              "    <tr>\n",
              "      <th>2</th>\n",
              "      <td>80.0</td>\n",
              "      <td>0</td>\n",
              "      <td>1</td>\n",
              "      <td>105.92</td>\n",
              "      <td>32.5</td>\n",
              "      <td>1</td>\n",
              "      <td>1</td>\n",
              "      <td>1</td>\n",
              "      <td>2</td>\n",
              "      <td>0</td>\n",
              "      <td>2</td>\n",
              "    </tr>\n",
              "    <tr>\n",
              "      <th>3</th>\n",
              "      <td>49.0</td>\n",
              "      <td>0</td>\n",
              "      <td>0</td>\n",
              "      <td>171.23</td>\n",
              "      <td>34.4</td>\n",
              "      <td>1</td>\n",
              "      <td>0</td>\n",
              "      <td>1</td>\n",
              "      <td>2</td>\n",
              "      <td>1</td>\n",
              "      <td>3</td>\n",
              "    </tr>\n",
              "    <tr>\n",
              "      <th>4</th>\n",
              "      <td>79.0</td>\n",
              "      <td>1</td>\n",
              "      <td>0</td>\n",
              "      <td>174.12</td>\n",
              "      <td>24.0</td>\n",
              "      <td>1</td>\n",
              "      <td>0</td>\n",
              "      <td>1</td>\n",
              "      <td>3</td>\n",
              "      <td>0</td>\n",
              "      <td>2</td>\n",
              "    </tr>\n",
              "  </tbody>\n",
              "</table>\n",
              "</div>\n",
              "      <button class=\"colab-df-convert\" onclick=\"convertToInteractive('df-67df052c-5c9d-42d4-95be-e7dfd109e219')\"\n",
              "              title=\"Convert this dataframe to an interactive table.\"\n",
              "              style=\"display:none;\">\n",
              "        \n",
              "  <svg xmlns=\"http://www.w3.org/2000/svg\" height=\"24px\"viewBox=\"0 0 24 24\"\n",
              "       width=\"24px\">\n",
              "    <path d=\"M0 0h24v24H0V0z\" fill=\"none\"/>\n",
              "    <path d=\"M18.56 5.44l.94 2.06.94-2.06 2.06-.94-2.06-.94-.94-2.06-.94 2.06-2.06.94zm-11 1L8.5 8.5l.94-2.06 2.06-.94-2.06-.94L8.5 2.5l-.94 2.06-2.06.94zm10 10l.94 2.06.94-2.06 2.06-.94-2.06-.94-.94-2.06-.94 2.06-2.06.94z\"/><path d=\"M17.41 7.96l-1.37-1.37c-.4-.4-.92-.59-1.43-.59-.52 0-1.04.2-1.43.59L10.3 9.45l-7.72 7.72c-.78.78-.78 2.05 0 2.83L4 21.41c.39.39.9.59 1.41.59.51 0 1.02-.2 1.41-.59l7.78-7.78 2.81-2.81c.8-.78.8-2.07 0-2.86zM5.41 20L4 18.59l7.72-7.72 1.47 1.35L5.41 20z\"/>\n",
              "  </svg>\n",
              "      </button>\n",
              "      \n",
              "  <style>\n",
              "    .colab-df-container {\n",
              "      display:flex;\n",
              "      flex-wrap:wrap;\n",
              "      gap: 12px;\n",
              "    }\n",
              "\n",
              "    .colab-df-convert {\n",
              "      background-color: #E8F0FE;\n",
              "      border: none;\n",
              "      border-radius: 50%;\n",
              "      cursor: pointer;\n",
              "      display: none;\n",
              "      fill: #1967D2;\n",
              "      height: 32px;\n",
              "      padding: 0 0 0 0;\n",
              "      width: 32px;\n",
              "    }\n",
              "\n",
              "    .colab-df-convert:hover {\n",
              "      background-color: #E2EBFA;\n",
              "      box-shadow: 0px 1px 2px rgba(60, 64, 67, 0.3), 0px 1px 3px 1px rgba(60, 64, 67, 0.15);\n",
              "      fill: #174EA6;\n",
              "    }\n",
              "\n",
              "    [theme=dark] .colab-df-convert {\n",
              "      background-color: #3B4455;\n",
              "      fill: #D2E3FC;\n",
              "    }\n",
              "\n",
              "    [theme=dark] .colab-df-convert:hover {\n",
              "      background-color: #434B5C;\n",
              "      box-shadow: 0px 1px 3px 1px rgba(0, 0, 0, 0.15);\n",
              "      filter: drop-shadow(0px 1px 2px rgba(0, 0, 0, 0.3));\n",
              "      fill: #FFFFFF;\n",
              "    }\n",
              "  </style>\n",
              "\n",
              "      <script>\n",
              "        const buttonEl =\n",
              "          document.querySelector('#df-67df052c-5c9d-42d4-95be-e7dfd109e219 button.colab-df-convert');\n",
              "        buttonEl.style.display =\n",
              "          google.colab.kernel.accessAllowed ? 'block' : 'none';\n",
              "\n",
              "        async function convertToInteractive(key) {\n",
              "          const element = document.querySelector('#df-67df052c-5c9d-42d4-95be-e7dfd109e219');\n",
              "          const dataTable =\n",
              "            await google.colab.kernel.invokeFunction('convertToInteractive',\n",
              "                                                     [key], {});\n",
              "          if (!dataTable) return;\n",
              "\n",
              "          const docLinkHtml = 'Like what you see? Visit the ' +\n",
              "            '<a target=\"_blank\" href=https://colab.research.google.com/notebooks/data_table.ipynb>data table notebook</a>'\n",
              "            + ' to learn more about interactive tables.';\n",
              "          element.innerHTML = '';\n",
              "          dataTable['output_type'] = 'display_data';\n",
              "          await google.colab.output.renderOutput(dataTable, element);\n",
              "          const docLink = document.createElement('div');\n",
              "          docLink.innerHTML = docLinkHtml;\n",
              "          element.appendChild(docLink);\n",
              "        }\n",
              "      </script>\n",
              "    </div>\n",
              "  </div>\n",
              "  "
            ]
          },
          "metadata": {},
          "execution_count": 21
        }
      ]
    },
    {
      "cell_type": "code",
      "source": [
        "!pip install imblearn"
      ],
      "metadata": {
        "colab": {
          "base_uri": "https://localhost:8080/"
        },
        "id": "NCSw2R5_8FRm",
        "outputId": "bb92bfdc-303f-4183-941f-eb266219cc2a"
      },
      "execution_count": null,
      "outputs": [
        {
          "output_type": "stream",
          "name": "stdout",
          "text": [
            "Looking in indexes: https://pypi.org/simple, https://us-python.pkg.dev/colab-wheels/public/simple/\n",
            "Requirement already satisfied: imblearn in /usr/local/lib/python3.7/dist-packages (0.0)\n",
            "Requirement already satisfied: imbalanced-learn in /usr/local/lib/python3.7/dist-packages (from imblearn) (0.8.1)\n",
            "Requirement already satisfied: numpy>=1.13.3 in /usr/local/lib/python3.7/dist-packages (from imbalanced-learn->imblearn) (1.21.6)\n",
            "Requirement already satisfied: scipy>=0.19.1 in /usr/local/lib/python3.7/dist-packages (from imbalanced-learn->imblearn) (1.7.3)\n",
            "Requirement already satisfied: joblib>=0.11 in /usr/local/lib/python3.7/dist-packages (from imbalanced-learn->imblearn) (1.1.0)\n",
            "Requirement already satisfied: scikit-learn>=0.24 in /usr/local/lib/python3.7/dist-packages (from imbalanced-learn->imblearn) (1.0.2)\n",
            "Requirement already satisfied: threadpoolctl>=2.0.0 in /usr/local/lib/python3.7/dist-packages (from scikit-learn>=0.24->imbalanced-learn->imblearn) (3.1.0)\n"
          ]
        }
      ]
    },
    {
      "cell_type": "code",
      "source": [
        "# here we use RandomOverSampling inbuilt class\n",
        "#that means we will craete a duplicate minority class till it match the level of \n",
        "#majority class\n",
        "from imblearn.over_sampling import RandomOverSampler"
      ],
      "metadata": {
        "id": "Ef_7T1yK9d9F"
      },
      "execution_count": null,
      "outputs": []
    },
    {
      "cell_type": "code",
      "source": [
        "# Check how many samples of class 0 and 1 class in stroke\n",
        "df_new['stroke'].value_counts()"
      ],
      "metadata": {
        "colab": {
          "base_uri": "https://localhost:8080/"
        },
        "id": "Wtyhpshu9jX_",
        "outputId": "6695b435-c86d-46d5-d880-bd5eb7618fcc"
      },
      "execution_count": null,
      "outputs": [
        {
          "output_type": "execute_result",
          "data": {
            "text/plain": [
              "0    4861\n",
              "1     249\n",
              "Name: stroke, dtype: int64"
            ]
          },
          "metadata": {},
          "execution_count": 24
        }
      ]
    },
    {
      "cell_type": "code",
      "source": [
        "##select input and output\n",
        "x=df_new.drop('stroke',axis=1) #input\n",
        "y=df_new['stroke'] # output"
      ],
      "metadata": {
        "id": "QbC_QVs8_V4L"
      },
      "execution_count": null,
      "outputs": []
    },
    {
      "cell_type": "code",
      "source": [
        "from sklearn.model_selection import train_test_split\n",
        "#train test split\n",
        "x_train,x_test,y_train,y_test=train_test_split(x,y,test_size=0.3,random_state=1)"
      ],
      "metadata": {
        "id": "KdUzkdZrDBxs"
      },
      "execution_count": null,
      "outputs": []
    },
    {
      "cell_type": "code",
      "source": [
        "#Applying Scaling \n",
        "\n",
        "from sklearn.preprocessing import StandardScaler"
      ],
      "metadata": {
        "id": "i8ZRTbyqDJzy"
      },
      "execution_count": null,
      "outputs": []
    },
    {
      "cell_type": "code",
      "source": [
        "#Creating object of StandardScaler Class\n",
        "\n",
        "ss=StandardScaler()\n",
        "x_train=ss.fit_transform(x_train)\n",
        "x_test=ss.transform(x_test)"
      ],
      "metadata": {
        "id": "WO7YzWpLDL84"
      },
      "execution_count": null,
      "outputs": []
    },
    {
      "cell_type": "code",
      "source": [
        "df_new['gender'].value_counts()"
      ],
      "metadata": {
        "colab": {
          "base_uri": "https://localhost:8080/"
        },
        "id": "FeGbLvNFDNXH",
        "outputId": "5ad7466c-8ed8-4bbb-c714-73efc0fe79b8"
      },
      "execution_count": null,
      "outputs": [
        {
          "output_type": "execute_result",
          "data": {
            "text/plain": [
              "0    2994\n",
              "1    2115\n",
              "2       1\n",
              "Name: gender, dtype: int64"
            ]
          },
          "metadata": {},
          "execution_count": 29
        }
      ]
    },
    {
      "cell_type": "code",
      "source": [
        "#create a nural network architecture\n",
        "import tensorflow as tf"
      ],
      "metadata": {
        "id": "P4N93UWnDsPl"
      },
      "execution_count": null,
      "outputs": []
    },
    {
      "cell_type": "code",
      "source": [
        "x.shape"
      ],
      "metadata": {
        "colab": {
          "base_uri": "https://localhost:8080/"
        },
        "id": "DszJ1JSXER8d",
        "outputId": "f44bfe71-67d6-4d4c-e43c-d6ba56017bc7"
      },
      "execution_count": null,
      "outputs": [
        {
          "output_type": "execute_result",
          "data": {
            "text/plain": [
              "(5110, 10)"
            ]
          },
          "metadata": {},
          "execution_count": 31
        }
      ]
    },
    {
      "cell_type": "code",
      "source": [
        "model=tf.keras.Sequential([\n",
        "                          tf.keras.layers.Dense(units=10,activation='relu',input_shape=(x.shape[1],)),\n",
        "                           #First hidden layer\n",
        "                           tf.keras.layers.Dense(units=10,activation='relu'), #second hidden layer\n",
        "                           tf.keras.layers.Dense(units=1,activation='sigmoid') #output layer\n",
        "])"
      ],
      "metadata": {
        "id": "kQaiIIk9EVIR"
      },
      "execution_count": null,
      "outputs": []
    },
    {
      "cell_type": "code",
      "source": [
        "#to show model summary\n",
        "model.summary()"
      ],
      "metadata": {
        "colab": {
          "base_uri": "https://localhost:8080/"
        },
        "id": "iMYQ0L0dEeXg",
        "outputId": "a033a6a7-648a-4309-845a-3e11b5154b34"
      },
      "execution_count": null,
      "outputs": [
        {
          "output_type": "stream",
          "name": "stdout",
          "text": [
            "Model: \"sequential\"\n",
            "_________________________________________________________________\n",
            " Layer (type)                Output Shape              Param #   \n",
            "=================================================================\n",
            " dense (Dense)               (None, 10)                110       \n",
            "                                                                 \n",
            " dense_1 (Dense)             (None, 10)                110       \n",
            "                                                                 \n",
            " dense_2 (Dense)             (None, 1)                 11        \n",
            "                                                                 \n",
            "=================================================================\n",
            "Total params: 231\n",
            "Trainable params: 231\n",
            "Non-trainable params: 0\n",
            "_________________________________________________________________\n"
          ]
        }
      ]
    },
    {
      "cell_type": "code",
      "source": [
        "model.layers[0].weights\n",
        "#to see weight of first hidden layer"
      ],
      "metadata": {
        "colab": {
          "base_uri": "https://localhost:8080/"
        },
        "id": "3THoJx9oEgcy",
        "outputId": "f49d15d7-9024-4895-8634-a214fd7166f5"
      },
      "execution_count": null,
      "outputs": [
        {
          "output_type": "execute_result",
          "data": {
            "text/plain": [
              "[<tf.Variable 'dense/kernel:0' shape=(10, 10) dtype=float32, numpy=\n",
              " array([[-0.0183692 , -0.15460864, -0.45090884,  0.1574319 , -0.11622134,\n",
              "          0.24810869,  0.2224347 ,  0.3387527 ,  0.4735366 ,  0.15092528],\n",
              "        [ 0.22720063, -0.42907676, -0.01807326,  0.2075389 ,  0.50121355,\n",
              "         -0.44011164,  0.5116985 , -0.47381842, -0.5213467 ,  0.2859524 ],\n",
              "        [ 0.13016856, -0.16871428, -0.2871305 ,  0.4097163 , -0.31596327,\n",
              "         -0.22016382, -0.130205  , -0.24026   , -0.24146143,  0.26075882],\n",
              "        [-0.2374345 ,  0.12541467, -0.10188168, -0.50555074,  0.5203134 ,\n",
              "         -0.25086984, -0.03180319,  0.22656417,  0.06635582, -0.53732926],\n",
              "        [-0.42894357,  0.49569833, -0.21921471,  0.08283556, -0.38851726,\n",
              "          0.12744087, -0.12598574, -0.54572797,  0.46954834,  0.25168198],\n",
              "        [-0.08665025,  0.22468942, -0.11888728, -0.33538577,  0.509032  ,\n",
              "          0.04713857, -0.29725468,  0.28840464, -0.46188262, -0.51503867],\n",
              "        [ 0.51290655,  0.23303199, -0.04501772,  0.5401565 ,  0.12170261,\n",
              "          0.1307028 , -0.5408611 , -0.19411036,  0.43641573, -0.01432526],\n",
              "        [-0.08366999,  0.18648499,  0.24002379, -0.01592028,  0.08484524,\n",
              "         -0.43761992,  0.5387993 , -0.4718869 ,  0.2717232 , -0.50528395],\n",
              "        [ 0.23646832, -0.13987997,  0.10906816, -0.22400504, -0.3802857 ,\n",
              "         -0.30984485,  0.42959595,  0.43072593,  0.25180733, -0.5325306 ],\n",
              "        [ 0.28385788,  0.21160066,  0.30842942, -0.4249254 ,  0.11816502,\n",
              "         -0.21450222, -0.4007546 ,  0.40713733,  0.12122637,  0.47768354]],\n",
              "       dtype=float32)>,\n",
              " <tf.Variable 'dense/bias:0' shape=(10,) dtype=float32, numpy=array([0., 0., 0., 0., 0., 0., 0., 0., 0., 0.], dtype=float32)>]"
            ]
          },
          "metadata": {},
          "execution_count": 34
        }
      ]
    },
    {
      "cell_type": "code",
      "source": [
        "#complie the model\n",
        "#use inbuilt method compile() of sequential class\n",
        "model.compile(optimizer='sgd',loss='binary_crossentropy',metrics=['accuracy'])\n"
      ],
      "metadata": {
        "id": "-QJB0labEnta"
      },
      "execution_count": null,
      "outputs": []
    },
    {
      "cell_type": "code",
      "source": [
        "#create ca procedure of call back\n",
        "#Early Stopping : \n",
        "#EarlyStopping : for decide epoch\n",
        "#create a procedure for callback \n",
        "from tensorflow.keras.callbacks import EarlyStopping             \n",
        "#create callback : -\n",
        "#EarlyStopping() inbuilt function\n",
        "cb=EarlyStopping(\n",
        "    monitor=\"val_loss\",  #val_loss means testing error\n",
        "    min_delta=0.00001, #value of lambda \n",
        "    patience=20,\n",
        "    verbose=1,\n",
        "    mode=\"auto\", #min loss \n",
        "    baseline=None,\n",
        "    restore_best_weights=False\n",
        ")"
      ],
      "metadata": {
        "id": "eAjOZWl0EqVh"
      },
      "execution_count": null,
      "outputs": []
    },
    {
      "cell_type": "code",
      "source": [
        "#traing the model\n",
        "trained_model=model.fit(x_train,y_train,epochs=4000,callbacks=cb,validation_data=(x_test,y_test))"
      ],
      "metadata": {
        "colab": {
          "base_uri": "https://localhost:8080/"
        },
        "id": "3f7dSJYREs7_",
        "outputId": "e2ecb5f7-9b0a-4cef-97a4-c387de75d0c5"
      },
      "execution_count": null,
      "outputs": [
        {
          "output_type": "stream",
          "name": "stdout",
          "text": [
            "Epoch 1/4000\n",
            "112/112 [==============================] - 1s 4ms/step - loss: 0.4304 - accuracy: 0.8977 - val_loss: 0.3186 - val_accuracy: 0.9459\n",
            "Epoch 2/4000\n",
            "112/112 [==============================] - 0s 2ms/step - loss: 0.2570 - accuracy: 0.9536 - val_loss: 0.2423 - val_accuracy: 0.9459\n",
            "Epoch 3/4000\n",
            "112/112 [==============================] - 0s 3ms/step - loss: 0.2093 - accuracy: 0.9536 - val_loss: 0.2202 - val_accuracy: 0.9459\n",
            "Epoch 4/4000\n",
            "112/112 [==============================] - 0s 2ms/step - loss: 0.1937 - accuracy: 0.9536 - val_loss: 0.2120 - val_accuracy: 0.9459\n",
            "Epoch 5/4000\n",
            "112/112 [==============================] - 0s 2ms/step - loss: 0.1871 - accuracy: 0.9536 - val_loss: 0.2075 - val_accuracy: 0.9459\n",
            "Epoch 6/4000\n",
            "112/112 [==============================] - 0s 2ms/step - loss: 0.1833 - accuracy: 0.9536 - val_loss: 0.2043 - val_accuracy: 0.9459\n",
            "Epoch 7/4000\n",
            "112/112 [==============================] - 0s 2ms/step - loss: 0.1807 - accuracy: 0.9536 - val_loss: 0.2016 - val_accuracy: 0.9459\n",
            "Epoch 8/4000\n",
            "112/112 [==============================] - 0s 4ms/step - loss: 0.1786 - accuracy: 0.9536 - val_loss: 0.1991 - val_accuracy: 0.9459\n",
            "Epoch 9/4000\n",
            "112/112 [==============================] - 0s 2ms/step - loss: 0.1768 - accuracy: 0.9536 - val_loss: 0.1970 - val_accuracy: 0.9459\n",
            "Epoch 10/4000\n",
            "112/112 [==============================] - 0s 2ms/step - loss: 0.1752 - accuracy: 0.9536 - val_loss: 0.1951 - val_accuracy: 0.9459\n",
            "Epoch 11/4000\n",
            "112/112 [==============================] - 0s 2ms/step - loss: 0.1738 - accuracy: 0.9536 - val_loss: 0.1933 - val_accuracy: 0.9459\n",
            "Epoch 12/4000\n",
            "112/112 [==============================] - 0s 2ms/step - loss: 0.1725 - accuracy: 0.9536 - val_loss: 0.1917 - val_accuracy: 0.9459\n",
            "Epoch 13/4000\n",
            "112/112 [==============================] - 0s 2ms/step - loss: 0.1714 - accuracy: 0.9536 - val_loss: 0.1902 - val_accuracy: 0.9459\n",
            "Epoch 14/4000\n",
            "112/112 [==============================] - 0s 2ms/step - loss: 0.1704 - accuracy: 0.9536 - val_loss: 0.1890 - val_accuracy: 0.9459\n",
            "Epoch 15/4000\n",
            "112/112 [==============================] - 0s 2ms/step - loss: 0.1695 - accuracy: 0.9536 - val_loss: 0.1878 - val_accuracy: 0.9459\n",
            "Epoch 16/4000\n",
            "112/112 [==============================] - 0s 2ms/step - loss: 0.1686 - accuracy: 0.9536 - val_loss: 0.1867 - val_accuracy: 0.9459\n",
            "Epoch 17/4000\n",
            "112/112 [==============================] - 0s 2ms/step - loss: 0.1679 - accuracy: 0.9536 - val_loss: 0.1857 - val_accuracy: 0.9459\n",
            "Epoch 18/4000\n",
            "112/112 [==============================] - 0s 2ms/step - loss: 0.1671 - accuracy: 0.9536 - val_loss: 0.1847 - val_accuracy: 0.9459\n",
            "Epoch 19/4000\n",
            "112/112 [==============================] - 0s 2ms/step - loss: 0.1664 - accuracy: 0.9536 - val_loss: 0.1839 - val_accuracy: 0.9459\n",
            "Epoch 20/4000\n",
            "112/112 [==============================] - 0s 2ms/step - loss: 0.1658 - accuracy: 0.9536 - val_loss: 0.1831 - val_accuracy: 0.9459\n",
            "Epoch 21/4000\n",
            "112/112 [==============================] - 0s 2ms/step - loss: 0.1652 - accuracy: 0.9536 - val_loss: 0.1822 - val_accuracy: 0.9459\n",
            "Epoch 22/4000\n",
            "112/112 [==============================] - 0s 3ms/step - loss: 0.1646 - accuracy: 0.9536 - val_loss: 0.1815 - val_accuracy: 0.9459\n",
            "Epoch 23/4000\n",
            "112/112 [==============================] - 0s 4ms/step - loss: 0.1641 - accuracy: 0.9536 - val_loss: 0.1809 - val_accuracy: 0.9459\n",
            "Epoch 24/4000\n",
            "112/112 [==============================] - 0s 4ms/step - loss: 0.1636 - accuracy: 0.9536 - val_loss: 0.1802 - val_accuracy: 0.9459\n",
            "Epoch 25/4000\n",
            "112/112 [==============================] - 1s 5ms/step - loss: 0.1632 - accuracy: 0.9536 - val_loss: 0.1797 - val_accuracy: 0.9459\n",
            "Epoch 26/4000\n",
            "112/112 [==============================] - 0s 4ms/step - loss: 0.1627 - accuracy: 0.9536 - val_loss: 0.1791 - val_accuracy: 0.9459\n",
            "Epoch 27/4000\n",
            "112/112 [==============================] - 0s 4ms/step - loss: 0.1624 - accuracy: 0.9536 - val_loss: 0.1787 - val_accuracy: 0.9459\n",
            "Epoch 28/4000\n",
            "112/112 [==============================] - 0s 4ms/step - loss: 0.1620 - accuracy: 0.9536 - val_loss: 0.1783 - val_accuracy: 0.9459\n",
            "Epoch 29/4000\n",
            "112/112 [==============================] - 1s 5ms/step - loss: 0.1616 - accuracy: 0.9536 - val_loss: 0.1777 - val_accuracy: 0.9459\n",
            "Epoch 30/4000\n",
            "112/112 [==============================] - 1s 5ms/step - loss: 0.1612 - accuracy: 0.9536 - val_loss: 0.1773 - val_accuracy: 0.9459\n",
            "Epoch 31/4000\n",
            "112/112 [==============================] - 1s 5ms/step - loss: 0.1609 - accuracy: 0.9536 - val_loss: 0.1770 - val_accuracy: 0.9459\n",
            "Epoch 32/4000\n",
            "112/112 [==============================] - 1s 5ms/step - loss: 0.1606 - accuracy: 0.9536 - val_loss: 0.1765 - val_accuracy: 0.9459\n",
            "Epoch 33/4000\n",
            "112/112 [==============================] - 0s 4ms/step - loss: 0.1603 - accuracy: 0.9536 - val_loss: 0.1762 - val_accuracy: 0.9459\n",
            "Epoch 34/4000\n",
            "112/112 [==============================] - 0s 4ms/step - loss: 0.1600 - accuracy: 0.9536 - val_loss: 0.1759 - val_accuracy: 0.9459\n",
            "Epoch 35/4000\n",
            "112/112 [==============================] - 1s 6ms/step - loss: 0.1597 - accuracy: 0.9536 - val_loss: 0.1756 - val_accuracy: 0.9459\n",
            "Epoch 36/4000\n",
            "112/112 [==============================] - 0s 4ms/step - loss: 0.1594 - accuracy: 0.9536 - val_loss: 0.1752 - val_accuracy: 0.9459\n",
            "Epoch 37/4000\n",
            "112/112 [==============================] - 1s 7ms/step - loss: 0.1592 - accuracy: 0.9536 - val_loss: 0.1750 - val_accuracy: 0.9459\n",
            "Epoch 38/4000\n",
            "112/112 [==============================] - 1s 5ms/step - loss: 0.1589 - accuracy: 0.9536 - val_loss: 0.1747 - val_accuracy: 0.9459\n",
            "Epoch 39/4000\n",
            "112/112 [==============================] - 1s 5ms/step - loss: 0.1587 - accuracy: 0.9536 - val_loss: 0.1744 - val_accuracy: 0.9459\n",
            "Epoch 40/4000\n",
            "112/112 [==============================] - 1s 5ms/step - loss: 0.1584 - accuracy: 0.9536 - val_loss: 0.1742 - val_accuracy: 0.9459\n",
            "Epoch 41/4000\n",
            "112/112 [==============================] - 1s 6ms/step - loss: 0.1582 - accuracy: 0.9536 - val_loss: 0.1740 - val_accuracy: 0.9459\n",
            "Epoch 42/4000\n",
            "112/112 [==============================] - 0s 4ms/step - loss: 0.1580 - accuracy: 0.9536 - val_loss: 0.1738 - val_accuracy: 0.9459\n",
            "Epoch 43/4000\n",
            "112/112 [==============================] - 1s 6ms/step - loss: 0.1577 - accuracy: 0.9536 - val_loss: 0.1736 - val_accuracy: 0.9459\n",
            "Epoch 44/4000\n",
            "112/112 [==============================] - 1s 6ms/step - loss: 0.1575 - accuracy: 0.9536 - val_loss: 0.1734 - val_accuracy: 0.9459\n",
            "Epoch 45/4000\n",
            "112/112 [==============================] - 1s 7ms/step - loss: 0.1573 - accuracy: 0.9536 - val_loss: 0.1732 - val_accuracy: 0.9459\n",
            "Epoch 46/4000\n",
            "112/112 [==============================] - 1s 5ms/step - loss: 0.1571 - accuracy: 0.9536 - val_loss: 0.1731 - val_accuracy: 0.9459\n",
            "Epoch 47/4000\n",
            "112/112 [==============================] - 1s 5ms/step - loss: 0.1569 - accuracy: 0.9536 - val_loss: 0.1728 - val_accuracy: 0.9459\n",
            "Epoch 48/4000\n",
            "112/112 [==============================] - 0s 4ms/step - loss: 0.1567 - accuracy: 0.9536 - val_loss: 0.1727 - val_accuracy: 0.9459\n",
            "Epoch 49/4000\n",
            "112/112 [==============================] - 1s 5ms/step - loss: 0.1565 - accuracy: 0.9536 - val_loss: 0.1726 - val_accuracy: 0.9459\n",
            "Epoch 50/4000\n",
            "112/112 [==============================] - 1s 4ms/step - loss: 0.1563 - accuracy: 0.9536 - val_loss: 0.1725 - val_accuracy: 0.9459\n",
            "Epoch 51/4000\n",
            "112/112 [==============================] - 1s 5ms/step - loss: 0.1561 - accuracy: 0.9536 - val_loss: 0.1724 - val_accuracy: 0.9459\n",
            "Epoch 52/4000\n",
            "112/112 [==============================] - 1s 6ms/step - loss: 0.1559 - accuracy: 0.9536 - val_loss: 0.1722 - val_accuracy: 0.9459\n",
            "Epoch 53/4000\n",
            "112/112 [==============================] - 0s 4ms/step - loss: 0.1557 - accuracy: 0.9536 - val_loss: 0.1722 - val_accuracy: 0.9459\n",
            "Epoch 54/4000\n",
            "112/112 [==============================] - 1s 5ms/step - loss: 0.1555 - accuracy: 0.9536 - val_loss: 0.1721 - val_accuracy: 0.9459\n",
            "Epoch 55/4000\n",
            "112/112 [==============================] - 1s 5ms/step - loss: 0.1553 - accuracy: 0.9536 - val_loss: 0.1720 - val_accuracy: 0.9459\n",
            "Epoch 56/4000\n",
            "112/112 [==============================] - 1s 6ms/step - loss: 0.1551 - accuracy: 0.9536 - val_loss: 0.1718 - val_accuracy: 0.9459\n",
            "Epoch 57/4000\n",
            "112/112 [==============================] - 1s 9ms/step - loss: 0.1549 - accuracy: 0.9536 - val_loss: 0.1718 - val_accuracy: 0.9459\n",
            "Epoch 58/4000\n",
            "112/112 [==============================] - 1s 5ms/step - loss: 0.1547 - accuracy: 0.9536 - val_loss: 0.1716 - val_accuracy: 0.9459\n",
            "Epoch 59/4000\n",
            "112/112 [==============================] - 1s 5ms/step - loss: 0.1545 - accuracy: 0.9536 - val_loss: 0.1716 - val_accuracy: 0.9459\n",
            "Epoch 60/4000\n",
            "112/112 [==============================] - 1s 5ms/step - loss: 0.1543 - accuracy: 0.9536 - val_loss: 0.1715 - val_accuracy: 0.9459\n",
            "Epoch 61/4000\n",
            "112/112 [==============================] - 1s 6ms/step - loss: 0.1541 - accuracy: 0.9536 - val_loss: 0.1714 - val_accuracy: 0.9459\n",
            "Epoch 62/4000\n",
            "112/112 [==============================] - 1s 6ms/step - loss: 0.1540 - accuracy: 0.9536 - val_loss: 0.1713 - val_accuracy: 0.9459\n",
            "Epoch 63/4000\n",
            "112/112 [==============================] - 1s 5ms/step - loss: 0.1538 - accuracy: 0.9536 - val_loss: 0.1711 - val_accuracy: 0.9459\n",
            "Epoch 64/4000\n",
            "112/112 [==============================] - 0s 3ms/step - loss: 0.1537 - accuracy: 0.9536 - val_loss: 0.1710 - val_accuracy: 0.9459\n",
            "Epoch 65/4000\n",
            "112/112 [==============================] - 0s 2ms/step - loss: 0.1535 - accuracy: 0.9536 - val_loss: 0.1709 - val_accuracy: 0.9459\n",
            "Epoch 66/4000\n",
            "112/112 [==============================] - 0s 2ms/step - loss: 0.1534 - accuracy: 0.9536 - val_loss: 0.1708 - val_accuracy: 0.9459\n",
            "Epoch 67/4000\n",
            "112/112 [==============================] - 0s 2ms/step - loss: 0.1533 - accuracy: 0.9536 - val_loss: 0.1708 - val_accuracy: 0.9459\n",
            "Epoch 68/4000\n",
            "112/112 [==============================] - 0s 2ms/step - loss: 0.1532 - accuracy: 0.9536 - val_loss: 0.1707 - val_accuracy: 0.9459\n",
            "Epoch 69/4000\n",
            "112/112 [==============================] - 0s 2ms/step - loss: 0.1531 - accuracy: 0.9536 - val_loss: 0.1706 - val_accuracy: 0.9459\n",
            "Epoch 70/4000\n",
            "112/112 [==============================] - 0s 2ms/step - loss: 0.1530 - accuracy: 0.9536 - val_loss: 0.1705 - val_accuracy: 0.9459\n",
            "Epoch 71/4000\n",
            "112/112 [==============================] - 0s 2ms/step - loss: 0.1529 - accuracy: 0.9536 - val_loss: 0.1705 - val_accuracy: 0.9459\n",
            "Epoch 72/4000\n",
            "112/112 [==============================] - 0s 2ms/step - loss: 0.1528 - accuracy: 0.9536 - val_loss: 0.1705 - val_accuracy: 0.9459\n",
            "Epoch 73/4000\n",
            "112/112 [==============================] - 0s 2ms/step - loss: 0.1527 - accuracy: 0.9536 - val_loss: 0.1703 - val_accuracy: 0.9459\n",
            "Epoch 74/4000\n",
            "112/112 [==============================] - 0s 2ms/step - loss: 0.1527 - accuracy: 0.9536 - val_loss: 0.1702 - val_accuracy: 0.9459\n",
            "Epoch 75/4000\n",
            "112/112 [==============================] - 0s 2ms/step - loss: 0.1526 - accuracy: 0.9536 - val_loss: 0.1702 - val_accuracy: 0.9459\n",
            "Epoch 76/4000\n",
            "112/112 [==============================] - 0s 2ms/step - loss: 0.1525 - accuracy: 0.9536 - val_loss: 0.1702 - val_accuracy: 0.9459\n",
            "Epoch 77/4000\n",
            "112/112 [==============================] - 0s 2ms/step - loss: 0.1524 - accuracy: 0.9536 - val_loss: 0.1702 - val_accuracy: 0.9459\n",
            "Epoch 78/4000\n",
            "112/112 [==============================] - 0s 2ms/step - loss: 0.1524 - accuracy: 0.9536 - val_loss: 0.1701 - val_accuracy: 0.9459\n",
            "Epoch 79/4000\n",
            "112/112 [==============================] - 0s 2ms/step - loss: 0.1523 - accuracy: 0.9536 - val_loss: 0.1700 - val_accuracy: 0.9459\n",
            "Epoch 80/4000\n",
            "112/112 [==============================] - 0s 2ms/step - loss: 0.1522 - accuracy: 0.9536 - val_loss: 0.1700 - val_accuracy: 0.9459\n",
            "Epoch 81/4000\n",
            "112/112 [==============================] - 0s 2ms/step - loss: 0.1522 - accuracy: 0.9536 - val_loss: 0.1700 - val_accuracy: 0.9459\n",
            "Epoch 82/4000\n",
            "112/112 [==============================] - 0s 2ms/step - loss: 0.1521 - accuracy: 0.9536 - val_loss: 0.1699 - val_accuracy: 0.9459\n",
            "Epoch 83/4000\n",
            "112/112 [==============================] - 0s 2ms/step - loss: 0.1521 - accuracy: 0.9536 - val_loss: 0.1699 - val_accuracy: 0.9459\n",
            "Epoch 84/4000\n",
            "112/112 [==============================] - 0s 2ms/step - loss: 0.1520 - accuracy: 0.9536 - val_loss: 0.1699 - val_accuracy: 0.9459\n",
            "Epoch 85/4000\n",
            "112/112 [==============================] - 0s 2ms/step - loss: 0.1520 - accuracy: 0.9536 - val_loss: 0.1699 - val_accuracy: 0.9459\n",
            "Epoch 86/4000\n",
            "112/112 [==============================] - 0s 2ms/step - loss: 0.1519 - accuracy: 0.9536 - val_loss: 0.1698 - val_accuracy: 0.9459\n",
            "Epoch 87/4000\n",
            "112/112 [==============================] - 0s 2ms/step - loss: 0.1519 - accuracy: 0.9536 - val_loss: 0.1698 - val_accuracy: 0.9459\n",
            "Epoch 88/4000\n",
            "112/112 [==============================] - 0s 2ms/step - loss: 0.1518 - accuracy: 0.9536 - val_loss: 0.1699 - val_accuracy: 0.9459\n",
            "Epoch 89/4000\n",
            "112/112 [==============================] - 0s 2ms/step - loss: 0.1518 - accuracy: 0.9536 - val_loss: 0.1698 - val_accuracy: 0.9459\n",
            "Epoch 90/4000\n",
            "112/112 [==============================] - 0s 2ms/step - loss: 0.1517 - accuracy: 0.9536 - val_loss: 0.1698 - val_accuracy: 0.9459\n",
            "Epoch 91/4000\n",
            "112/112 [==============================] - 0s 2ms/step - loss: 0.1517 - accuracy: 0.9536 - val_loss: 0.1698 - val_accuracy: 0.9459\n",
            "Epoch 92/4000\n",
            "112/112 [==============================] - 0s 2ms/step - loss: 0.1516 - accuracy: 0.9536 - val_loss: 0.1698 - val_accuracy: 0.9459\n",
            "Epoch 93/4000\n",
            "112/112 [==============================] - 0s 2ms/step - loss: 0.1516 - accuracy: 0.9536 - val_loss: 0.1698 - val_accuracy: 0.9459\n",
            "Epoch 94/4000\n",
            "112/112 [==============================] - 0s 2ms/step - loss: 0.1515 - accuracy: 0.9536 - val_loss: 0.1699 - val_accuracy: 0.9459\n",
            "Epoch 95/4000\n",
            "112/112 [==============================] - 0s 2ms/step - loss: 0.1515 - accuracy: 0.9536 - val_loss: 0.1699 - val_accuracy: 0.9459\n",
            "Epoch 96/4000\n",
            "112/112 [==============================] - 0s 2ms/step - loss: 0.1514 - accuracy: 0.9536 - val_loss: 0.1698 - val_accuracy: 0.9459\n",
            "Epoch 97/4000\n",
            "112/112 [==============================] - 0s 2ms/step - loss: 0.1514 - accuracy: 0.9536 - val_loss: 0.1698 - val_accuracy: 0.9459\n",
            "Epoch 98/4000\n",
            "112/112 [==============================] - 0s 2ms/step - loss: 0.1514 - accuracy: 0.9536 - val_loss: 0.1698 - val_accuracy: 0.9459\n",
            "Epoch 99/4000\n",
            "112/112 [==============================] - 0s 2ms/step - loss: 0.1513 - accuracy: 0.9536 - val_loss: 0.1698 - val_accuracy: 0.9459\n",
            "Epoch 100/4000\n",
            "112/112 [==============================] - 0s 2ms/step - loss: 0.1513 - accuracy: 0.9536 - val_loss: 0.1698 - val_accuracy: 0.9459\n",
            "Epoch 101/4000\n",
            "112/112 [==============================] - 0s 2ms/step - loss: 0.1512 - accuracy: 0.9536 - val_loss: 0.1698 - val_accuracy: 0.9459\n",
            "Epoch 102/4000\n",
            "112/112 [==============================] - 0s 2ms/step - loss: 0.1512 - accuracy: 0.9536 - val_loss: 0.1699 - val_accuracy: 0.9459\n",
            "Epoch 103/4000\n",
            "112/112 [==============================] - 0s 3ms/step - loss: 0.1511 - accuracy: 0.9536 - val_loss: 0.1698 - val_accuracy: 0.9459\n",
            "Epoch 104/4000\n",
            "112/112 [==============================] - 0s 2ms/step - loss: 0.1511 - accuracy: 0.9536 - val_loss: 0.1697 - val_accuracy: 0.9459\n",
            "Epoch 105/4000\n",
            "112/112 [==============================] - 0s 2ms/step - loss: 0.1511 - accuracy: 0.9536 - val_loss: 0.1697 - val_accuracy: 0.9459\n",
            "Epoch 106/4000\n",
            "112/112 [==============================] - 0s 2ms/step - loss: 0.1510 - accuracy: 0.9536 - val_loss: 0.1698 - val_accuracy: 0.9459\n",
            "Epoch 107/4000\n",
            "112/112 [==============================] - 0s 2ms/step - loss: 0.1510 - accuracy: 0.9536 - val_loss: 0.1698 - val_accuracy: 0.9459\n",
            "Epoch 108/4000\n",
            "112/112 [==============================] - 0s 2ms/step - loss: 0.1509 - accuracy: 0.9536 - val_loss: 0.1698 - val_accuracy: 0.9459\n",
            "Epoch 109/4000\n",
            "112/112 [==============================] - 0s 2ms/step - loss: 0.1509 - accuracy: 0.9536 - val_loss: 0.1699 - val_accuracy: 0.9459\n",
            "Epoch 110/4000\n",
            "112/112 [==============================] - 0s 2ms/step - loss: 0.1509 - accuracy: 0.9536 - val_loss: 0.1698 - val_accuracy: 0.9459\n",
            "Epoch 111/4000\n",
            "112/112 [==============================] - 0s 2ms/step - loss: 0.1508 - accuracy: 0.9536 - val_loss: 0.1698 - val_accuracy: 0.9459\n",
            "Epoch 112/4000\n",
            "112/112 [==============================] - 0s 2ms/step - loss: 0.1508 - accuracy: 0.9536 - val_loss: 0.1698 - val_accuracy: 0.9459\n",
            "Epoch 113/4000\n",
            "112/112 [==============================] - 0s 2ms/step - loss: 0.1507 - accuracy: 0.9536 - val_loss: 0.1699 - val_accuracy: 0.9459\n",
            "Epoch 114/4000\n",
            "112/112 [==============================] - 0s 2ms/step - loss: 0.1507 - accuracy: 0.9536 - val_loss: 0.1698 - val_accuracy: 0.9459\n",
            "Epoch 115/4000\n",
            "112/112 [==============================] - 0s 2ms/step - loss: 0.1506 - accuracy: 0.9536 - val_loss: 0.1698 - val_accuracy: 0.9459\n",
            "Epoch 116/4000\n",
            "112/112 [==============================] - 0s 2ms/step - loss: 0.1506 - accuracy: 0.9536 - val_loss: 0.1700 - val_accuracy: 0.9459\n",
            "Epoch 117/4000\n",
            "112/112 [==============================] - 0s 2ms/step - loss: 0.1506 - accuracy: 0.9536 - val_loss: 0.1700 - val_accuracy: 0.9459\n",
            "Epoch 118/4000\n",
            "112/112 [==============================] - 0s 2ms/step - loss: 0.1505 - accuracy: 0.9536 - val_loss: 0.1698 - val_accuracy: 0.9459\n",
            "Epoch 119/4000\n",
            "112/112 [==============================] - 0s 2ms/step - loss: 0.1505 - accuracy: 0.9536 - val_loss: 0.1699 - val_accuracy: 0.9459\n",
            "Epoch 120/4000\n",
            "112/112 [==============================] - 0s 2ms/step - loss: 0.1505 - accuracy: 0.9536 - val_loss: 0.1699 - val_accuracy: 0.9459\n",
            "Epoch 121/4000\n",
            "112/112 [==============================] - 0s 2ms/step - loss: 0.1504 - accuracy: 0.9536 - val_loss: 0.1699 - val_accuracy: 0.9459\n",
            "Epoch 122/4000\n",
            "112/112 [==============================] - 0s 2ms/step - loss: 0.1504 - accuracy: 0.9536 - val_loss: 0.1700 - val_accuracy: 0.9459\n",
            "Epoch 123/4000\n",
            "112/112 [==============================] - 0s 2ms/step - loss: 0.1504 - accuracy: 0.9536 - val_loss: 0.1700 - val_accuracy: 0.9459\n",
            "Epoch 124/4000\n",
            "112/112 [==============================] - 0s 2ms/step - loss: 0.1503 - accuracy: 0.9536 - val_loss: 0.1700 - val_accuracy: 0.9459\n",
            "Epoch 124: early stopping\n"
          ]
        }
      ]
    },
    {
      "cell_type": "code",
      "source": [
        "#visualisation\n",
        "plt.plot(trained_model.history['loss'],color='red',label='Training Loss')\n",
        "plt.plot(trained_model.history['val_loss'],color='blue',label='Testing Loss')\n",
        "plt.legend()\n",
        "plt.show()"
      ],
      "metadata": {
        "colab": {
          "base_uri": "https://localhost:8080/",
          "height": 265
        },
        "id": "5qXi7x4AExtI",
        "outputId": "6553c118-8313-48e2-dd7d-526c33feb24a"
      },
      "execution_count": null,
      "outputs": [
        {
          "output_type": "display_data",
          "data": {
            "text/plain": [
              "<Figure size 432x288 with 1 Axes>"
            ],
            "image/png": "[encoded data removed]"
          },
          "metadata": {
            "needs_background": "light"
          }
        }
      ]
    },
    {
      "cell_type": "code",
      "source": [
        "#visualisation\n",
        "plt.plot(trained_model.history['accuracy'],color='red',label='Training accuracy')\n",
        "plt.plot(trained_model.history['val_accuracy'],color='blue',label='Testing accuracy')\n",
        "plt.legend()\n",
        "plt.show()"
      ],
      "metadata": {
        "colab": {
          "base_uri": "https://localhost:8080/",
          "height": 265
        },
        "id": "se2UWHS2FNKi",
        "outputId": "5570eda0-47ea-4fec-c48e-cf32de9b2b0e"
      },
      "execution_count": null,
      "outputs": [
        {
          "output_type": "display_data",
          "data": {
            "text/plain": [
              "<Figure size 432x288 with 1 Axes>"
            ],
            "image/png": "[encoded data removed]"
          },
          "metadata": {
            "needs_background": "light"
          }
        }
      ]
    },
    {
      "cell_type": "code",
      "source": [
        "#training evaluation\n",
        "model.evaluate(x_train,y_train)"
      ],
      "metadata": {
        "colab": {
          "base_uri": "https://localhost:8080/"
        },
        "id": "9gCaFL-aFZbK",
        "outputId": "0a5bfada-c10c-414b-be01-f3974bc30211"
      },
      "execution_count": null,
      "outputs": [
        {
          "output_type": "stream",
          "name": "stdout",
          "text": [
            "112/112 [==============================] - 0s 1ms/step - loss: 0.1501 - accuracy: 0.9536\n"
          ]
        },
        {
          "output_type": "execute_result",
          "data": {
            "text/plain": [
              "[0.15007176995277405, 0.9535924196243286]"
            ]
          },
          "metadata": {},
          "execution_count": 40
        }
      ]
    },
    {
      "cell_type": "code",
      "source": [
        "#testing evaluation\n",
        "model.evaluate(x_test,y_test)"
      ],
      "metadata": {
        "colab": {
          "base_uri": "https://localhost:8080/"
        },
        "id": "OXqPrdumFmUL",
        "outputId": "24606442-8e9f-4cda-f0fa-a24a08d2d891"
      },
      "execution_count": null,
      "outputs": [
        {
          "output_type": "stream",
          "name": "stdout",
          "text": [
            "48/48 [==============================] - 0s 1ms/step - loss: 0.1700 - accuracy: 0.9459\n"
          ]
        },
        {
          "output_type": "execute_result",
          "data": {
            "text/plain": [
              "[0.16997507214546204, 0.94585782289505]"
            ]
          },
          "metadata": {},
          "execution_count": 41
        }
      ]
    },
    {
      "cell_type": "code",
      "source": [
        "#test the model with 30% data\n",
        "y_pred=model.predict(x_test).round(2) #y_pred=(1/(1+np.exp(-x_test)))\n",
        "#it will give probability value range (0  -  1)\n",
        "print(y_pred)"
      ],
      "metadata": {
        "colab": {
          "base_uri": "https://localhost:8080/"
        },
        "id": "M4nEhqtQFn-i",
        "outputId": "39edaa6f-d4ad-44b8-88cb-f382f978d4b7"
      },
      "execution_count": null,
      "outputs": [
        {
          "output_type": "stream",
          "name": "stdout",
          "text": [
            "[[0.01]\n",
            " [0.15]\n",
            " [0.  ]\n",
            " ...\n",
            " [0.06]\n",
            " [0.24]\n",
            " [0.01]]\n"
          ]
        }
      ]
    },
    {
      "cell_type": "code",
      "source": [
        "#condition apply\n",
        "y_pred=np.where(y_pred>=0.5,1,0)\n",
        "print(y_pred)"
      ],
      "metadata": {
        "colab": {
          "base_uri": "https://localhost:8080/"
        },
        "id": "3-tBWxdsFqwW",
        "outputId": "9a221bdf-f77f-449f-dd1e-165950776525"
      },
      "execution_count": null,
      "outputs": [
        {
          "output_type": "stream",
          "name": "stdout",
          "text": [
            "[[0]\n",
            " [0]\n",
            " [0]\n",
            " ...\n",
            " [0]\n",
            " [0]\n",
            " [0]]\n"
          ]
        }
      ]
    },
    {
      "cell_type": "code",
      "source": [
        "#classification report and confusion matrix\n",
        "from sklearn.metrics import classification_report\n",
        "from sklearn.metrics import confusion_matrix\n",
        "print(classification_report(y_test,y_pred))\n",
        "print(confusion_matrix(y_test,y_pred))"
      ],
      "metadata": {
        "colab": {
          "base_uri": "https://localhost:8080/"
        },
        "id": "AlaoKHrxFv3n",
        "outputId": "ff43eb47-6a86-4e7e-d595-06684bb37e11"
      },
      "execution_count": null,
      "outputs": [
        {
          "output_type": "stream",
          "name": "stdout",
          "text": [
            "              precision    recall  f1-score   support\n",
            "\n",
            "           0       0.95      1.00      0.97      1450\n",
            "           1       0.00      0.00      0.00        83\n",
            "\n",
            "    accuracy                           0.95      1533\n",
            "   macro avg       0.47      0.50      0.49      1533\n",
            "weighted avg       0.89      0.95      0.92      1533\n",
            "\n",
            "[[1450    0]\n",
            " [  83    0]]\n"
          ]
        }
      ]
    },
    {
      "cell_type": "markdown",
      "source": [
        "Here as we can see Acuuracy of the model is 95% and we will try ti imporve the accuracy as we already checked the target data is not balanced so now we will apply RandomOverSampler it will take the level of minority class to majority class."
      ],
      "metadata": {
        "id": "t2XCMyuEGAJJ"
      }
    },
    {
      "cell_type": "code",
      "source": [
        "#first instal imblearn package\n",
        "#!pip install imblearn"
      ],
      "metadata": {
        "id": "FhQIKH2jGUO8"
      },
      "execution_count": null,
      "outputs": []
    },
    {
      "cell_type": "code",
      "source": [
        "# here we use RandomOverSampling inbuilt class\n",
        "#that means we will craete a duplicate minority class till it match the level of \n",
        "#majority class\n",
        "from imblearn.over_sampling import RandomOverSampler"
      ],
      "metadata": {
        "id": "gdFB9B9OGfVx"
      },
      "execution_count": null,
      "outputs": []
    },
    {
      "cell_type": "code",
      "source": [
        "# Check how many samples of class 0 and 1 class in Y_train\n",
        "y_train.value_counts()"
      ],
      "metadata": {
        "colab": {
          "base_uri": "https://localhost:8080/"
        },
        "id": "ezC5Zlu_Ghmz",
        "outputId": "ac5b396b-2375-450f-9e7d-d4735f796dd3"
      },
      "execution_count": null,
      "outputs": [
        {
          "output_type": "execute_result",
          "data": {
            "text/plain": [
              "0    3411\n",
              "1     166\n",
              "Name: stroke, dtype: int64"
            ]
          },
          "metadata": {},
          "execution_count": 47
        }
      ]
    },
    {
      "cell_type": "code",
      "source": [
        "#now apply RandomOverSampler class\n",
        "ros=RandomOverSampler(random_state=1)"
      ],
      "metadata": {
        "id": "kA82RefwGlBB"
      },
      "execution_count": null,
      "outputs": []
    },
    {
      "cell_type": "code",
      "source": [
        "#use inbuilt method of fit_resample() of RandomOverSampler class\n",
        "x_train_ros,y_train_ros=ros.fit_resample(x_train,y_train)"
      ],
      "metadata": {
        "id": "yCeT1finGpFJ"
      },
      "execution_count": null,
      "outputs": []
    },
    {
      "cell_type": "code",
      "source": [
        "#now will check if the training data is balanced or not\n",
        "y_train_ros.value_counts()"
      ],
      "metadata": {
        "colab": {
          "base_uri": "https://localhost:8080/"
        },
        "id": "M2Deyix6GqvE",
        "outputId": "9567e7f6-2038-4df7-cf08-644f7735ded1"
      },
      "execution_count": null,
      "outputs": [
        {
          "output_type": "execute_result",
          "data": {
            "text/plain": [
              "0    3411\n",
              "1    3411\n",
              "Name: stroke, dtype: int64"
            ]
          },
          "metadata": {},
          "execution_count": 50
        }
      ]
    },
    {
      "cell_type": "code",
      "source": [
        "#As it is we will check how many samples of class 0 and 1 class in y_test \n",
        "y_test.value_counts()"
      ],
      "metadata": {
        "colab": {
          "base_uri": "https://localhost:8080/"
        },
        "id": "kb4TFKnoGscU",
        "outputId": "72814303-0b0e-404a-d167-1f1e7d1ccb1a"
      },
      "execution_count": null,
      "outputs": [
        {
          "output_type": "execute_result",
          "data": {
            "text/plain": [
              "0    1450\n",
              "1      83\n",
              "Name: stroke, dtype: int64"
            ]
          },
          "metadata": {},
          "execution_count": 51
        }
      ]
    },
    {
      "cell_type": "code",
      "source": [
        "# Now apply RandomOverSampler on testing data\n",
        "x_test_ros,y_test_ros=ros.fit_resample(x_test,y_test)"
      ],
      "metadata": {
        "id": "vFlwHZgaGuaG"
      },
      "execution_count": null,
      "outputs": []
    },
    {
      "cell_type": "code",
      "source": [
        "#again Check\n",
        "y_test_ros.value_counts()"
      ],
      "metadata": {
        "colab": {
          "base_uri": "https://localhost:8080/"
        },
        "id": "kurNxrOCGwnL",
        "outputId": "1d0f2512-4339-4018-8465-635e4becc455"
      },
      "execution_count": null,
      "outputs": [
        {
          "output_type": "execute_result",
          "data": {
            "text/plain": [
              "0    1450\n",
              "1    1450\n",
              "Name: stroke, dtype: int64"
            ]
          },
          "metadata": {},
          "execution_count": 53
        }
      ]
    },
    {
      "cell_type": "code",
      "source": [
        "x_test_ros.shape"
      ],
      "metadata": {
        "colab": {
          "base_uri": "https://localhost:8080/"
        },
        "id": "b5aQzvh1GyXa",
        "outputId": "e608e1cd-00c4-4008-f716-88f0eb557ec3"
      },
      "execution_count": null,
      "outputs": [
        {
          "output_type": "execute_result",
          "data": {
            "text/plain": [
              "(2900, 10)"
            ]
          },
          "metadata": {},
          "execution_count": 54
        }
      ]
    },
    {
      "cell_type": "code",
      "source": [
        "x.shape"
      ],
      "metadata": {
        "colab": {
          "base_uri": "https://localhost:8080/"
        },
        "id": "B4OMGyDRH17g",
        "outputId": "559716ec-6f6d-4197-d2dd-d28e656389c1"
      },
      "execution_count": null,
      "outputs": [
        {
          "output_type": "execute_result",
          "data": {
            "text/plain": [
              "(5110, 10)"
            ]
          },
          "metadata": {},
          "execution_count": 55
        }
      ]
    },
    {
      "cell_type": "code",
      "source": [
        "x_train.shape"
      ],
      "metadata": {
        "colab": {
          "base_uri": "https://localhost:8080/"
        },
        "id": "1HSVlPecOTkM",
        "outputId": "5be18a8b-fea3-4a8e-f799-82b1373341ae"
      },
      "execution_count": null,
      "outputs": [
        {
          "output_type": "execute_result",
          "data": {
            "text/plain": [
              "(3577, 10)"
            ]
          },
          "metadata": {},
          "execution_count": 56
        }
      ]
    },
    {
      "cell_type": "code",
      "source": [
        "x_train_ros.shape"
      ],
      "metadata": {
        "colab": {
          "base_uri": "https://localhost:8080/"
        },
        "id": "aDgU0N_ZOeF-",
        "outputId": "3173df9d-bc8b-4c04-dccb-53d4a7479519"
      },
      "execution_count": null,
      "outputs": [
        {
          "output_type": "execute_result",
          "data": {
            "text/plain": [
              "(6822, 10)"
            ]
          },
          "metadata": {},
          "execution_count": 57
        }
      ]
    },
    {
      "cell_type": "code",
      "source": [
        "x_test.shape"
      ],
      "metadata": {
        "colab": {
          "base_uri": "https://localhost:8080/"
        },
        "id": "DVMm4fZVOhEk",
        "outputId": "d424d68c-a26d-4628-b77e-715f6901f4c6"
      },
      "execution_count": null,
      "outputs": [
        {
          "output_type": "execute_result",
          "data": {
            "text/plain": [
              "(1533, 10)"
            ]
          },
          "metadata": {},
          "execution_count": 58
        }
      ]
    },
    {
      "cell_type": "code",
      "source": [
        "x_test_ros.shape"
      ],
      "metadata": {
        "colab": {
          "base_uri": "https://localhost:8080/"
        },
        "id": "G6ypmix0Oouh",
        "outputId": "fb8c306f-8587-434a-fb08-61b6bd86e7f5"
      },
      "execution_count": null,
      "outputs": [
        {
          "output_type": "execute_result",
          "data": {
            "text/plain": [
              "(2900, 10)"
            ]
          },
          "metadata": {},
          "execution_count": 59
        }
      ]
    },
    {
      "cell_type": "code",
      "source": [
        "#traing the model\n",
        "trained_model_1=model.fit(x_train_ros,y_train_ros,epochs=4000,callbacks=cb,validation_data=(x_test_ros,y_test_ros))"
      ],
      "metadata": {
        "colab": {
          "base_uri": "https://localhost:8080/"
        },
        "id": "fcud47PxOuGs",
        "outputId": "78a523d5-f932-47fb-b674-88794fb7bb38"
      },
      "execution_count": null,
      "outputs": [
        {
          "output_type": "stream",
          "name": "stdout",
          "text": [
            "Epoch 1/4000\n",
            "214/214 [==============================] - 0s 2ms/step - loss: 0.6786 - accuracy: 0.5985 - val_loss: 0.5283 - val_accuracy: 0.7228\n",
            "Epoch 2/4000\n",
            "214/214 [==============================] - 0s 2ms/step - loss: 0.5289 - accuracy: 0.7316 - val_loss: 0.5017 - val_accuracy: 0.7421\n",
            "Epoch 3/4000\n",
            "214/214 [==============================] - 0s 2ms/step - loss: 0.5125 - accuracy: 0.7356 - val_loss: 0.4891 - val_accuracy: 0.7672\n",
            "Epoch 4/4000\n",
            "214/214 [==============================] - 0s 2ms/step - loss: 0.5042 - accuracy: 0.7436 - val_loss: 0.4841 - val_accuracy: 0.7752\n",
            "Epoch 5/4000\n",
            "214/214 [==============================] - 0s 2ms/step - loss: 0.4999 - accuracy: 0.7471 - val_loss: 0.4785 - val_accuracy: 0.7734\n",
            "Epoch 6/4000\n",
            "214/214 [==============================] - 0s 2ms/step - loss: 0.4963 - accuracy: 0.7493 - val_loss: 0.4765 - val_accuracy: 0.7800\n",
            "Epoch 7/4000\n",
            "214/214 [==============================] - 0s 2ms/step - loss: 0.4933 - accuracy: 0.7468 - val_loss: 0.4738 - val_accuracy: 0.7776\n",
            "Epoch 8/4000\n",
            "214/214 [==============================] - 0s 2ms/step - loss: 0.4904 - accuracy: 0.7486 - val_loss: 0.4724 - val_accuracy: 0.7807\n",
            "Epoch 9/4000\n",
            "214/214 [==============================] - 0s 2ms/step - loss: 0.4879 - accuracy: 0.7501 - val_loss: 0.4721 - val_accuracy: 0.7848\n",
            "Epoch 10/4000\n",
            "214/214 [==============================] - 0s 2ms/step - loss: 0.4855 - accuracy: 0.7511 - val_loss: 0.4715 - val_accuracy: 0.7838\n",
            "Epoch 11/4000\n",
            "214/214 [==============================] - 0s 2ms/step - loss: 0.4835 - accuracy: 0.7533 - val_loss: 0.4722 - val_accuracy: 0.7831\n",
            "Epoch 12/4000\n",
            "214/214 [==============================] - 0s 2ms/step - loss: 0.4813 - accuracy: 0.7564 - val_loss: 0.4727 - val_accuracy: 0.7866\n",
            "Epoch 13/4000\n",
            "214/214 [==============================] - 1s 2ms/step - loss: 0.4797 - accuracy: 0.7570 - val_loss: 0.4706 - val_accuracy: 0.7924\n",
            "Epoch 14/4000\n",
            "214/214 [==============================] - 0s 2ms/step - loss: 0.4779 - accuracy: 0.7612 - val_loss: 0.4710 - val_accuracy: 0.7941\n",
            "Epoch 15/4000\n",
            "214/214 [==============================] - 0s 2ms/step - loss: 0.4761 - accuracy: 0.7611 - val_loss: 0.4713 - val_accuracy: 0.7948\n",
            "Epoch 16/4000\n",
            "214/214 [==============================] - 0s 2ms/step - loss: 0.4742 - accuracy: 0.7628 - val_loss: 0.4714 - val_accuracy: 0.7866\n",
            "Epoch 17/4000\n",
            "214/214 [==============================] - 0s 2ms/step - loss: 0.4722 - accuracy: 0.7644 - val_loss: 0.4724 - val_accuracy: 0.7859\n",
            "Epoch 18/4000\n",
            "214/214 [==============================] - 0s 2ms/step - loss: 0.4702 - accuracy: 0.7659 - val_loss: 0.4741 - val_accuracy: 0.7890\n",
            "Epoch 19/4000\n",
            "214/214 [==============================] - 0s 2ms/step - loss: 0.4684 - accuracy: 0.7680 - val_loss: 0.4753 - val_accuracy: 0.7893\n",
            "Epoch 20/4000\n",
            "214/214 [==============================] - 0s 2ms/step - loss: 0.4664 - accuracy: 0.7690 - val_loss: 0.4765 - val_accuracy: 0.7862\n",
            "Epoch 21/4000\n",
            "214/214 [==============================] - 0s 2ms/step - loss: 0.4644 - accuracy: 0.7685 - val_loss: 0.4765 - val_accuracy: 0.7810\n",
            "Epoch 22/4000\n",
            "214/214 [==============================] - 0s 2ms/step - loss: 0.4623 - accuracy: 0.7700 - val_loss: 0.4757 - val_accuracy: 0.7831\n",
            "Epoch 23/4000\n",
            "214/214 [==============================] - 0s 2ms/step - loss: 0.4603 - accuracy: 0.7700 - val_loss: 0.4757 - val_accuracy: 0.7779\n",
            "Epoch 24/4000\n",
            "214/214 [==============================] - 0s 2ms/step - loss: 0.4585 - accuracy: 0.7710 - val_loss: 0.4763 - val_accuracy: 0.7783\n",
            "Epoch 25/4000\n",
            "214/214 [==============================] - 0s 2ms/step - loss: 0.4563 - accuracy: 0.7712 - val_loss: 0.4763 - val_accuracy: 0.7797\n",
            "Epoch 26/4000\n",
            "214/214 [==============================] - 0s 2ms/step - loss: 0.4542 - accuracy: 0.7721 - val_loss: 0.4774 - val_accuracy: 0.7738\n",
            "Epoch 27/4000\n",
            "214/214 [==============================] - 0s 2ms/step - loss: 0.4518 - accuracy: 0.7748 - val_loss: 0.4778 - val_accuracy: 0.7762\n",
            "Epoch 28/4000\n",
            "214/214 [==============================] - 0s 2ms/step - loss: 0.4495 - accuracy: 0.7766 - val_loss: 0.4779 - val_accuracy: 0.7724\n",
            "Epoch 29/4000\n",
            "214/214 [==============================] - 0s 2ms/step - loss: 0.4471 - accuracy: 0.7781 - val_loss: 0.4798 - val_accuracy: 0.7683\n",
            "Epoch 30/4000\n",
            "214/214 [==============================] - 0s 2ms/step - loss: 0.4449 - accuracy: 0.7806 - val_loss: 0.4820 - val_accuracy: 0.7624\n",
            "Epoch 31/4000\n",
            "214/214 [==============================] - 0s 2ms/step - loss: 0.4427 - accuracy: 0.7828 - val_loss: 0.4836 - val_accuracy: 0.7617\n",
            "Epoch 32/4000\n",
            "214/214 [==============================] - 0s 2ms/step - loss: 0.4407 - accuracy: 0.7842 - val_loss: 0.4853 - val_accuracy: 0.7569\n",
            "Epoch 33/4000\n",
            "214/214 [==============================] - 0s 2ms/step - loss: 0.4387 - accuracy: 0.7897 - val_loss: 0.4887 - val_accuracy: 0.7545\n",
            "Epoch 33: early stopping\n"
          ]
        }
      ]
    },
    {
      "cell_type": "code",
      "source": [
        "#visualisation\n",
        "plt.plot(trained_model_1.history['loss'],color='red',label='Training Loss')\n",
        "plt.plot(trained_model_1.history['val_loss'],color='blue',label='Testing Loss')\n",
        "plt.legend()\n",
        "plt.show()"
      ],
      "metadata": {
        "colab": {
          "base_uri": "https://localhost:8080/",
          "height": 265
        },
        "id": "ObC5dhtXPVg5",
        "outputId": "5ac85313-0c4f-4221-e561-48feeae102a2"
      },
      "execution_count": null,
      "outputs": [
        {
          "output_type": "display_data",
          "data": {
            "text/plain": [
              "<Figure size 432x288 with 1 Axes>"
            ],
            "image/png": "[encoded data removed]"
          },
          "metadata": {
            "needs_background": "light"
          }
        }
      ]
    },
    {
      "cell_type": "code",
      "source": [
        "#visualisation\n",
        "plt.plot(trained_model_1.history['accuracy'],color='red',label='Training accuracy')\n",
        "plt.plot(trained_model_1.history['val_accuracy'],color='blue',label='Testing accuracy')\n",
        "plt.legend()\n",
        "plt.show()"
      ],
      "metadata": {
        "colab": {
          "base_uri": "https://localhost:8080/",
          "height": 265
        },
        "id": "CQSiRq4CPoRk",
        "outputId": "3d1aa482-f3f5-4643-85e3-b8d00324e976"
      },
      "execution_count": null,
      "outputs": [
        {
          "output_type": "display_data",
          "data": {
            "text/plain": [
              "<Figure size 432x288 with 1 Axes>"
            ],
            "image/png": "[encoded data removed]"
          },
          "metadata": {
            "needs_background": "light"
          }
        }
      ]
    },
    {
      "cell_type": "code",
      "source": [
        "#training evaluation\n",
        "model.evaluate(x_train_ros,y_train_ros)"
      ],
      "metadata": {
        "colab": {
          "base_uri": "https://localhost:8080/"
        },
        "id": "RGD3nIrCPwYV",
        "outputId": "d941c488-6b5a-45e1-c561-85055da5b2ea"
      },
      "execution_count": null,
      "outputs": [
        {
          "output_type": "stream",
          "name": "stdout",
          "text": [
            "214/214 [==============================] - 0s 1ms/step - loss: 0.4375 - accuracy: 0.7794\n"
          ]
        },
        {
          "output_type": "execute_result",
          "data": {
            "text/plain": [
              "[0.4375240206718445, 0.7793902158737183]"
            ]
          },
          "metadata": {},
          "execution_count": 63
        }
      ]
    },
    {
      "cell_type": "code",
      "source": [
        "#testing evaluation\n",
        "model.evaluate(x_test,y_test)"
      ],
      "metadata": {
        "colab": {
          "base_uri": "https://localhost:8080/"
        },
        "id": "l29z0y-jQbXu",
        "outputId": "a52f60bd-3710-4293-f624-366a3ba3ace4"
      },
      "execution_count": null,
      "outputs": [
        {
          "output_type": "stream",
          "name": "stdout",
          "text": [
            "48/48 [==============================] - 0s 1ms/step - loss: 0.4623 - accuracy: 0.7365\n"
          ]
        },
        {
          "output_type": "execute_result",
          "data": {
            "text/plain": [
              "[0.46233102679252625, 0.7364644408226013]"
            ]
          },
          "metadata": {},
          "execution_count": 64
        }
      ]
    },
    {
      "cell_type": "code",
      "source": [
        "#test the model with 30% data\n",
        "y_pred1=model.predict(x_test_ros).round(2) #y_pred=(1/(1+np.exp(-x_test)))\n",
        "#it will give probability value range (0  -  1)\n",
        "print(y_pred1)"
      ],
      "metadata": {
        "colab": {
          "base_uri": "https://localhost:8080/"
        },
        "id": "UBLpa66FQfmp",
        "outputId": "f86aeeca-1c5f-4b5e-907c-76dada617463"
      },
      "execution_count": null,
      "outputs": [
        {
          "output_type": "stream",
          "name": "stdout",
          "text": [
            "[[0.13]\n",
            " [0.73]\n",
            " [0.01]\n",
            " ...\n",
            " [0.91]\n",
            " [0.69]\n",
            " [0.84]]\n"
          ]
        }
      ]
    },
    {
      "cell_type": "code",
      "source": [
        "#condition apply\n",
        "y_pred1=np.where(y_pred1>=0.5,1,0)\n",
        "print(y_pred1)"
      ],
      "metadata": {
        "colab": {
          "base_uri": "https://localhost:8080/"
        },
        "id": "ZteUfyCgQmLj",
        "outputId": "f78ac48c-8274-4937-9464-2a7c6ee4f2d1"
      },
      "execution_count": null,
      "outputs": [
        {
          "output_type": "stream",
          "name": "stdout",
          "text": [
            "[[0]\n",
            " [1]\n",
            " [0]\n",
            " ...\n",
            " [1]\n",
            " [1]\n",
            " [1]]\n"
          ]
        }
      ]
    },
    {
      "cell_type": "code",
      "source": [
        "print(classification_report(y_test_ros,y_pred1))\n",
        "print(confusion_matrix(y_test_ros,y_pred1))"
      ],
      "metadata": {
        "colab": {
          "base_uri": "https://localhost:8080/"
        },
        "id": "bEtnaPb9Qplm",
        "outputId": "11665122-863f-4e1b-d7f6-8a7689489b01"
      },
      "execution_count": null,
      "outputs": [
        {
          "output_type": "stream",
          "name": "stdout",
          "text": [
            "              precision    recall  f1-score   support\n",
            "\n",
            "           0       0.76      0.73      0.75      1450\n",
            "           1       0.74      0.77      0.76      1450\n",
            "\n",
            "    accuracy                           0.75      2900\n",
            "   macro avg       0.75      0.75      0.75      2900\n",
            "weighted avg       0.75      0.75      0.75      2900\n",
            "\n",
            "[[1060  390]\n",
            " [ 327 1123]]\n"
          ]
        }
      ]
    },
    {
      "cell_type": "markdown",
      "source": [
        "Handling Overfitting by Ridg Regularization"
      ],
      "metadata": {
        "id": "CfZiV0tmW-2P"
      }
    },
    {
      "cell_type": "code",
      "source": [
        "#now we will try to reduce overfitting\n",
        "#call class regularisation: inbuilt class\n",
        "from tensorflow.keras import regularizers\n",
        "#regulizers is inbuilt class of keras"
      ],
      "metadata": {
        "id": "5naORBe_RE4j"
      },
      "execution_count": null,
      "outputs": []
    },
    {
      "cell_type": "code",
      "source": [
        "model1=tf.keras.Sequential([\n",
        "                          tf.keras.layers.Dense(units=10,activation='relu',input_shape=(x.shape[1],),\n",
        "                          kernel_regularizer=regularizers.l2(0.01)),\n",
        "                           #First hidden layer\n",
        "                           tf.keras.layers.Dense(units=10,activation='relu',kernel_regularizer=regularizers.l2(0.01)), #second hidden layer\n",
        "                           tf.keras.layers.Dense(units=1,activation='sigmoid',kernel_regularizer=regularizers.l2(0.01))]) #output layer"
      ],
      "metadata": {
        "id": "UHd6hBaPVSH7"
      },
      "execution_count": null,
      "outputs": []
    },
    {
      "cell_type": "code",
      "source": [
        "#complie the model\n",
        "#use inbuilt method compile() of sequential class\n",
        "model1.compile(optimizer='sgd',loss='binary_crossentropy',metrics=['accuracy'])"
      ],
      "metadata": {
        "id": "gNTKk7LZVf3j"
      },
      "execution_count": null,
      "outputs": []
    },
    {
      "cell_type": "code",
      "source": [
        "#train the model\n",
        "trained_model_2=model1.fit(x_train_ros,y_train_ros,epochs=4000,callbacks=cb,validation_data=(x_test_ros,y_test_ros))"
      ],
      "metadata": {
        "colab": {
          "base_uri": "https://localhost:8080/"
        },
        "id": "4fhP6jpfVryC",
        "outputId": "9abb51f9-7fae-491e-c78f-5a42b7fde455"
      },
      "execution_count": null,
      "outputs": [
        {
          "output_type": "stream",
          "name": "stdout",
          "text": [
            "Epoch 1/4000\n",
            "214/214 [==============================] - 1s 3ms/step - loss: 0.9007 - accuracy: 0.5658 - val_loss: 0.8035 - val_accuracy: 0.7072\n",
            "Epoch 2/4000\n",
            "214/214 [==============================] - 0s 2ms/step - loss: 0.8290 - accuracy: 0.6620 - val_loss: 0.7540 - val_accuracy: 0.7517\n",
            "Epoch 3/4000\n",
            "214/214 [==============================] - 1s 2ms/step - loss: 0.7889 - accuracy: 0.6969 - val_loss: 0.7174 - val_accuracy: 0.7700\n",
            "Epoch 4/4000\n",
            "214/214 [==============================] - 0s 2ms/step - loss: 0.7561 - accuracy: 0.7232 - val_loss: 0.6875 - val_accuracy: 0.7655\n",
            "Epoch 5/4000\n",
            "214/214 [==============================] - 0s 2ms/step - loss: 0.7299 - accuracy: 0.7322 - val_loss: 0.6660 - val_accuracy: 0.7697\n",
            "Epoch 6/4000\n",
            "214/214 [==============================] - 0s 2ms/step - loss: 0.7091 - accuracy: 0.7394 - val_loss: 0.6484 - val_accuracy: 0.7848\n",
            "Epoch 7/4000\n",
            "214/214 [==============================] - 0s 2ms/step - loss: 0.6924 - accuracy: 0.7425 - val_loss: 0.6334 - val_accuracy: 0.7814\n",
            "Epoch 8/4000\n",
            "214/214 [==============================] - 0s 2ms/step - loss: 0.6781 - accuracy: 0.7430 - val_loss: 0.6215 - val_accuracy: 0.7841\n",
            "Epoch 9/4000\n",
            "214/214 [==============================] - 0s 2ms/step - loss: 0.6646 - accuracy: 0.7439 - val_loss: 0.6115 - val_accuracy: 0.7897\n",
            "Epoch 10/4000\n",
            "214/214 [==============================] - 0s 2ms/step - loss: 0.6524 - accuracy: 0.7507 - val_loss: 0.6025 - val_accuracy: 0.7793\n",
            "Epoch 11/4000\n",
            "214/214 [==============================] - 0s 2ms/step - loss: 0.6411 - accuracy: 0.7537 - val_loss: 0.5950 - val_accuracy: 0.7845\n",
            "Epoch 12/4000\n",
            "214/214 [==============================] - 0s 2ms/step - loss: 0.6311 - accuracy: 0.7545 - val_loss: 0.5882 - val_accuracy: 0.7800\n",
            "Epoch 13/4000\n",
            "214/214 [==============================] - 0s 2ms/step - loss: 0.6220 - accuracy: 0.7512 - val_loss: 0.5832 - val_accuracy: 0.7848\n",
            "Epoch 14/4000\n",
            "214/214 [==============================] - 0s 2ms/step - loss: 0.6145 - accuracy: 0.7568 - val_loss: 0.5777 - val_accuracy: 0.7845\n",
            "Epoch 15/4000\n",
            "214/214 [==============================] - 0s 2ms/step - loss: 0.6075 - accuracy: 0.7581 - val_loss: 0.5736 - val_accuracy: 0.7862\n",
            "Epoch 16/4000\n",
            "214/214 [==============================] - 0s 2ms/step - loss: 0.6012 - accuracy: 0.7571 - val_loss: 0.5706 - val_accuracy: 0.7817\n",
            "Epoch 17/4000\n",
            "214/214 [==============================] - 0s 2ms/step - loss: 0.5957 - accuracy: 0.7625 - val_loss: 0.5674 - val_accuracy: 0.7872\n",
            "Epoch 18/4000\n",
            "214/214 [==============================] - 0s 2ms/step - loss: 0.5906 - accuracy: 0.7618 - val_loss: 0.5642 - val_accuracy: 0.7900\n",
            "Epoch 19/4000\n",
            "214/214 [==============================] - 0s 2ms/step - loss: 0.5863 - accuracy: 0.7639 - val_loss: 0.5615 - val_accuracy: 0.7879\n",
            "Epoch 20/4000\n",
            "214/214 [==============================] - 0s 2ms/step - loss: 0.5823 - accuracy: 0.7656 - val_loss: 0.5580 - val_accuracy: 0.7879\n",
            "Epoch 21/4000\n",
            "214/214 [==============================] - 0s 2ms/step - loss: 0.5786 - accuracy: 0.7678 - val_loss: 0.5568 - val_accuracy: 0.7707\n",
            "Epoch 22/4000\n",
            "214/214 [==============================] - 0s 2ms/step - loss: 0.5754 - accuracy: 0.7672 - val_loss: 0.5534 - val_accuracy: 0.7886\n",
            "Epoch 23/4000\n",
            "214/214 [==============================] - 0s 2ms/step - loss: 0.5724 - accuracy: 0.7633 - val_loss: 0.5511 - val_accuracy: 0.7731\n",
            "Epoch 24/4000\n",
            "214/214 [==============================] - 0s 2ms/step - loss: 0.5700 - accuracy: 0.7672 - val_loss: 0.5487 - val_accuracy: 0.7700\n",
            "Epoch 25/4000\n",
            "214/214 [==============================] - 0s 2ms/step - loss: 0.5677 - accuracy: 0.7634 - val_loss: 0.5470 - val_accuracy: 0.7734\n",
            "Epoch 26/4000\n",
            "214/214 [==============================] - 0s 2ms/step - loss: 0.5658 - accuracy: 0.7653 - val_loss: 0.5453 - val_accuracy: 0.7707\n",
            "Epoch 27/4000\n",
            "214/214 [==============================] - 0s 2ms/step - loss: 0.5641 - accuracy: 0.7652 - val_loss: 0.5435 - val_accuracy: 0.7748\n",
            "Epoch 28/4000\n",
            "214/214 [==============================] - 1s 2ms/step - loss: 0.5625 - accuracy: 0.7674 - val_loss: 0.5419 - val_accuracy: 0.7752\n",
            "Epoch 29/4000\n",
            "214/214 [==============================] - 0s 2ms/step - loss: 0.5610 - accuracy: 0.7680 - val_loss: 0.5404 - val_accuracy: 0.7734\n",
            "Epoch 30/4000\n",
            "214/214 [==============================] - 0s 2ms/step - loss: 0.5597 - accuracy: 0.7661 - val_loss: 0.5380 - val_accuracy: 0.7769\n",
            "Epoch 31/4000\n",
            "214/214 [==============================] - 0s 2ms/step - loss: 0.5585 - accuracy: 0.7681 - val_loss: 0.5381 - val_accuracy: 0.7714\n",
            "Epoch 32/4000\n",
            "214/214 [==============================] - 0s 2ms/step - loss: 0.5575 - accuracy: 0.7677 - val_loss: 0.5361 - val_accuracy: 0.7652\n",
            "Epoch 33/4000\n",
            "214/214 [==============================] - 0s 2ms/step - loss: 0.5566 - accuracy: 0.7672 - val_loss: 0.5355 - val_accuracy: 0.7803\n",
            "Epoch 34/4000\n",
            "214/214 [==============================] - 0s 2ms/step - loss: 0.5558 - accuracy: 0.7658 - val_loss: 0.5354 - val_accuracy: 0.7676\n",
            "Epoch 35/4000\n",
            "214/214 [==============================] - 0s 2ms/step - loss: 0.5551 - accuracy: 0.7681 - val_loss: 0.5340 - val_accuracy: 0.7666\n",
            "Epoch 36/4000\n",
            "214/214 [==============================] - 0s 2ms/step - loss: 0.5543 - accuracy: 0.7678 - val_loss: 0.5332 - val_accuracy: 0.7724\n",
            "Epoch 37/4000\n",
            "214/214 [==============================] - 0s 2ms/step - loss: 0.5536 - accuracy: 0.7672 - val_loss: 0.5327 - val_accuracy: 0.7669\n",
            "Epoch 38/4000\n",
            "214/214 [==============================] - 0s 2ms/step - loss: 0.5531 - accuracy: 0.7685 - val_loss: 0.5320 - val_accuracy: 0.7679\n",
            "Epoch 39/4000\n",
            "214/214 [==============================] - 0s 2ms/step - loss: 0.5525 - accuracy: 0.7677 - val_loss: 0.5302 - val_accuracy: 0.7707\n",
            "Epoch 40/4000\n",
            "214/214 [==============================] - 0s 2ms/step - loss: 0.5519 - accuracy: 0.7653 - val_loss: 0.5298 - val_accuracy: 0.7772\n",
            "Epoch 41/4000\n",
            "214/214 [==============================] - 0s 2ms/step - loss: 0.5515 - accuracy: 0.7681 - val_loss: 0.5297 - val_accuracy: 0.7717\n",
            "Epoch 42/4000\n",
            "214/214 [==============================] - 0s 2ms/step - loss: 0.5510 - accuracy: 0.7665 - val_loss: 0.5307 - val_accuracy: 0.7659\n",
            "Epoch 43/4000\n",
            "214/214 [==============================] - 0s 2ms/step - loss: 0.5508 - accuracy: 0.7672 - val_loss: 0.5288 - val_accuracy: 0.7755\n",
            "Epoch 44/4000\n",
            "214/214 [==============================] - 0s 2ms/step - loss: 0.5503 - accuracy: 0.7665 - val_loss: 0.5279 - val_accuracy: 0.7738\n",
            "Epoch 45/4000\n",
            "214/214 [==============================] - 0s 2ms/step - loss: 0.5500 - accuracy: 0.7675 - val_loss: 0.5287 - val_accuracy: 0.7672\n",
            "Epoch 46/4000\n",
            "214/214 [==============================] - 0s 2ms/step - loss: 0.5498 - accuracy: 0.7680 - val_loss: 0.5277 - val_accuracy: 0.7779\n",
            "Epoch 47/4000\n",
            "214/214 [==============================] - 0s 2ms/step - loss: 0.5495 - accuracy: 0.7680 - val_loss: 0.5277 - val_accuracy: 0.7783\n",
            "Epoch 48/4000\n",
            "214/214 [==============================] - 0s 2ms/step - loss: 0.5490 - accuracy: 0.7677 - val_loss: 0.5261 - val_accuracy: 0.7783\n",
            "Epoch 49/4000\n",
            "214/214 [==============================] - 0s 2ms/step - loss: 0.5489 - accuracy: 0.7696 - val_loss: 0.5268 - val_accuracy: 0.7759\n",
            "Epoch 50/4000\n",
            "214/214 [==============================] - 0s 2ms/step - loss: 0.5487 - accuracy: 0.7671 - val_loss: 0.5265 - val_accuracy: 0.7686\n",
            "Epoch 51/4000\n",
            "214/214 [==============================] - 0s 2ms/step - loss: 0.5486 - accuracy: 0.7680 - val_loss: 0.5267 - val_accuracy: 0.7783\n",
            "Epoch 52/4000\n",
            "214/214 [==============================] - 0s 2ms/step - loss: 0.5484 - accuracy: 0.7691 - val_loss: 0.5255 - val_accuracy: 0.7793\n",
            "Epoch 53/4000\n",
            "214/214 [==============================] - 0s 2ms/step - loss: 0.5480 - accuracy: 0.7682 - val_loss: 0.5272 - val_accuracy: 0.7690\n",
            "Epoch 54/4000\n",
            "214/214 [==============================] - 0s 2ms/step - loss: 0.5478 - accuracy: 0.7674 - val_loss: 0.5271 - val_accuracy: 0.7738\n",
            "Epoch 55/4000\n",
            "214/214 [==============================] - 0s 2ms/step - loss: 0.5477 - accuracy: 0.7696 - val_loss: 0.5266 - val_accuracy: 0.7686\n",
            "Epoch 56/4000\n",
            "214/214 [==============================] - 0s 2ms/step - loss: 0.5474 - accuracy: 0.7694 - val_loss: 0.5253 - val_accuracy: 0.7793\n",
            "Epoch 57/4000\n",
            "214/214 [==============================] - 0s 2ms/step - loss: 0.5472 - accuracy: 0.7709 - val_loss: 0.5246 - val_accuracy: 0.7786\n",
            "Epoch 58/4000\n",
            "214/214 [==============================] - 0s 2ms/step - loss: 0.5468 - accuracy: 0.7693 - val_loss: 0.5251 - val_accuracy: 0.7766\n",
            "Epoch 59/4000\n",
            "214/214 [==============================] - 0s 2ms/step - loss: 0.5468 - accuracy: 0.7718 - val_loss: 0.5245 - val_accuracy: 0.7862\n",
            "Epoch 60/4000\n",
            "214/214 [==============================] - 0s 2ms/step - loss: 0.5464 - accuracy: 0.7719 - val_loss: 0.5262 - val_accuracy: 0.7621\n",
            "Epoch 61/4000\n",
            "214/214 [==============================] - 0s 2ms/step - loss: 0.5463 - accuracy: 0.7697 - val_loss: 0.5257 - val_accuracy: 0.7800\n",
            "Epoch 62/4000\n",
            "214/214 [==============================] - 0s 2ms/step - loss: 0.5461 - accuracy: 0.7715 - val_loss: 0.5241 - val_accuracy: 0.7790\n",
            "Epoch 63/4000\n",
            "214/214 [==============================] - 0s 2ms/step - loss: 0.5460 - accuracy: 0.7709 - val_loss: 0.5243 - val_accuracy: 0.7803\n",
            "Epoch 64/4000\n",
            "214/214 [==============================] - 0s 2ms/step - loss: 0.5458 - accuracy: 0.7703 - val_loss: 0.5242 - val_accuracy: 0.7793\n",
            "Epoch 65/4000\n",
            "214/214 [==============================] - 0s 2ms/step - loss: 0.5457 - accuracy: 0.7715 - val_loss: 0.5234 - val_accuracy: 0.7800\n",
            "Epoch 66/4000\n",
            "214/214 [==============================] - 0s 2ms/step - loss: 0.5455 - accuracy: 0.7696 - val_loss: 0.5239 - val_accuracy: 0.7786\n",
            "Epoch 67/4000\n",
            "214/214 [==============================] - 0s 2ms/step - loss: 0.5455 - accuracy: 0.7715 - val_loss: 0.5240 - val_accuracy: 0.7793\n",
            "Epoch 68/4000\n",
            "214/214 [==============================] - 0s 2ms/step - loss: 0.5453 - accuracy: 0.7718 - val_loss: 0.5247 - val_accuracy: 0.7641\n",
            "Epoch 69/4000\n",
            "214/214 [==============================] - 0s 2ms/step - loss: 0.5452 - accuracy: 0.7696 - val_loss: 0.5238 - val_accuracy: 0.7803\n",
            "Epoch 70/4000\n",
            "214/214 [==============================] - 0s 2ms/step - loss: 0.5451 - accuracy: 0.7699 - val_loss: 0.5240 - val_accuracy: 0.7797\n",
            "Epoch 71/4000\n",
            "214/214 [==============================] - 0s 2ms/step - loss: 0.5449 - accuracy: 0.7703 - val_loss: 0.5240 - val_accuracy: 0.7803\n",
            "Epoch 72/4000\n",
            "214/214 [==============================] - 0s 2ms/step - loss: 0.5449 - accuracy: 0.7703 - val_loss: 0.5224 - val_accuracy: 0.7800\n",
            "Epoch 73/4000\n",
            "214/214 [==============================] - 0s 2ms/step - loss: 0.5448 - accuracy: 0.7677 - val_loss: 0.5229 - val_accuracy: 0.7759\n",
            "Epoch 74/4000\n",
            "214/214 [==============================] - 0s 2ms/step - loss: 0.5448 - accuracy: 0.7700 - val_loss: 0.5224 - val_accuracy: 0.7821\n",
            "Epoch 75/4000\n",
            "214/214 [==============================] - 0s 2ms/step - loss: 0.5447 - accuracy: 0.7687 - val_loss: 0.5222 - val_accuracy: 0.7810\n",
            "Epoch 76/4000\n",
            "214/214 [==============================] - 0s 2ms/step - loss: 0.5445 - accuracy: 0.7716 - val_loss: 0.5216 - val_accuracy: 0.7862\n",
            "Epoch 77/4000\n",
            "214/214 [==============================] - 0s 2ms/step - loss: 0.5446 - accuracy: 0.7702 - val_loss: 0.5225 - val_accuracy: 0.7817\n",
            "Epoch 78/4000\n",
            "214/214 [==============================] - 0s 2ms/step - loss: 0.5445 - accuracy: 0.7699 - val_loss: 0.5232 - val_accuracy: 0.7797\n",
            "Epoch 79/4000\n",
            "214/214 [==============================] - 0s 2ms/step - loss: 0.5446 - accuracy: 0.7707 - val_loss: 0.5221 - val_accuracy: 0.7783\n",
            "Epoch 80/4000\n",
            "214/214 [==============================] - 0s 2ms/step - loss: 0.5444 - accuracy: 0.7704 - val_loss: 0.5226 - val_accuracy: 0.7828\n",
            "Epoch 81/4000\n",
            "214/214 [==============================] - 0s 2ms/step - loss: 0.5444 - accuracy: 0.7707 - val_loss: 0.5224 - val_accuracy: 0.7814\n",
            "Epoch 82/4000\n",
            "214/214 [==============================] - 0s 2ms/step - loss: 0.5443 - accuracy: 0.7710 - val_loss: 0.5226 - val_accuracy: 0.7728\n",
            "Epoch 83/4000\n",
            "214/214 [==============================] - 0s 2ms/step - loss: 0.5444 - accuracy: 0.7694 - val_loss: 0.5230 - val_accuracy: 0.7803\n",
            "Epoch 84/4000\n",
            "214/214 [==============================] - 0s 2ms/step - loss: 0.5442 - accuracy: 0.7706 - val_loss: 0.5226 - val_accuracy: 0.7793\n",
            "Epoch 85/4000\n",
            "214/214 [==============================] - 0s 2ms/step - loss: 0.5443 - accuracy: 0.7704 - val_loss: 0.5224 - val_accuracy: 0.7866\n",
            "Epoch 86/4000\n",
            "214/214 [==============================] - 1s 5ms/step - loss: 0.5442 - accuracy: 0.7687 - val_loss: 0.5222 - val_accuracy: 0.7831\n",
            "Epoch 87/4000\n",
            "214/214 [==============================] - 1s 4ms/step - loss: 0.5442 - accuracy: 0.7716 - val_loss: 0.5222 - val_accuracy: 0.7814\n",
            "Epoch 88/4000\n",
            "214/214 [==============================] - 1s 3ms/step - loss: 0.5442 - accuracy: 0.7709 - val_loss: 0.5226 - val_accuracy: 0.7786\n",
            "Epoch 89/4000\n",
            "214/214 [==============================] - 1s 5ms/step - loss: 0.5441 - accuracy: 0.7706 - val_loss: 0.5216 - val_accuracy: 0.7793\n",
            "Epoch 90/4000\n",
            "214/214 [==============================] - 0s 2ms/step - loss: 0.5441 - accuracy: 0.7699 - val_loss: 0.5221 - val_accuracy: 0.7797\n",
            "Epoch 91/4000\n",
            "214/214 [==============================] - 0s 2ms/step - loss: 0.5441 - accuracy: 0.7700 - val_loss: 0.5228 - val_accuracy: 0.7797\n",
            "Epoch 92/4000\n",
            "214/214 [==============================] - 0s 2ms/step - loss: 0.5440 - accuracy: 0.7699 - val_loss: 0.5238 - val_accuracy: 0.7734\n",
            "Epoch 93/4000\n",
            "214/214 [==============================] - 0s 2ms/step - loss: 0.5440 - accuracy: 0.7713 - val_loss: 0.5222 - val_accuracy: 0.7783\n",
            "Epoch 94/4000\n",
            "214/214 [==============================] - 0s 2ms/step - loss: 0.5440 - accuracy: 0.7700 - val_loss: 0.5223 - val_accuracy: 0.7790\n",
            "Epoch 95/4000\n",
            "214/214 [==============================] - 0s 2ms/step - loss: 0.5439 - accuracy: 0.7693 - val_loss: 0.5220 - val_accuracy: 0.7862\n",
            "Epoch 96/4000\n",
            "214/214 [==============================] - 0s 2ms/step - loss: 0.5440 - accuracy: 0.7693 - val_loss: 0.5221 - val_accuracy: 0.7803\n",
            "Epoch 97/4000\n",
            "214/214 [==============================] - 0s 2ms/step - loss: 0.5439 - accuracy: 0.7700 - val_loss: 0.5209 - val_accuracy: 0.7807\n",
            "Epoch 98/4000\n",
            "214/214 [==============================] - 0s 2ms/step - loss: 0.5439 - accuracy: 0.7713 - val_loss: 0.5221 - val_accuracy: 0.7793\n",
            "Epoch 99/4000\n",
            "214/214 [==============================] - 0s 2ms/step - loss: 0.5439 - accuracy: 0.7702 - val_loss: 0.5217 - val_accuracy: 0.7814\n",
            "Epoch 100/4000\n",
            "214/214 [==============================] - 0s 2ms/step - loss: 0.5436 - accuracy: 0.7706 - val_loss: 0.5216 - val_accuracy: 0.7783\n",
            "Epoch 101/4000\n",
            "214/214 [==============================] - 0s 2ms/step - loss: 0.5438 - accuracy: 0.7693 - val_loss: 0.5217 - val_accuracy: 0.7803\n",
            "Epoch 102/4000\n",
            "214/214 [==============================] - 0s 2ms/step - loss: 0.5437 - accuracy: 0.7702 - val_loss: 0.5215 - val_accuracy: 0.7852\n",
            "Epoch 103/4000\n",
            "214/214 [==============================] - 0s 2ms/step - loss: 0.5436 - accuracy: 0.7703 - val_loss: 0.5204 - val_accuracy: 0.7824\n",
            "Epoch 104/4000\n",
            "214/214 [==============================] - 0s 2ms/step - loss: 0.5437 - accuracy: 0.7715 - val_loss: 0.5208 - val_accuracy: 0.7790\n",
            "Epoch 105/4000\n",
            "214/214 [==============================] - 0s 2ms/step - loss: 0.5437 - accuracy: 0.7693 - val_loss: 0.5215 - val_accuracy: 0.7817\n",
            "Epoch 106/4000\n",
            "214/214 [==============================] - 0s 2ms/step - loss: 0.5437 - accuracy: 0.7707 - val_loss: 0.5212 - val_accuracy: 0.7786\n",
            "Epoch 107/4000\n",
            "214/214 [==============================] - 1s 2ms/step - loss: 0.5436 - accuracy: 0.7704 - val_loss: 0.5223 - val_accuracy: 0.7793\n",
            "Epoch 108/4000\n",
            "214/214 [==============================] - 0s 2ms/step - loss: 0.5436 - accuracy: 0.7713 - val_loss: 0.5215 - val_accuracy: 0.7793\n",
            "Epoch 109/4000\n",
            "214/214 [==============================] - 0s 2ms/step - loss: 0.5436 - accuracy: 0.7694 - val_loss: 0.5210 - val_accuracy: 0.7790\n",
            "Epoch 110/4000\n",
            "214/214 [==============================] - 0s 2ms/step - loss: 0.5435 - accuracy: 0.7712 - val_loss: 0.5210 - val_accuracy: 0.7779\n",
            "Epoch 111/4000\n",
            "214/214 [==============================] - 1s 2ms/step - loss: 0.5435 - accuracy: 0.7697 - val_loss: 0.5199 - val_accuracy: 0.7852\n",
            "Epoch 112/4000\n",
            "214/214 [==============================] - 0s 2ms/step - loss: 0.5434 - accuracy: 0.7715 - val_loss: 0.5201 - val_accuracy: 0.7803\n",
            "Epoch 113/4000\n",
            "214/214 [==============================] - 0s 2ms/step - loss: 0.5435 - accuracy: 0.7712 - val_loss: 0.5200 - val_accuracy: 0.7852\n",
            "Epoch 114/4000\n",
            "214/214 [==============================] - 0s 2ms/step - loss: 0.5435 - accuracy: 0.7704 - val_loss: 0.5206 - val_accuracy: 0.7790\n",
            "Epoch 115/4000\n",
            "214/214 [==============================] - 0s 2ms/step - loss: 0.5434 - accuracy: 0.7710 - val_loss: 0.5203 - val_accuracy: 0.7783\n",
            "Epoch 116/4000\n",
            "214/214 [==============================] - 0s 2ms/step - loss: 0.5433 - accuracy: 0.7702 - val_loss: 0.5203 - val_accuracy: 0.7831\n",
            "Epoch 117/4000\n",
            "214/214 [==============================] - 0s 2ms/step - loss: 0.5433 - accuracy: 0.7704 - val_loss: 0.5199 - val_accuracy: 0.7800\n",
            "Epoch 118/4000\n",
            "214/214 [==============================] - 0s 2ms/step - loss: 0.5433 - accuracy: 0.7702 - val_loss: 0.5194 - val_accuracy: 0.7797\n",
            "Epoch 119/4000\n",
            "214/214 [==============================] - 0s 2ms/step - loss: 0.5432 - accuracy: 0.7715 - val_loss: 0.5194 - val_accuracy: 0.7803\n",
            "Epoch 120/4000\n",
            "214/214 [==============================] - 0s 2ms/step - loss: 0.5433 - accuracy: 0.7690 - val_loss: 0.5195 - val_accuracy: 0.7807\n",
            "Epoch 121/4000\n",
            "214/214 [==============================] - 0s 2ms/step - loss: 0.5432 - accuracy: 0.7706 - val_loss: 0.5204 - val_accuracy: 0.7810\n",
            "Epoch 122/4000\n",
            "214/214 [==============================] - 0s 2ms/step - loss: 0.5431 - accuracy: 0.7703 - val_loss: 0.5199 - val_accuracy: 0.7797\n",
            "Epoch 123/4000\n",
            "214/214 [==============================] - 0s 2ms/step - loss: 0.5431 - accuracy: 0.7707 - val_loss: 0.5194 - val_accuracy: 0.7810\n",
            "Epoch 124/4000\n",
            "214/214 [==============================] - 1s 2ms/step - loss: 0.5431 - accuracy: 0.7718 - val_loss: 0.5190 - val_accuracy: 0.7776\n",
            "Epoch 125/4000\n",
            "214/214 [==============================] - 0s 2ms/step - loss: 0.5431 - accuracy: 0.7709 - val_loss: 0.5190 - val_accuracy: 0.7866\n",
            "Epoch 126/4000\n",
            "214/214 [==============================] - 0s 2ms/step - loss: 0.5430 - accuracy: 0.7704 - val_loss: 0.5206 - val_accuracy: 0.7800\n",
            "Epoch 127/4000\n",
            "214/214 [==============================] - 0s 2ms/step - loss: 0.5430 - accuracy: 0.7716 - val_loss: 0.5198 - val_accuracy: 0.7752\n",
            "Epoch 128/4000\n",
            "214/214 [==============================] - 1s 2ms/step - loss: 0.5430 - accuracy: 0.7713 - val_loss: 0.5205 - val_accuracy: 0.7838\n",
            "Epoch 129/4000\n",
            "214/214 [==============================] - 0s 2ms/step - loss: 0.5431 - accuracy: 0.7731 - val_loss: 0.5196 - val_accuracy: 0.7783\n",
            "Epoch 130/4000\n",
            "214/214 [==============================] - 0s 2ms/step - loss: 0.5430 - accuracy: 0.7704 - val_loss: 0.5194 - val_accuracy: 0.7779\n",
            "Epoch 131/4000\n",
            "214/214 [==============================] - 0s 2ms/step - loss: 0.5429 - accuracy: 0.7697 - val_loss: 0.5198 - val_accuracy: 0.7803\n",
            "Epoch 132/4000\n",
            "214/214 [==============================] - 0s 2ms/step - loss: 0.5430 - accuracy: 0.7707 - val_loss: 0.5201 - val_accuracy: 0.7800\n",
            "Epoch 133/4000\n",
            "214/214 [==============================] - 0s 2ms/step - loss: 0.5428 - accuracy: 0.7724 - val_loss: 0.5188 - val_accuracy: 0.7766\n",
            "Epoch 134/4000\n",
            "214/214 [==============================] - 0s 2ms/step - loss: 0.5428 - accuracy: 0.7728 - val_loss: 0.5196 - val_accuracy: 0.7793\n",
            "Epoch 135/4000\n",
            "214/214 [==============================] - 0s 2ms/step - loss: 0.5428 - accuracy: 0.7710 - val_loss: 0.5184 - val_accuracy: 0.7790\n",
            "Epoch 136/4000\n",
            "214/214 [==============================] - 0s 2ms/step - loss: 0.5428 - accuracy: 0.7712 - val_loss: 0.5186 - val_accuracy: 0.7776\n",
            "Epoch 137/4000\n",
            "214/214 [==============================] - 0s 2ms/step - loss: 0.5427 - accuracy: 0.7697 - val_loss: 0.5187 - val_accuracy: 0.7759\n",
            "Epoch 138/4000\n",
            "214/214 [==============================] - 0s 2ms/step - loss: 0.5428 - accuracy: 0.7702 - val_loss: 0.5185 - val_accuracy: 0.7814\n",
            "Epoch 139/4000\n",
            "214/214 [==============================] - 0s 2ms/step - loss: 0.5428 - accuracy: 0.7699 - val_loss: 0.5186 - val_accuracy: 0.7824\n",
            "Epoch 140/4000\n",
            "214/214 [==============================] - 0s 2ms/step - loss: 0.5428 - accuracy: 0.7709 - val_loss: 0.5183 - val_accuracy: 0.7803\n",
            "Epoch 141/4000\n",
            "214/214 [==============================] - 0s 2ms/step - loss: 0.5426 - accuracy: 0.7693 - val_loss: 0.5187 - val_accuracy: 0.7807\n",
            "Epoch 142/4000\n",
            "214/214 [==============================] - 0s 2ms/step - loss: 0.5425 - accuracy: 0.7710 - val_loss: 0.5192 - val_accuracy: 0.7793\n",
            "Epoch 143/4000\n",
            "214/214 [==============================] - 1s 2ms/step - loss: 0.5426 - accuracy: 0.7690 - val_loss: 0.5183 - val_accuracy: 0.7783\n",
            "Epoch 144/4000\n",
            "214/214 [==============================] - 0s 2ms/step - loss: 0.5426 - accuracy: 0.7707 - val_loss: 0.5184 - val_accuracy: 0.7793\n",
            "Epoch 145/4000\n",
            "214/214 [==============================] - 0s 2ms/step - loss: 0.5425 - accuracy: 0.7729 - val_loss: 0.5193 - val_accuracy: 0.7772\n",
            "Epoch 146/4000\n",
            "214/214 [==============================] - 0s 2ms/step - loss: 0.5425 - accuracy: 0.7694 - val_loss: 0.5197 - val_accuracy: 0.7793\n",
            "Epoch 147/4000\n",
            "214/214 [==============================] - 0s 2ms/step - loss: 0.5424 - accuracy: 0.7704 - val_loss: 0.5187 - val_accuracy: 0.7648\n",
            "Epoch 148/4000\n",
            "214/214 [==============================] - 0s 2ms/step - loss: 0.5423 - accuracy: 0.7716 - val_loss: 0.5186 - val_accuracy: 0.7759\n",
            "Epoch 149/4000\n",
            "214/214 [==============================] - 0s 2ms/step - loss: 0.5423 - accuracy: 0.7697 - val_loss: 0.5196 - val_accuracy: 0.7614\n",
            "Epoch 150/4000\n",
            "214/214 [==============================] - 0s 2ms/step - loss: 0.5424 - accuracy: 0.7722 - val_loss: 0.5196 - val_accuracy: 0.7676\n",
            "Epoch 151/4000\n",
            "214/214 [==============================] - 0s 2ms/step - loss: 0.5424 - accuracy: 0.7699 - val_loss: 0.5190 - val_accuracy: 0.7807\n",
            "Epoch 152/4000\n",
            "214/214 [==============================] - 0s 2ms/step - loss: 0.5423 - accuracy: 0.7709 - val_loss: 0.5190 - val_accuracy: 0.7810\n",
            "Epoch 153/4000\n",
            "214/214 [==============================] - 0s 2ms/step - loss: 0.5422 - accuracy: 0.7702 - val_loss: 0.5179 - val_accuracy: 0.7766\n",
            "Epoch 154/4000\n",
            "214/214 [==============================] - 1s 2ms/step - loss: 0.5423 - accuracy: 0.7709 - val_loss: 0.5182 - val_accuracy: 0.7769\n",
            "Epoch 155/4000\n",
            "214/214 [==============================] - 0s 2ms/step - loss: 0.5423 - accuracy: 0.7697 - val_loss: 0.5199 - val_accuracy: 0.7814\n",
            "Epoch 156/4000\n",
            "214/214 [==============================] - 0s 2ms/step - loss: 0.5422 - accuracy: 0.7699 - val_loss: 0.5178 - val_accuracy: 0.7852\n",
            "Epoch 157/4000\n",
            "214/214 [==============================] - 0s 2ms/step - loss: 0.5422 - accuracy: 0.7706 - val_loss: 0.5182 - val_accuracy: 0.7752\n",
            "Epoch 158/4000\n",
            "214/214 [==============================] - 0s 2ms/step - loss: 0.5422 - accuracy: 0.7716 - val_loss: 0.5185 - val_accuracy: 0.7790\n",
            "Epoch 159/4000\n",
            "214/214 [==============================] - 0s 2ms/step - loss: 0.5421 - accuracy: 0.7712 - val_loss: 0.5191 - val_accuracy: 0.7766\n",
            "Epoch 160/4000\n",
            "214/214 [==============================] - 0s 2ms/step - loss: 0.5420 - accuracy: 0.7712 - val_loss: 0.5184 - val_accuracy: 0.7783\n",
            "Epoch 161/4000\n",
            "214/214 [==============================] - 0s 2ms/step - loss: 0.5420 - accuracy: 0.7712 - val_loss: 0.5182 - val_accuracy: 0.7738\n",
            "Epoch 162/4000\n",
            "214/214 [==============================] - 0s 2ms/step - loss: 0.5420 - accuracy: 0.7722 - val_loss: 0.5177 - val_accuracy: 0.7697\n",
            "Epoch 163/4000\n",
            "214/214 [==============================] - 0s 2ms/step - loss: 0.5418 - accuracy: 0.7713 - val_loss: 0.5183 - val_accuracy: 0.7769\n",
            "Epoch 164/4000\n",
            "214/214 [==============================] - 0s 2ms/step - loss: 0.5420 - accuracy: 0.7709 - val_loss: 0.5187 - val_accuracy: 0.7807\n",
            "Epoch 165/4000\n",
            "214/214 [==============================] - 0s 2ms/step - loss: 0.5419 - accuracy: 0.7709 - val_loss: 0.5187 - val_accuracy: 0.7772\n",
            "Epoch 166/4000\n",
            "214/214 [==============================] - 0s 2ms/step - loss: 0.5419 - accuracy: 0.7704 - val_loss: 0.5200 - val_accuracy: 0.7755\n",
            "Epoch 167/4000\n",
            "214/214 [==============================] - 0s 2ms/step - loss: 0.5420 - accuracy: 0.7728 - val_loss: 0.5171 - val_accuracy: 0.7790\n",
            "Epoch 168/4000\n",
            "214/214 [==============================] - 1s 2ms/step - loss: 0.5419 - accuracy: 0.7706 - val_loss: 0.5166 - val_accuracy: 0.7814\n",
            "Epoch 169/4000\n",
            "214/214 [==============================] - 1s 2ms/step - loss: 0.5418 - accuracy: 0.7716 - val_loss: 0.5169 - val_accuracy: 0.7769\n",
            "Epoch 170/4000\n",
            "214/214 [==============================] - 0s 2ms/step - loss: 0.5419 - accuracy: 0.7703 - val_loss: 0.5168 - val_accuracy: 0.7793\n",
            "Epoch 171/4000\n",
            "214/214 [==============================] - 0s 2ms/step - loss: 0.5419 - accuracy: 0.7719 - val_loss: 0.5168 - val_accuracy: 0.7803\n",
            "Epoch 172/4000\n",
            "214/214 [==============================] - 0s 2ms/step - loss: 0.5416 - accuracy: 0.7703 - val_loss: 0.5185 - val_accuracy: 0.7624\n",
            "Epoch 173/4000\n",
            "214/214 [==============================] - 0s 2ms/step - loss: 0.5419 - accuracy: 0.7706 - val_loss: 0.5176 - val_accuracy: 0.7600\n",
            "Epoch 174/4000\n",
            "214/214 [==============================] - 0s 2ms/step - loss: 0.5418 - accuracy: 0.7719 - val_loss: 0.5167 - val_accuracy: 0.7779\n",
            "Epoch 175/4000\n",
            "214/214 [==============================] - 0s 2ms/step - loss: 0.5417 - accuracy: 0.7697 - val_loss: 0.5177 - val_accuracy: 0.7610\n",
            "Epoch 176/4000\n",
            "214/214 [==============================] - 0s 2ms/step - loss: 0.5418 - accuracy: 0.7703 - val_loss: 0.5178 - val_accuracy: 0.7731\n",
            "Epoch 177/4000\n",
            "214/214 [==============================] - 0s 2ms/step - loss: 0.5418 - accuracy: 0.7709 - val_loss: 0.5164 - val_accuracy: 0.7797\n",
            "Epoch 178/4000\n",
            "214/214 [==============================] - 0s 2ms/step - loss: 0.5417 - accuracy: 0.7687 - val_loss: 0.5164 - val_accuracy: 0.7772\n",
            "Epoch 179/4000\n",
            "214/214 [==============================] - 0s 2ms/step - loss: 0.5416 - accuracy: 0.7681 - val_loss: 0.5166 - val_accuracy: 0.7659\n",
            "Epoch 180/4000\n",
            "214/214 [==============================] - 0s 2ms/step - loss: 0.5417 - accuracy: 0.7704 - val_loss: 0.5155 - val_accuracy: 0.7803\n",
            "Epoch 181/4000\n",
            "214/214 [==============================] - 0s 2ms/step - loss: 0.5417 - accuracy: 0.7721 - val_loss: 0.5162 - val_accuracy: 0.7807\n",
            "Epoch 182/4000\n",
            "214/214 [==============================] - 0s 2ms/step - loss: 0.5416 - accuracy: 0.7713 - val_loss: 0.5162 - val_accuracy: 0.7790\n",
            "Epoch 183/4000\n",
            "214/214 [==============================] - 0s 2ms/step - loss: 0.5416 - accuracy: 0.7713 - val_loss: 0.5166 - val_accuracy: 0.7790\n",
            "Epoch 184/4000\n",
            "214/214 [==============================] - 0s 2ms/step - loss: 0.5416 - accuracy: 0.7707 - val_loss: 0.5169 - val_accuracy: 0.7797\n",
            "Epoch 185/4000\n",
            "214/214 [==============================] - 1s 2ms/step - loss: 0.5415 - accuracy: 0.7697 - val_loss: 0.5183 - val_accuracy: 0.7645\n",
            "Epoch 186/4000\n",
            "214/214 [==============================] - 0s 2ms/step - loss: 0.5416 - accuracy: 0.7712 - val_loss: 0.5171 - val_accuracy: 0.7762\n",
            "Epoch 187/4000\n",
            "214/214 [==============================] - 0s 2ms/step - loss: 0.5416 - accuracy: 0.7691 - val_loss: 0.5168 - val_accuracy: 0.7776\n",
            "Epoch 188/4000\n",
            "214/214 [==============================] - 0s 2ms/step - loss: 0.5416 - accuracy: 0.7715 - val_loss: 0.5160 - val_accuracy: 0.7793\n",
            "Epoch 189/4000\n",
            "214/214 [==============================] - 0s 2ms/step - loss: 0.5414 - accuracy: 0.7719 - val_loss: 0.5171 - val_accuracy: 0.7800\n",
            "Epoch 190/4000\n",
            "214/214 [==============================] - 0s 2ms/step - loss: 0.5415 - accuracy: 0.7718 - val_loss: 0.5163 - val_accuracy: 0.7779\n",
            "Epoch 191/4000\n",
            "214/214 [==============================] - 0s 2ms/step - loss: 0.5415 - accuracy: 0.7696 - val_loss: 0.5174 - val_accuracy: 0.7800\n",
            "Epoch 192/4000\n",
            "214/214 [==============================] - 0s 2ms/step - loss: 0.5414 - accuracy: 0.7699 - val_loss: 0.5151 - val_accuracy: 0.7807\n",
            "Epoch 193/4000\n",
            "214/214 [==============================] - 0s 2ms/step - loss: 0.5414 - accuracy: 0.7712 - val_loss: 0.5158 - val_accuracy: 0.7783\n",
            "Epoch 194/4000\n",
            "214/214 [==============================] - 0s 2ms/step - loss: 0.5415 - accuracy: 0.7702 - val_loss: 0.5157 - val_accuracy: 0.7790\n",
            "Epoch 195/4000\n",
            "214/214 [==============================] - 1s 2ms/step - loss: 0.5414 - accuracy: 0.7694 - val_loss: 0.5162 - val_accuracy: 0.7724\n",
            "Epoch 196/4000\n",
            "214/214 [==============================] - 1s 3ms/step - loss: 0.5413 - accuracy: 0.7704 - val_loss: 0.5165 - val_accuracy: 0.7831\n",
            "Epoch 197/4000\n",
            "214/214 [==============================] - 1s 3ms/step - loss: 0.5414 - accuracy: 0.7706 - val_loss: 0.5171 - val_accuracy: 0.7734\n",
            "Epoch 198/4000\n",
            "214/214 [==============================] - 1s 4ms/step - loss: 0.5414 - accuracy: 0.7710 - val_loss: 0.5156 - val_accuracy: 0.7800\n",
            "Epoch 199/4000\n",
            "214/214 [==============================] - 1s 3ms/step - loss: 0.5413 - accuracy: 0.7710 - val_loss: 0.5155 - val_accuracy: 0.7797\n",
            "Epoch 200/4000\n",
            "214/214 [==============================] - 1s 4ms/step - loss: 0.5413 - accuracy: 0.7725 - val_loss: 0.5154 - val_accuracy: 0.7793\n",
            "Epoch 201/4000\n",
            "214/214 [==============================] - 1s 3ms/step - loss: 0.5413 - accuracy: 0.7681 - val_loss: 0.5160 - val_accuracy: 0.7772\n",
            "Epoch 202/4000\n",
            "214/214 [==============================] - 0s 2ms/step - loss: 0.5414 - accuracy: 0.7704 - val_loss: 0.5168 - val_accuracy: 0.7593\n",
            "Epoch 203/4000\n",
            "214/214 [==============================] - 1s 2ms/step - loss: 0.5414 - accuracy: 0.7709 - val_loss: 0.5155 - val_accuracy: 0.7748\n",
            "Epoch 204/4000\n",
            "214/214 [==============================] - 0s 2ms/step - loss: 0.5413 - accuracy: 0.7696 - val_loss: 0.5159 - val_accuracy: 0.7752\n",
            "Epoch 205/4000\n",
            "214/214 [==============================] - 0s 2ms/step - loss: 0.5413 - accuracy: 0.7688 - val_loss: 0.5168 - val_accuracy: 0.7728\n",
            "Epoch 206/4000\n",
            "214/214 [==============================] - 1s 2ms/step - loss: 0.5413 - accuracy: 0.7716 - val_loss: 0.5151 - val_accuracy: 0.7859\n",
            "Epoch 207/4000\n",
            "214/214 [==============================] - 0s 2ms/step - loss: 0.5412 - accuracy: 0.7694 - val_loss: 0.5158 - val_accuracy: 0.7597\n",
            "Epoch 208/4000\n",
            "214/214 [==============================] - 0s 2ms/step - loss: 0.5414 - accuracy: 0.7693 - val_loss: 0.5155 - val_accuracy: 0.7793\n",
            "Epoch 209/4000\n",
            "214/214 [==============================] - 1s 2ms/step - loss: 0.5412 - accuracy: 0.7702 - val_loss: 0.5156 - val_accuracy: 0.7703\n",
            "Epoch 210/4000\n",
            "214/214 [==============================] - 0s 2ms/step - loss: 0.5411 - accuracy: 0.7716 - val_loss: 0.5144 - val_accuracy: 0.7866\n",
            "Epoch 211/4000\n",
            "214/214 [==============================] - 0s 2ms/step - loss: 0.5412 - accuracy: 0.7681 - val_loss: 0.5143 - val_accuracy: 0.7790\n",
            "Epoch 212/4000\n",
            "214/214 [==============================] - 0s 2ms/step - loss: 0.5413 - accuracy: 0.7694 - val_loss: 0.5148 - val_accuracy: 0.7786\n",
            "Epoch 213/4000\n",
            "214/214 [==============================] - 0s 2ms/step - loss: 0.5413 - accuracy: 0.7697 - val_loss: 0.5158 - val_accuracy: 0.7783\n",
            "Epoch 214/4000\n",
            "214/214 [==============================] - 0s 2ms/step - loss: 0.5412 - accuracy: 0.7707 - val_loss: 0.5162 - val_accuracy: 0.7755\n",
            "Epoch 215/4000\n",
            "214/214 [==============================] - 0s 2ms/step - loss: 0.5412 - accuracy: 0.7703 - val_loss: 0.5157 - val_accuracy: 0.7876\n",
            "Epoch 216/4000\n",
            "214/214 [==============================] - 1s 2ms/step - loss: 0.5412 - accuracy: 0.7702 - val_loss: 0.5156 - val_accuracy: 0.7755\n",
            "Epoch 217/4000\n",
            "214/214 [==============================] - 1s 2ms/step - loss: 0.5413 - accuracy: 0.7696 - val_loss: 0.5150 - val_accuracy: 0.7745\n",
            "Epoch 218/4000\n",
            "214/214 [==============================] - 0s 2ms/step - loss: 0.5412 - accuracy: 0.7694 - val_loss: 0.5153 - val_accuracy: 0.7748\n",
            "Epoch 219/4000\n",
            "214/214 [==============================] - 0s 2ms/step - loss: 0.5412 - accuracy: 0.7694 - val_loss: 0.5152 - val_accuracy: 0.7783\n",
            "Epoch 220/4000\n",
            "214/214 [==============================] - 0s 2ms/step - loss: 0.5412 - accuracy: 0.7688 - val_loss: 0.5155 - val_accuracy: 0.7752\n",
            "Epoch 221/4000\n",
            "214/214 [==============================] - 0s 2ms/step - loss: 0.5411 - accuracy: 0.7706 - val_loss: 0.5144 - val_accuracy: 0.7834\n",
            "Epoch 222/4000\n",
            "214/214 [==============================] - 0s 2ms/step - loss: 0.5411 - accuracy: 0.7709 - val_loss: 0.5148 - val_accuracy: 0.7776\n",
            "Epoch 223/4000\n",
            "214/214 [==============================] - 0s 2ms/step - loss: 0.5411 - accuracy: 0.7699 - val_loss: 0.5149 - val_accuracy: 0.7741\n",
            "Epoch 224/4000\n",
            "214/214 [==============================] - 0s 2ms/step - loss: 0.5411 - accuracy: 0.7675 - val_loss: 0.5148 - val_accuracy: 0.7797\n",
            "Epoch 225/4000\n",
            "214/214 [==============================] - 0s 2ms/step - loss: 0.5411 - accuracy: 0.7690 - val_loss: 0.5143 - val_accuracy: 0.7803\n",
            "Epoch 226/4000\n",
            "214/214 [==============================] - 0s 2ms/step - loss: 0.5410 - accuracy: 0.7700 - val_loss: 0.5148 - val_accuracy: 0.7869\n",
            "Epoch 227/4000\n",
            "214/214 [==============================] - 1s 2ms/step - loss: 0.5411 - accuracy: 0.7690 - val_loss: 0.5146 - val_accuracy: 0.7876\n",
            "Epoch 228/4000\n",
            "214/214 [==============================] - 0s 2ms/step - loss: 0.5411 - accuracy: 0.7703 - val_loss: 0.5149 - val_accuracy: 0.7797\n",
            "Epoch 229/4000\n",
            "214/214 [==============================] - 0s 2ms/step - loss: 0.5409 - accuracy: 0.7697 - val_loss: 0.5144 - val_accuracy: 0.7883\n",
            "Epoch 230/4000\n",
            "214/214 [==============================] - 0s 2ms/step - loss: 0.5410 - accuracy: 0.7691 - val_loss: 0.5153 - val_accuracy: 0.7824\n",
            "Epoch 231/4000\n",
            "214/214 [==============================] - 0s 2ms/step - loss: 0.5410 - accuracy: 0.7699 - val_loss: 0.5149 - val_accuracy: 0.7786\n",
            "Epoch 232/4000\n",
            "214/214 [==============================] - 0s 2ms/step - loss: 0.5410 - accuracy: 0.7694 - val_loss: 0.5145 - val_accuracy: 0.7814\n",
            "Epoch 233/4000\n",
            "214/214 [==============================] - 0s 2ms/step - loss: 0.5411 - accuracy: 0.7693 - val_loss: 0.5147 - val_accuracy: 0.7814\n",
            "Epoch 234/4000\n",
            "214/214 [==============================] - 0s 2ms/step - loss: 0.5410 - accuracy: 0.7696 - val_loss: 0.5142 - val_accuracy: 0.7776\n",
            "Epoch 235/4000\n",
            "214/214 [==============================] - 0s 2ms/step - loss: 0.5410 - accuracy: 0.7691 - val_loss: 0.5138 - val_accuracy: 0.7755\n",
            "Epoch 236/4000\n",
            "214/214 [==============================] - 1s 2ms/step - loss: 0.5410 - accuracy: 0.7694 - val_loss: 0.5144 - val_accuracy: 0.7755\n",
            "Epoch 237/4000\n",
            "214/214 [==============================] - 1s 2ms/step - loss: 0.5410 - accuracy: 0.7693 - val_loss: 0.5134 - val_accuracy: 0.7838\n",
            "Epoch 238/4000\n",
            "214/214 [==============================] - 0s 2ms/step - loss: 0.5410 - accuracy: 0.7690 - val_loss: 0.5144 - val_accuracy: 0.7810\n",
            "Epoch 239/4000\n",
            "214/214 [==============================] - 0s 2ms/step - loss: 0.5410 - accuracy: 0.7691 - val_loss: 0.5138 - val_accuracy: 0.7803\n",
            "Epoch 240/4000\n",
            "214/214 [==============================] - 0s 2ms/step - loss: 0.5410 - accuracy: 0.7694 - val_loss: 0.5140 - val_accuracy: 0.7859\n",
            "Epoch 241/4000\n",
            "214/214 [==============================] - 0s 2ms/step - loss: 0.5410 - accuracy: 0.7691 - val_loss: 0.5138 - val_accuracy: 0.7793\n",
            "Epoch 242/4000\n",
            "214/214 [==============================] - 1s 2ms/step - loss: 0.5410 - accuracy: 0.7697 - val_loss: 0.5141 - val_accuracy: 0.7852\n",
            "Epoch 243/4000\n",
            "214/214 [==============================] - 0s 2ms/step - loss: 0.5409 - accuracy: 0.7693 - val_loss: 0.5140 - val_accuracy: 0.7776\n",
            "Epoch 244/4000\n",
            "214/214 [==============================] - 0s 2ms/step - loss: 0.5410 - accuracy: 0.7688 - val_loss: 0.5141 - val_accuracy: 0.7803\n",
            "Epoch 245/4000\n",
            "214/214 [==============================] - 0s 2ms/step - loss: 0.5407 - accuracy: 0.7706 - val_loss: 0.5163 - val_accuracy: 0.7659\n",
            "Epoch 246/4000\n",
            "214/214 [==============================] - 0s 2ms/step - loss: 0.5408 - accuracy: 0.7682 - val_loss: 0.5146 - val_accuracy: 0.7648\n",
            "Epoch 247/4000\n",
            "214/214 [==============================] - 1s 2ms/step - loss: 0.5407 - accuracy: 0.7696 - val_loss: 0.5139 - val_accuracy: 0.7841\n",
            "Epoch 248/4000\n",
            "214/214 [==============================] - 0s 2ms/step - loss: 0.5409 - accuracy: 0.7685 - val_loss: 0.5145 - val_accuracy: 0.7772\n",
            "Epoch 249/4000\n",
            "214/214 [==============================] - 0s 2ms/step - loss: 0.5409 - accuracy: 0.7672 - val_loss: 0.5148 - val_accuracy: 0.7755\n",
            "Epoch 250/4000\n",
            "214/214 [==============================] - 0s 2ms/step - loss: 0.5409 - accuracy: 0.7675 - val_loss: 0.5135 - val_accuracy: 0.7800\n",
            "Epoch 251/4000\n",
            "214/214 [==============================] - 0s 2ms/step - loss: 0.5409 - accuracy: 0.7691 - val_loss: 0.5136 - val_accuracy: 0.7793\n",
            "Epoch 252/4000\n",
            "214/214 [==============================] - 0s 2ms/step - loss: 0.5409 - accuracy: 0.7690 - val_loss: 0.5140 - val_accuracy: 0.7876\n",
            "Epoch 253/4000\n",
            "214/214 [==============================] - 0s 2ms/step - loss: 0.5408 - accuracy: 0.7685 - val_loss: 0.5138 - val_accuracy: 0.7810\n",
            "Epoch 254/4000\n",
            "214/214 [==============================] - 0s 2ms/step - loss: 0.5408 - accuracy: 0.7693 - val_loss: 0.5140 - val_accuracy: 0.7810\n",
            "Epoch 255/4000\n",
            "214/214 [==============================] - 0s 2ms/step - loss: 0.5408 - accuracy: 0.7696 - val_loss: 0.5135 - val_accuracy: 0.7762\n",
            "Epoch 256/4000\n",
            "214/214 [==============================] - 1s 2ms/step - loss: 0.5409 - accuracy: 0.7690 - val_loss: 0.5131 - val_accuracy: 0.7855\n",
            "Epoch 257/4000\n",
            "214/214 [==============================] - 0s 2ms/step - loss: 0.5407 - accuracy: 0.7696 - val_loss: 0.5138 - val_accuracy: 0.7862\n",
            "Epoch 258/4000\n",
            "214/214 [==============================] - 1s 2ms/step - loss: 0.5408 - accuracy: 0.7691 - val_loss: 0.5134 - val_accuracy: 0.7893\n",
            "Epoch 259/4000\n",
            "214/214 [==============================] - 0s 2ms/step - loss: 0.5407 - accuracy: 0.7703 - val_loss: 0.5131 - val_accuracy: 0.7690\n",
            "Epoch 260/4000\n",
            "214/214 [==============================] - 0s 2ms/step - loss: 0.5407 - accuracy: 0.7690 - val_loss: 0.5131 - val_accuracy: 0.7824\n",
            "Epoch 261/4000\n",
            "214/214 [==============================] - 0s 2ms/step - loss: 0.5408 - accuracy: 0.7693 - val_loss: 0.5134 - val_accuracy: 0.7807\n",
            "Epoch 262/4000\n",
            "214/214 [==============================] - 0s 2ms/step - loss: 0.5408 - accuracy: 0.7690 - val_loss: 0.5137 - val_accuracy: 0.7890\n",
            "Epoch 263/4000\n",
            "214/214 [==============================] - 1s 2ms/step - loss: 0.5407 - accuracy: 0.7694 - val_loss: 0.5132 - val_accuracy: 0.7786\n",
            "Epoch 264/4000\n",
            "214/214 [==============================] - 0s 2ms/step - loss: 0.5407 - accuracy: 0.7702 - val_loss: 0.5139 - val_accuracy: 0.7683\n",
            "Epoch 265/4000\n",
            "214/214 [==============================] - 1s 2ms/step - loss: 0.5409 - accuracy: 0.7685 - val_loss: 0.5134 - val_accuracy: 0.7821\n",
            "Epoch 266/4000\n",
            "214/214 [==============================] - 1s 2ms/step - loss: 0.5408 - accuracy: 0.7699 - val_loss: 0.5144 - val_accuracy: 0.7755\n",
            "Epoch 267/4000\n",
            "214/214 [==============================] - 1s 2ms/step - loss: 0.5408 - accuracy: 0.7688 - val_loss: 0.5146 - val_accuracy: 0.7748\n",
            "Epoch 268/4000\n",
            "214/214 [==============================] - 1s 2ms/step - loss: 0.5407 - accuracy: 0.7699 - val_loss: 0.5141 - val_accuracy: 0.7841\n",
            "Epoch 269/4000\n",
            "214/214 [==============================] - 0s 2ms/step - loss: 0.5408 - accuracy: 0.7684 - val_loss: 0.5138 - val_accuracy: 0.7772\n",
            "Epoch 270/4000\n",
            "214/214 [==============================] - 0s 2ms/step - loss: 0.5407 - accuracy: 0.7699 - val_loss: 0.5146 - val_accuracy: 0.7631\n",
            "Epoch 271/4000\n",
            "214/214 [==============================] - 0s 2ms/step - loss: 0.5408 - accuracy: 0.7693 - val_loss: 0.5132 - val_accuracy: 0.7855\n",
            "Epoch 272/4000\n",
            "214/214 [==============================] - 0s 2ms/step - loss: 0.5406 - accuracy: 0.7680 - val_loss: 0.5126 - val_accuracy: 0.7883\n",
            "Epoch 273/4000\n",
            "214/214 [==============================] - 1s 2ms/step - loss: 0.5407 - accuracy: 0.7684 - val_loss: 0.5134 - val_accuracy: 0.7724\n",
            "Epoch 274/4000\n",
            "214/214 [==============================] - 0s 2ms/step - loss: 0.5407 - accuracy: 0.7685 - val_loss: 0.5136 - val_accuracy: 0.7814\n",
            "Epoch 275/4000\n",
            "214/214 [==============================] - 0s 2ms/step - loss: 0.5406 - accuracy: 0.7693 - val_loss: 0.5135 - val_accuracy: 0.7879\n",
            "Epoch 276/4000\n",
            "214/214 [==============================] - 0s 2ms/step - loss: 0.5407 - accuracy: 0.7681 - val_loss: 0.5137 - val_accuracy: 0.7879\n",
            "Epoch 277/4000\n",
            "214/214 [==============================] - 0s 2ms/step - loss: 0.5406 - accuracy: 0.7703 - val_loss: 0.5143 - val_accuracy: 0.7621\n",
            "Epoch 278/4000\n",
            "214/214 [==============================] - 0s 2ms/step - loss: 0.5405 - accuracy: 0.7666 - val_loss: 0.5134 - val_accuracy: 0.7666\n",
            "Epoch 279/4000\n",
            "214/214 [==============================] - 1s 3ms/step - loss: 0.5408 - accuracy: 0.7684 - val_loss: 0.5130 - val_accuracy: 0.7886\n",
            "Epoch 280/4000\n",
            "214/214 [==============================] - 1s 2ms/step - loss: 0.5407 - accuracy: 0.7677 - val_loss: 0.5129 - val_accuracy: 0.7866\n",
            "Epoch 281/4000\n",
            "214/214 [==============================] - 1s 2ms/step - loss: 0.5407 - accuracy: 0.7688 - val_loss: 0.5131 - val_accuracy: 0.7769\n",
            "Epoch 282/4000\n",
            "214/214 [==============================] - 0s 2ms/step - loss: 0.5407 - accuracy: 0.7697 - val_loss: 0.5133 - val_accuracy: 0.7876\n",
            "Epoch 283/4000\n",
            "214/214 [==============================] - 1s 2ms/step - loss: 0.5407 - accuracy: 0.7687 - val_loss: 0.5134 - val_accuracy: 0.7814\n",
            "Epoch 284/4000\n",
            "214/214 [==============================] - 0s 2ms/step - loss: 0.5406 - accuracy: 0.7704 - val_loss: 0.5126 - val_accuracy: 0.7838\n",
            "Epoch 285/4000\n",
            "214/214 [==============================] - 1s 3ms/step - loss: 0.5407 - accuracy: 0.7684 - val_loss: 0.5130 - val_accuracy: 0.7772\n",
            "Epoch 286/4000\n",
            "214/214 [==============================] - 0s 2ms/step - loss: 0.5406 - accuracy: 0.7703 - val_loss: 0.5140 - val_accuracy: 0.7793\n",
            "Epoch 287/4000\n",
            "214/214 [==============================] - 0s 2ms/step - loss: 0.5406 - accuracy: 0.7658 - val_loss: 0.5126 - val_accuracy: 0.7876\n",
            "Epoch 288/4000\n",
            "214/214 [==============================] - 0s 2ms/step - loss: 0.5407 - accuracy: 0.7674 - val_loss: 0.5131 - val_accuracy: 0.7817\n",
            "Epoch 289/4000\n",
            "214/214 [==============================] - 0s 2ms/step - loss: 0.5407 - accuracy: 0.7678 - val_loss: 0.5133 - val_accuracy: 0.7769\n",
            "Epoch 290/4000\n",
            "214/214 [==============================] - 0s 2ms/step - loss: 0.5406 - accuracy: 0.7693 - val_loss: 0.5133 - val_accuracy: 0.7797\n",
            "Epoch 291/4000\n",
            "214/214 [==============================] - 1s 2ms/step - loss: 0.5407 - accuracy: 0.7681 - val_loss: 0.5143 - val_accuracy: 0.7600\n",
            "Epoch 292/4000\n",
            "214/214 [==============================] - 1s 2ms/step - loss: 0.5405 - accuracy: 0.7644 - val_loss: 0.5132 - val_accuracy: 0.7793\n",
            "Epoch 293/4000\n",
            "214/214 [==============================] - 0s 2ms/step - loss: 0.5406 - accuracy: 0.7690 - val_loss: 0.5127 - val_accuracy: 0.7852\n",
            "Epoch 294/4000\n",
            "214/214 [==============================] - 0s 2ms/step - loss: 0.5406 - accuracy: 0.7665 - val_loss: 0.5124 - val_accuracy: 0.7897\n",
            "Epoch 295/4000\n",
            "214/214 [==============================] - 0s 2ms/step - loss: 0.5407 - accuracy: 0.7690 - val_loss: 0.5129 - val_accuracy: 0.7872\n",
            "Epoch 296/4000\n",
            "214/214 [==============================] - 0s 2ms/step - loss: 0.5406 - accuracy: 0.7678 - val_loss: 0.5128 - val_accuracy: 0.7886\n",
            "Epoch 297/4000\n",
            "214/214 [==============================] - 1s 2ms/step - loss: 0.5405 - accuracy: 0.7684 - val_loss: 0.5125 - val_accuracy: 0.7759\n",
            "Epoch 298/4000\n",
            "214/214 [==============================] - 1s 2ms/step - loss: 0.5405 - accuracy: 0.7687 - val_loss: 0.5122 - val_accuracy: 0.7869\n",
            "Epoch 299/4000\n",
            "214/214 [==============================] - 0s 2ms/step - loss: 0.5405 - accuracy: 0.7658 - val_loss: 0.5117 - val_accuracy: 0.7886\n",
            "Epoch 300/4000\n",
            "214/214 [==============================] - 0s 2ms/step - loss: 0.5406 - accuracy: 0.7699 - val_loss: 0.5123 - val_accuracy: 0.7855\n",
            "Epoch 301/4000\n",
            "214/214 [==============================] - 0s 2ms/step - loss: 0.5406 - accuracy: 0.7669 - val_loss: 0.5128 - val_accuracy: 0.7810\n",
            "Epoch 302/4000\n",
            "214/214 [==============================] - 1s 2ms/step - loss: 0.5404 - accuracy: 0.7669 - val_loss: 0.5126 - val_accuracy: 0.7838\n",
            "Epoch 303/4000\n",
            "214/214 [==============================] - 1s 2ms/step - loss: 0.5406 - accuracy: 0.7678 - val_loss: 0.5119 - val_accuracy: 0.7883\n",
            "Epoch 304/4000\n",
            "214/214 [==============================] - 1s 2ms/step - loss: 0.5403 - accuracy: 0.7691 - val_loss: 0.5135 - val_accuracy: 0.7669\n",
            "Epoch 305/4000\n",
            "214/214 [==============================] - 1s 2ms/step - loss: 0.5406 - accuracy: 0.7691 - val_loss: 0.5137 - val_accuracy: 0.7714\n",
            "Epoch 306/4000\n",
            "214/214 [==============================] - 0s 2ms/step - loss: 0.5405 - accuracy: 0.7658 - val_loss: 0.5119 - val_accuracy: 0.7866\n",
            "Epoch 307/4000\n",
            "214/214 [==============================] - 0s 2ms/step - loss: 0.5406 - accuracy: 0.7661 - val_loss: 0.5126 - val_accuracy: 0.7893\n",
            "Epoch 308/4000\n",
            "214/214 [==============================] - 1s 2ms/step - loss: 0.5406 - accuracy: 0.7665 - val_loss: 0.5122 - val_accuracy: 0.7890\n",
            "Epoch 309/4000\n",
            "214/214 [==============================] - 0s 2ms/step - loss: 0.5405 - accuracy: 0.7682 - val_loss: 0.5125 - val_accuracy: 0.7779\n",
            "Epoch 310/4000\n",
            "214/214 [==============================] - 1s 2ms/step - loss: 0.5405 - accuracy: 0.7661 - val_loss: 0.5135 - val_accuracy: 0.7790\n",
            "Epoch 311/4000\n",
            "214/214 [==============================] - 1s 2ms/step - loss: 0.5405 - accuracy: 0.7665 - val_loss: 0.5123 - val_accuracy: 0.7610\n",
            "Epoch 312/4000\n",
            "214/214 [==============================] - 1s 3ms/step - loss: 0.5405 - accuracy: 0.7696 - val_loss: 0.5124 - val_accuracy: 0.7852\n",
            "Epoch 313/4000\n",
            "214/214 [==============================] - 0s 2ms/step - loss: 0.5405 - accuracy: 0.7661 - val_loss: 0.5119 - val_accuracy: 0.7628\n",
            "Epoch 314/4000\n",
            "214/214 [==============================] - 1s 2ms/step - loss: 0.5405 - accuracy: 0.7680 - val_loss: 0.5117 - val_accuracy: 0.7876\n",
            "Epoch 315/4000\n",
            "214/214 [==============================] - 0s 2ms/step - loss: 0.5405 - accuracy: 0.7682 - val_loss: 0.5118 - val_accuracy: 0.7876\n",
            "Epoch 316/4000\n",
            "214/214 [==============================] - 0s 2ms/step - loss: 0.5405 - accuracy: 0.7684 - val_loss: 0.5125 - val_accuracy: 0.7862\n",
            "Epoch 317/4000\n",
            "214/214 [==============================] - 0s 2ms/step - loss: 0.5405 - accuracy: 0.7672 - val_loss: 0.5114 - val_accuracy: 0.7893\n",
            "Epoch 318/4000\n",
            "214/214 [==============================] - 1s 2ms/step - loss: 0.5405 - accuracy: 0.7694 - val_loss: 0.5115 - val_accuracy: 0.7879\n",
            "Epoch 319/4000\n",
            "214/214 [==============================] - 0s 2ms/step - loss: 0.5405 - accuracy: 0.7666 - val_loss: 0.5122 - val_accuracy: 0.7893\n",
            "Epoch 320/4000\n",
            "214/214 [==============================] - 0s 2ms/step - loss: 0.5405 - accuracy: 0.7675 - val_loss: 0.5120 - val_accuracy: 0.7893\n",
            "Epoch 321/4000\n",
            "214/214 [==============================] - 0s 2ms/step - loss: 0.5405 - accuracy: 0.7685 - val_loss: 0.5118 - val_accuracy: 0.7879\n",
            "Epoch 322/4000\n",
            "214/214 [==============================] - 0s 2ms/step - loss: 0.5404 - accuracy: 0.7699 - val_loss: 0.5117 - val_accuracy: 0.7886\n",
            "Epoch 323/4000\n",
            "214/214 [==============================] - 1s 3ms/step - loss: 0.5404 - accuracy: 0.7662 - val_loss: 0.5114 - val_accuracy: 0.7862\n",
            "Epoch 324/4000\n",
            "214/214 [==============================] - 1s 2ms/step - loss: 0.5403 - accuracy: 0.7694 - val_loss: 0.5129 - val_accuracy: 0.7672\n",
            "Epoch 325/4000\n",
            "214/214 [==============================] - 0s 2ms/step - loss: 0.5405 - accuracy: 0.7693 - val_loss: 0.5121 - val_accuracy: 0.7876\n",
            "Epoch 326/4000\n",
            "214/214 [==============================] - 1s 2ms/step - loss: 0.5404 - accuracy: 0.7687 - val_loss: 0.5128 - val_accuracy: 0.7759\n",
            "Epoch 327/4000\n",
            "214/214 [==============================] - 0s 2ms/step - loss: 0.5405 - accuracy: 0.7700 - val_loss: 0.5120 - val_accuracy: 0.7793\n",
            "Epoch 328/4000\n",
            "214/214 [==============================] - 0s 2ms/step - loss: 0.5404 - accuracy: 0.7674 - val_loss: 0.5117 - val_accuracy: 0.7876\n",
            "Epoch 329/4000\n",
            "214/214 [==============================] - 1s 2ms/step - loss: 0.5405 - accuracy: 0.7680 - val_loss: 0.5113 - val_accuracy: 0.7738\n",
            "Epoch 330/4000\n",
            "214/214 [==============================] - 1s 3ms/step - loss: 0.5405 - accuracy: 0.7685 - val_loss: 0.5121 - val_accuracy: 0.7776\n",
            "Epoch 331/4000\n",
            "214/214 [==============================] - 0s 2ms/step - loss: 0.5404 - accuracy: 0.7674 - val_loss: 0.5132 - val_accuracy: 0.7790\n",
            "Epoch 332/4000\n",
            "214/214 [==============================] - 0s 2ms/step - loss: 0.5405 - accuracy: 0.7666 - val_loss: 0.5120 - val_accuracy: 0.7769\n",
            "Epoch 333/4000\n",
            "214/214 [==============================] - 1s 3ms/step - loss: 0.5404 - accuracy: 0.7665 - val_loss: 0.5115 - val_accuracy: 0.7883\n",
            "Epoch 334/4000\n",
            "214/214 [==============================] - 0s 2ms/step - loss: 0.5404 - accuracy: 0.7671 - val_loss: 0.5115 - val_accuracy: 0.7862\n",
            "Epoch 335/4000\n",
            "214/214 [==============================] - 1s 2ms/step - loss: 0.5403 - accuracy: 0.7690 - val_loss: 0.5114 - val_accuracy: 0.7845\n",
            "Epoch 336/4000\n",
            "214/214 [==============================] - 1s 2ms/step - loss: 0.5405 - accuracy: 0.7674 - val_loss: 0.5118 - val_accuracy: 0.7862\n",
            "Epoch 337/4000\n",
            "214/214 [==============================] - 0s 2ms/step - loss: 0.5404 - accuracy: 0.7669 - val_loss: 0.5112 - val_accuracy: 0.7883\n",
            "Epoch 338/4000\n",
            "214/214 [==============================] - 0s 2ms/step - loss: 0.5405 - accuracy: 0.7681 - val_loss: 0.5117 - val_accuracy: 0.7910\n",
            "Epoch 339/4000\n",
            "214/214 [==============================] - 1s 2ms/step - loss: 0.5403 - accuracy: 0.7697 - val_loss: 0.5110 - val_accuracy: 0.7886\n",
            "Epoch 340/4000\n",
            "214/214 [==============================] - 1s 2ms/step - loss: 0.5404 - accuracy: 0.7690 - val_loss: 0.5121 - val_accuracy: 0.7659\n",
            "Epoch 341/4000\n",
            "214/214 [==============================] - 1s 2ms/step - loss: 0.5405 - accuracy: 0.7685 - val_loss: 0.5121 - val_accuracy: 0.7776\n",
            "Epoch 342/4000\n",
            "214/214 [==============================] - 1s 2ms/step - loss: 0.5405 - accuracy: 0.7697 - val_loss: 0.5117 - val_accuracy: 0.7883\n",
            "Epoch 343/4000\n",
            "214/214 [==============================] - 0s 2ms/step - loss: 0.5404 - accuracy: 0.7677 - val_loss: 0.5117 - val_accuracy: 0.7810\n",
            "Epoch 344/4000\n",
            "214/214 [==============================] - 0s 2ms/step - loss: 0.5404 - accuracy: 0.7682 - val_loss: 0.5124 - val_accuracy: 0.7734\n",
            "Epoch 345/4000\n",
            "214/214 [==============================] - 1s 2ms/step - loss: 0.5404 - accuracy: 0.7672 - val_loss: 0.5111 - val_accuracy: 0.7845\n",
            "Epoch 346/4000\n",
            "214/214 [==============================] - 0s 2ms/step - loss: 0.5403 - accuracy: 0.7661 - val_loss: 0.5118 - val_accuracy: 0.7766\n",
            "Epoch 347/4000\n",
            "214/214 [==============================] - 0s 2ms/step - loss: 0.5404 - accuracy: 0.7656 - val_loss: 0.5116 - val_accuracy: 0.7783\n",
            "Epoch 348/4000\n",
            "214/214 [==============================] - 1s 2ms/step - loss: 0.5402 - accuracy: 0.7653 - val_loss: 0.5123 - val_accuracy: 0.7828\n",
            "Epoch 349/4000\n",
            "214/214 [==============================] - 1s 2ms/step - loss: 0.5404 - accuracy: 0.7709 - val_loss: 0.5113 - val_accuracy: 0.7862\n",
            "Epoch 350/4000\n",
            "214/214 [==============================] - 0s 2ms/step - loss: 0.5404 - accuracy: 0.7672 - val_loss: 0.5113 - val_accuracy: 0.7883\n",
            "Epoch 351/4000\n",
            "214/214 [==============================] - 1s 2ms/step - loss: 0.5404 - accuracy: 0.7675 - val_loss: 0.5117 - val_accuracy: 0.7897\n",
            "Epoch 352/4000\n",
            "214/214 [==============================] - 1s 2ms/step - loss: 0.5402 - accuracy: 0.7646 - val_loss: 0.5111 - val_accuracy: 0.7852\n",
            "Epoch 353/4000\n",
            "214/214 [==============================] - 1s 2ms/step - loss: 0.5404 - accuracy: 0.7684 - val_loss: 0.5117 - val_accuracy: 0.7903\n",
            "Epoch 354/4000\n",
            "214/214 [==============================] - 0s 2ms/step - loss: 0.5403 - accuracy: 0.7685 - val_loss: 0.5112 - val_accuracy: 0.7848\n",
            "Epoch 355/4000\n",
            "214/214 [==============================] - 0s 2ms/step - loss: 0.5404 - accuracy: 0.7677 - val_loss: 0.5122 - val_accuracy: 0.7772\n",
            "Epoch 356/4000\n",
            "214/214 [==============================] - 1s 2ms/step - loss: 0.5404 - accuracy: 0.7707 - val_loss: 0.5113 - val_accuracy: 0.7859\n",
            "Epoch 357/4000\n",
            "214/214 [==============================] - 0s 2ms/step - loss: 0.5404 - accuracy: 0.7680 - val_loss: 0.5112 - val_accuracy: 0.7883\n",
            "Epoch 358/4000\n",
            "214/214 [==============================] - 1s 2ms/step - loss: 0.5404 - accuracy: 0.7666 - val_loss: 0.5117 - val_accuracy: 0.7786\n",
            "Epoch 359/4000\n",
            "214/214 [==============================] - 0s 2ms/step - loss: 0.5401 - accuracy: 0.7666 - val_loss: 0.5116 - val_accuracy: 0.7859\n",
            "Epoch 359: early stopping\n"
          ]
        }
      ]
    },
    {
      "cell_type": "code",
      "source": [
        "#visualisation\n",
        "plt.plot(trained_model_2.history['loss'],color='red',label='Training Loss')\n",
        "plt.plot(trained_model_2.history['val_loss'],color='blue',label='Testing Loss')\n",
        "plt.legend()\n",
        "plt.show()"
      ],
      "metadata": {
        "colab": {
          "base_uri": "https://localhost:8080/",
          "height": 265
        },
        "id": "92UW8us1V1u8",
        "outputId": "aaad26a7-58a3-4359-ae54-c8864a225c58"
      },
      "execution_count": null,
      "outputs": [
        {
          "output_type": "display_data",
          "data": {
            "text/plain": [
              "<Figure size 432x288 with 1 Axes>"
            ],
            "image/png": "[encoded data removed]"
          },
          "metadata": {
            "needs_background": "light"
          }
        }
      ]
    },
    {
      "cell_type": "code",
      "source": [
        "plt.plot(trained_model_2.history['accuracy'],color='red',label='Training Loss')\n",
        "plt.plot(trained_model_2.history['val_accuracy'],color='blue',label='Testing Loss')\n",
        "plt.legend()\n",
        "plt.show()"
      ],
      "metadata": {
        "colab": {
          "base_uri": "https://localhost:8080/",
          "height": 267
        },
        "id": "QDDrhVTvWVJD",
        "outputId": "ff97f369-dcce-4cea-e4b0-5c6d91e8f4de"
      },
      "execution_count": null,
      "outputs": [
        {
          "output_type": "display_data",
          "data": {
            "text/plain": [
              "<Figure size 432x288 with 1 Axes>"
            ],
            "image/png": "[encoded data removed]"
          },
          "metadata": {
            "needs_background": "light"
          }
        }
      ]
    },
    {
      "cell_type": "code",
      "source": [
        "#find prediction\n",
        "y_pred2=model1.predict(x_test_ros).round(2)\n",
        "y_pred2"
      ],
      "metadata": {
        "colab": {
          "base_uri": "https://localhost:8080/"
        },
        "id": "kututP32WeSh",
        "outputId": "04510b3c-b7f7-45e3-f4b6-0c314e21644c"
      },
      "execution_count": null,
      "outputs": [
        {
          "output_type": "execute_result",
          "data": {
            "text/plain": [
              "array([[0.26],\n",
              "       [0.78],\n",
              "       [0.09],\n",
              "       ...,\n",
              "       [0.87],\n",
              "       [0.72],\n",
              "       [0.9 ]], dtype=float32)"
            ]
          },
          "metadata": {},
          "execution_count": 74
        }
      ]
    },
    {
      "cell_type": "code",
      "source": [
        "y_pred2=np.where(y_pred2>=0.5,1,0)\n",
        "y_pred2"
      ],
      "metadata": {
        "colab": {
          "base_uri": "https://localhost:8080/"
        },
        "id": "BOwI9NNcWoGX",
        "outputId": "2e812d9c-eb2a-484a-be41-99485327ea31"
      },
      "execution_count": null,
      "outputs": [
        {
          "output_type": "execute_result",
          "data": {
            "text/plain": [
              "array([[0],\n",
              "       [1],\n",
              "       [0],\n",
              "       ...,\n",
              "       [1],\n",
              "       [1],\n",
              "       [1]])"
            ]
          },
          "metadata": {},
          "execution_count": 75
        }
      ]
    },
    {
      "cell_type": "code",
      "source": [
        "print(classification_report(y_test_ros,y_pred2))\n",
        "print(confusion_matrix(y_test_ros,y_pred2))"
      ],
      "metadata": {
        "colab": {
          "base_uri": "https://localhost:8080/"
        },
        "id": "E0J_F2l9Wt2D",
        "outputId": "1b72bddc-6a59-4daa-f6bf-9c657657f13b"
      },
      "execution_count": null,
      "outputs": [
        {
          "output_type": "stream",
          "name": "stdout",
          "text": [
            "              precision    recall  f1-score   support\n",
            "\n",
            "           0       0.84      0.70      0.76      1450\n",
            "           1       0.74      0.87      0.80      1450\n",
            "\n",
            "    accuracy                           0.78      2900\n",
            "   macro avg       0.79      0.78      0.78      2900\n",
            "weighted avg       0.79      0.78      0.78      2900\n",
            "\n",
            "[[1012  438]\n",
            " [ 190 1260]]\n"
          ]
        }
      ]
    },
    {
      "cell_type": "code",
      "source": [],
      "metadata": {
        "id": "b-GZSjgvW3J8"
      },
      "execution_count": null,
      "outputs": []
    },
    {
      "cell_type": "markdown",
      "source": [
        "Handling Overfitting by Lasso Regularization"
      ],
      "metadata": {
        "id": "sXcEBK2hXJjx"
      }
    },
    {
      "cell_type": "code",
      "source": [
        "#now we will try to reduce overfitting\n",
        "#call class regularisation: inbuilt class"
      ],
      "metadata": {
        "id": "Ul5o_sngS2Nk"
      },
      "execution_count": null,
      "outputs": []
    },
    {
      "cell_type": "code",
      "source": [
        "model2=tf.keras.Sequential([\n",
        "                          tf.keras.layers.Dense(units=10,activation='relu',input_shape=(x.shape[1],),\n",
        "                          kernel_regularizer=regularizers.l1(0.01)),\n",
        "                           #First hidden layer\n",
        "                           tf.keras.layers.Dense(units=10,activation='relu',kernel_regularizer=regularizers.l1(0.01)), #second hidden layer\n",
        "                           tf.keras.layers.Dense(units=1,activation='sigmoid',kernel_regularizer=regularizers.l1(0.01))]) #output layer"
      ],
      "metadata": {
        "id": "K_7CRZEIS4Nv"
      },
      "execution_count": null,
      "outputs": []
    },
    {
      "cell_type": "code",
      "source": [
        "#complie the model\n",
        "#use inbuilt method compile() of sequential class\n",
        "model2.compile(optimizer='sgd',loss='binary_crossentropy',metrics=['accuracy'])"
      ],
      "metadata": {
        "id": "AQHwTytDTAnM"
      },
      "execution_count": null,
      "outputs": []
    },
    {
      "cell_type": "code",
      "source": [
        "#train the model\n",
        "trained_model_3=model2.fit(x_train_ros,y_train_ros,epochs=4000,callbacks=cb,validation_data=(x_test_ros,y_test_ros))"
      ],
      "metadata": {
        "colab": {
          "base_uri": "https://localhost:8080/"
        },
        "id": "6EBEHZ7sTEHE",
        "outputId": "c6343467-8963-4beb-f273-6af892917355"
      },
      "execution_count": null,
      "outputs": [
        {
          "output_type": "stream",
          "name": "stdout",
          "text": [
            "Epoch 1/4000\n",
            "214/214 [==============================] - 1s 3ms/step - loss: 1.1720 - accuracy: 0.6453 - val_loss: 1.0911 - val_accuracy: 0.7276\n",
            "Epoch 2/4000\n",
            "214/214 [==============================] - 1s 2ms/step - loss: 1.0979 - accuracy: 0.6910 - val_loss: 1.0273 - val_accuracy: 0.7531\n",
            "Epoch 3/4000\n",
            "214/214 [==============================] - 0s 2ms/step - loss: 1.0449 - accuracy: 0.7121 - val_loss: 0.9766 - val_accuracy: 0.7645\n",
            "Epoch 4/4000\n",
            "214/214 [==============================] - 0s 2ms/step - loss: 0.9993 - accuracy: 0.7249 - val_loss: 0.9320 - val_accuracy: 0.7728\n",
            "Epoch 5/4000\n",
            "214/214 [==============================] - 0s 2ms/step - loss: 0.9572 - accuracy: 0.7376 - val_loss: 0.8915 - val_accuracy: 0.7955\n",
            "Epoch 6/4000\n",
            "214/214 [==============================] - 0s 2ms/step - loss: 0.9179 - accuracy: 0.7386 - val_loss: 0.8534 - val_accuracy: 0.7966\n",
            "Epoch 7/4000\n",
            "214/214 [==============================] - 0s 2ms/step - loss: 0.8810 - accuracy: 0.7426 - val_loss: 0.8186 - val_accuracy: 0.7990\n",
            "Epoch 8/4000\n",
            "214/214 [==============================] - 0s 2ms/step - loss: 0.8475 - accuracy: 0.7432 - val_loss: 0.7882 - val_accuracy: 0.7824\n",
            "Epoch 9/4000\n",
            "214/214 [==============================] - 0s 2ms/step - loss: 0.8173 - accuracy: 0.7454 - val_loss: 0.7611 - val_accuracy: 0.7779\n",
            "Epoch 10/4000\n",
            "214/214 [==============================] - 0s 2ms/step - loss: 0.7901 - accuracy: 0.7476 - val_loss: 0.7363 - val_accuracy: 0.7790\n",
            "Epoch 11/4000\n",
            "214/214 [==============================] - 0s 2ms/step - loss: 0.7650 - accuracy: 0.7489 - val_loss: 0.7137 - val_accuracy: 0.7772\n",
            "Epoch 12/4000\n",
            "214/214 [==============================] - 0s 2ms/step - loss: 0.7422 - accuracy: 0.7505 - val_loss: 0.6928 - val_accuracy: 0.7834\n",
            "Epoch 13/4000\n",
            "214/214 [==============================] - 0s 2ms/step - loss: 0.7213 - accuracy: 0.7571 - val_loss: 0.6742 - val_accuracy: 0.7886\n",
            "Epoch 14/4000\n",
            "214/214 [==============================] - 0s 2ms/step - loss: 0.7023 - accuracy: 0.7524 - val_loss: 0.6565 - val_accuracy: 0.7983\n",
            "Epoch 15/4000\n",
            "214/214 [==============================] - 0s 2ms/step - loss: 0.6845 - accuracy: 0.7532 - val_loss: 0.6401 - val_accuracy: 0.7859\n",
            "Epoch 16/4000\n",
            "214/214 [==============================] - 0s 2ms/step - loss: 0.6686 - accuracy: 0.7542 - val_loss: 0.6252 - val_accuracy: 0.7866\n",
            "Epoch 17/4000\n",
            "214/214 [==============================] - 0s 2ms/step - loss: 0.6546 - accuracy: 0.7540 - val_loss: 0.6118 - val_accuracy: 0.7886\n",
            "Epoch 18/4000\n",
            "214/214 [==============================] - 0s 2ms/step - loss: 0.6419 - accuracy: 0.7515 - val_loss: 0.6014 - val_accuracy: 0.7721\n",
            "Epoch 19/4000\n",
            "214/214 [==============================] - 0s 2ms/step - loss: 0.6304 - accuracy: 0.7539 - val_loss: 0.5888 - val_accuracy: 0.7824\n",
            "Epoch 20/4000\n",
            "214/214 [==============================] - 0s 2ms/step - loss: 0.6202 - accuracy: 0.7545 - val_loss: 0.5791 - val_accuracy: 0.7859\n",
            "Epoch 21/4000\n",
            "214/214 [==============================] - 0s 2ms/step - loss: 0.6114 - accuracy: 0.7537 - val_loss: 0.5720 - val_accuracy: 0.8055\n",
            "Epoch 22/4000\n",
            "214/214 [==============================] - 0s 2ms/step - loss: 0.6049 - accuracy: 0.7552 - val_loss: 0.5650 - val_accuracy: 0.7772\n",
            "Epoch 23/4000\n",
            "214/214 [==============================] - 0s 2ms/step - loss: 0.5999 - accuracy: 0.7533 - val_loss: 0.5604 - val_accuracy: 0.7755\n",
            "Epoch 24/4000\n",
            "214/214 [==============================] - 0s 2ms/step - loss: 0.5959 - accuracy: 0.7561 - val_loss: 0.5565 - val_accuracy: 0.7807\n",
            "Epoch 25/4000\n",
            "214/214 [==============================] - 0s 2ms/step - loss: 0.5924 - accuracy: 0.7564 - val_loss: 0.5543 - val_accuracy: 0.7783\n",
            "Epoch 26/4000\n",
            "214/214 [==============================] - 0s 2ms/step - loss: 0.5900 - accuracy: 0.7567 - val_loss: 0.5514 - val_accuracy: 0.7779\n",
            "Epoch 27/4000\n",
            "214/214 [==============================] - 0s 2ms/step - loss: 0.5885 - accuracy: 0.7537 - val_loss: 0.5505 - val_accuracy: 0.7741\n",
            "Epoch 28/4000\n",
            "214/214 [==============================] - 0s 2ms/step - loss: 0.5871 - accuracy: 0.7551 - val_loss: 0.5484 - val_accuracy: 0.7810\n",
            "Epoch 29/4000\n",
            "214/214 [==============================] - 0s 2ms/step - loss: 0.5857 - accuracy: 0.7533 - val_loss: 0.5469 - val_accuracy: 0.7776\n",
            "Epoch 30/4000\n",
            "214/214 [==============================] - 0s 2ms/step - loss: 0.5845 - accuracy: 0.7514 - val_loss: 0.5455 - val_accuracy: 0.7776\n",
            "Epoch 31/4000\n",
            "214/214 [==============================] - 0s 2ms/step - loss: 0.5835 - accuracy: 0.7504 - val_loss: 0.5446 - val_accuracy: 0.7790\n",
            "Epoch 32/4000\n",
            "214/214 [==============================] - 0s 2ms/step - loss: 0.5823 - accuracy: 0.7520 - val_loss: 0.5434 - val_accuracy: 0.7807\n",
            "Epoch 33/4000\n",
            "214/214 [==============================] - 0s 2ms/step - loss: 0.5812 - accuracy: 0.7517 - val_loss: 0.5421 - val_accuracy: 0.7769\n",
            "Epoch 34/4000\n",
            "214/214 [==============================] - 0s 2ms/step - loss: 0.5802 - accuracy: 0.7529 - val_loss: 0.5412 - val_accuracy: 0.7831\n",
            "Epoch 35/4000\n",
            "214/214 [==============================] - 0s 2ms/step - loss: 0.5791 - accuracy: 0.7558 - val_loss: 0.5400 - val_accuracy: 0.7755\n",
            "Epoch 36/4000\n",
            "214/214 [==============================] - 0s 2ms/step - loss: 0.5779 - accuracy: 0.7540 - val_loss: 0.5392 - val_accuracy: 0.7779\n",
            "Epoch 37/4000\n",
            "214/214 [==============================] - 0s 2ms/step - loss: 0.5767 - accuracy: 0.7532 - val_loss: 0.5371 - val_accuracy: 0.7786\n",
            "Epoch 38/4000\n",
            "214/214 [==============================] - 0s 2ms/step - loss: 0.5754 - accuracy: 0.7549 - val_loss: 0.5364 - val_accuracy: 0.7917\n",
            "Epoch 39/4000\n",
            "214/214 [==============================] - 0s 2ms/step - loss: 0.5742 - accuracy: 0.7567 - val_loss: 0.5346 - val_accuracy: 0.7862\n",
            "Epoch 40/4000\n",
            "214/214 [==============================] - 0s 2ms/step - loss: 0.5731 - accuracy: 0.7543 - val_loss: 0.5339 - val_accuracy: 0.7848\n",
            "Epoch 41/4000\n",
            "214/214 [==============================] - 0s 2ms/step - loss: 0.5723 - accuracy: 0.7556 - val_loss: 0.5331 - val_accuracy: 0.7886\n",
            "Epoch 42/4000\n",
            "214/214 [==============================] - 0s 2ms/step - loss: 0.5714 - accuracy: 0.7558 - val_loss: 0.5331 - val_accuracy: 0.7800\n",
            "Epoch 43/4000\n",
            "214/214 [==============================] - 0s 2ms/step - loss: 0.5708 - accuracy: 0.7543 - val_loss: 0.5311 - val_accuracy: 0.7783\n",
            "Epoch 44/4000\n",
            "214/214 [==============================] - 0s 2ms/step - loss: 0.5697 - accuracy: 0.7543 - val_loss: 0.5318 - val_accuracy: 0.7776\n",
            "Epoch 45/4000\n",
            "214/214 [==============================] - 0s 2ms/step - loss: 0.5694 - accuracy: 0.7543 - val_loss: 0.5291 - val_accuracy: 0.7776\n",
            "Epoch 46/4000\n",
            "214/214 [==============================] - 0s 2ms/step - loss: 0.5686 - accuracy: 0.7521 - val_loss: 0.5287 - val_accuracy: 0.7859\n",
            "Epoch 47/4000\n",
            "214/214 [==============================] - 0s 2ms/step - loss: 0.5678 - accuracy: 0.7540 - val_loss: 0.5292 - val_accuracy: 0.7907\n",
            "Epoch 48/4000\n",
            "214/214 [==============================] - 0s 2ms/step - loss: 0.5671 - accuracy: 0.7554 - val_loss: 0.5275 - val_accuracy: 0.7841\n",
            "Epoch 49/4000\n",
            "214/214 [==============================] - 0s 2ms/step - loss: 0.5666 - accuracy: 0.7556 - val_loss: 0.5265 - val_accuracy: 0.7903\n",
            "Epoch 50/4000\n",
            "214/214 [==============================] - 0s 2ms/step - loss: 0.5659 - accuracy: 0.7543 - val_loss: 0.5275 - val_accuracy: 0.7766\n",
            "Epoch 51/4000\n",
            "214/214 [==============================] - 1s 2ms/step - loss: 0.5654 - accuracy: 0.7559 - val_loss: 0.5259 - val_accuracy: 0.7759\n",
            "Epoch 52/4000\n",
            "214/214 [==============================] - 1s 3ms/step - loss: 0.5652 - accuracy: 0.7533 - val_loss: 0.5248 - val_accuracy: 0.7924\n",
            "Epoch 53/4000\n",
            "214/214 [==============================] - 1s 4ms/step - loss: 0.5649 - accuracy: 0.7549 - val_loss: 0.5246 - val_accuracy: 0.7776\n",
            "Epoch 54/4000\n",
            "214/214 [==============================] - 1s 4ms/step - loss: 0.5646 - accuracy: 0.7540 - val_loss: 0.5259 - val_accuracy: 0.7766\n",
            "Epoch 55/4000\n",
            "214/214 [==============================] - 1s 3ms/step - loss: 0.5647 - accuracy: 0.7521 - val_loss: 0.5250 - val_accuracy: 0.7793\n",
            "Epoch 56/4000\n",
            "214/214 [==============================] - 1s 4ms/step - loss: 0.5642 - accuracy: 0.7527 - val_loss: 0.5255 - val_accuracy: 0.7910\n",
            "Epoch 57/4000\n",
            "214/214 [==============================] - 0s 2ms/step - loss: 0.5640 - accuracy: 0.7575 - val_loss: 0.5261 - val_accuracy: 0.7762\n",
            "Epoch 58/4000\n",
            "214/214 [==============================] - 0s 2ms/step - loss: 0.5638 - accuracy: 0.7548 - val_loss: 0.5258 - val_accuracy: 0.7907\n",
            "Epoch 59/4000\n",
            "214/214 [==============================] - 0s 2ms/step - loss: 0.5638 - accuracy: 0.7567 - val_loss: 0.5241 - val_accuracy: 0.7852\n",
            "Epoch 60/4000\n",
            "214/214 [==============================] - 0s 2ms/step - loss: 0.5632 - accuracy: 0.7517 - val_loss: 0.5249 - val_accuracy: 0.7928\n",
            "Epoch 61/4000\n",
            "214/214 [==============================] - 0s 2ms/step - loss: 0.5632 - accuracy: 0.7549 - val_loss: 0.5249 - val_accuracy: 0.7869\n",
            "Epoch 62/4000\n",
            "214/214 [==============================] - 0s 2ms/step - loss: 0.5630 - accuracy: 0.7537 - val_loss: 0.5233 - val_accuracy: 0.7879\n",
            "Epoch 63/4000\n",
            "214/214 [==============================] - 0s 2ms/step - loss: 0.5628 - accuracy: 0.7545 - val_loss: 0.5237 - val_accuracy: 0.7793\n",
            "Epoch 64/4000\n",
            "214/214 [==============================] - 0s 2ms/step - loss: 0.5627 - accuracy: 0.7532 - val_loss: 0.5229 - val_accuracy: 0.7783\n",
            "Epoch 65/4000\n",
            "214/214 [==============================] - 0s 2ms/step - loss: 0.5625 - accuracy: 0.7539 - val_loss: 0.5233 - val_accuracy: 0.7793\n",
            "Epoch 66/4000\n",
            "214/214 [==============================] - 0s 2ms/step - loss: 0.5625 - accuracy: 0.7524 - val_loss: 0.5228 - val_accuracy: 0.7769\n",
            "Epoch 67/4000\n",
            "214/214 [==============================] - 0s 2ms/step - loss: 0.5624 - accuracy: 0.7558 - val_loss: 0.5220 - val_accuracy: 0.7824\n",
            "Epoch 68/4000\n",
            "214/214 [==============================] - 0s 2ms/step - loss: 0.5623 - accuracy: 0.7520 - val_loss: 0.5225 - val_accuracy: 0.7814\n",
            "Epoch 69/4000\n",
            "214/214 [==============================] - 0s 2ms/step - loss: 0.5620 - accuracy: 0.7511 - val_loss: 0.5221 - val_accuracy: 0.7807\n",
            "Epoch 70/4000\n",
            "214/214 [==============================] - 0s 2ms/step - loss: 0.5621 - accuracy: 0.7526 - val_loss: 0.5215 - val_accuracy: 0.7772\n",
            "Epoch 71/4000\n",
            "214/214 [==============================] - 0s 2ms/step - loss: 0.5620 - accuracy: 0.7523 - val_loss: 0.5215 - val_accuracy: 0.7824\n",
            "Epoch 72/4000\n",
            "214/214 [==============================] - 1s 2ms/step - loss: 0.5620 - accuracy: 0.7559 - val_loss: 0.5207 - val_accuracy: 0.7772\n",
            "Epoch 73/4000\n",
            "214/214 [==============================] - 0s 2ms/step - loss: 0.5619 - accuracy: 0.7543 - val_loss: 0.5205 - val_accuracy: 0.7866\n",
            "Epoch 74/4000\n",
            "214/214 [==============================] - 0s 2ms/step - loss: 0.5621 - accuracy: 0.7542 - val_loss: 0.5207 - val_accuracy: 0.7800\n",
            "Epoch 75/4000\n",
            "214/214 [==============================] - 0s 2ms/step - loss: 0.5619 - accuracy: 0.7515 - val_loss: 0.5215 - val_accuracy: 0.7755\n",
            "Epoch 76/4000\n",
            "214/214 [==============================] - 0s 2ms/step - loss: 0.5618 - accuracy: 0.7545 - val_loss: 0.5208 - val_accuracy: 0.7845\n",
            "Epoch 77/4000\n",
            "214/214 [==============================] - 0s 2ms/step - loss: 0.5618 - accuracy: 0.7548 - val_loss: 0.5205 - val_accuracy: 0.7748\n",
            "Epoch 78/4000\n",
            "214/214 [==============================] - 0s 2ms/step - loss: 0.5617 - accuracy: 0.7501 - val_loss: 0.5211 - val_accuracy: 0.7776\n",
            "Epoch 79/4000\n",
            "214/214 [==============================] - 0s 2ms/step - loss: 0.5618 - accuracy: 0.7537 - val_loss: 0.5218 - val_accuracy: 0.7755\n",
            "Epoch 80/4000\n",
            "214/214 [==============================] - 0s 2ms/step - loss: 0.5617 - accuracy: 0.7548 - val_loss: 0.5212 - val_accuracy: 0.7921\n",
            "Epoch 81/4000\n",
            "214/214 [==============================] - 0s 2ms/step - loss: 0.5617 - accuracy: 0.7573 - val_loss: 0.5193 - val_accuracy: 0.7797\n",
            "Epoch 82/4000\n",
            "214/214 [==============================] - 0s 2ms/step - loss: 0.5616 - accuracy: 0.7565 - val_loss: 0.5204 - val_accuracy: 0.7779\n",
            "Epoch 83/4000\n",
            "214/214 [==============================] - 0s 2ms/step - loss: 0.5617 - accuracy: 0.7518 - val_loss: 0.5201 - val_accuracy: 0.7845\n",
            "Epoch 84/4000\n",
            "214/214 [==============================] - 0s 2ms/step - loss: 0.5613 - accuracy: 0.7521 - val_loss: 0.5212 - val_accuracy: 0.7759\n",
            "Epoch 85/4000\n",
            "214/214 [==============================] - 0s 2ms/step - loss: 0.5616 - accuracy: 0.7483 - val_loss: 0.5200 - val_accuracy: 0.7821\n",
            "Epoch 86/4000\n",
            "214/214 [==============================] - 0s 2ms/step - loss: 0.5615 - accuracy: 0.7533 - val_loss: 0.5214 - val_accuracy: 0.7869\n",
            "Epoch 87/4000\n",
            "214/214 [==============================] - 0s 2ms/step - loss: 0.5614 - accuracy: 0.7545 - val_loss: 0.5201 - val_accuracy: 0.7755\n",
            "Epoch 88/4000\n",
            "214/214 [==============================] - 0s 2ms/step - loss: 0.5613 - accuracy: 0.7511 - val_loss: 0.5196 - val_accuracy: 0.7786\n",
            "Epoch 89/4000\n",
            "214/214 [==============================] - 0s 2ms/step - loss: 0.5611 - accuracy: 0.7520 - val_loss: 0.5208 - val_accuracy: 0.7917\n",
            "Epoch 90/4000\n",
            "214/214 [==============================] - 0s 2ms/step - loss: 0.5613 - accuracy: 0.7490 - val_loss: 0.5210 - val_accuracy: 0.7769\n",
            "Epoch 91/4000\n",
            "214/214 [==============================] - 0s 2ms/step - loss: 0.5612 - accuracy: 0.7496 - val_loss: 0.5198 - val_accuracy: 0.7779\n",
            "Epoch 92/4000\n",
            "214/214 [==============================] - 0s 2ms/step - loss: 0.5612 - accuracy: 0.7495 - val_loss: 0.5197 - val_accuracy: 0.7793\n",
            "Epoch 93/4000\n",
            "214/214 [==============================] - 0s 2ms/step - loss: 0.5610 - accuracy: 0.7518 - val_loss: 0.5204 - val_accuracy: 0.7745\n",
            "Epoch 94/4000\n",
            "214/214 [==============================] - 0s 2ms/step - loss: 0.5611 - accuracy: 0.7505 - val_loss: 0.5200 - val_accuracy: 0.7783\n",
            "Epoch 95/4000\n",
            "214/214 [==============================] - 0s 2ms/step - loss: 0.5610 - accuracy: 0.7499 - val_loss: 0.5204 - val_accuracy: 0.7797\n",
            "Epoch 96/4000\n",
            "214/214 [==============================] - 0s 2ms/step - loss: 0.5610 - accuracy: 0.7518 - val_loss: 0.5198 - val_accuracy: 0.7807\n",
            "Epoch 97/4000\n",
            "214/214 [==============================] - 0s 2ms/step - loss: 0.5609 - accuracy: 0.7504 - val_loss: 0.5201 - val_accuracy: 0.7762\n",
            "Epoch 98/4000\n",
            "214/214 [==============================] - 0s 2ms/step - loss: 0.5608 - accuracy: 0.7502 - val_loss: 0.5194 - val_accuracy: 0.7893\n",
            "Epoch 99/4000\n",
            "214/214 [==============================] - 0s 2ms/step - loss: 0.5606 - accuracy: 0.7495 - val_loss: 0.5217 - val_accuracy: 0.7893\n",
            "Epoch 100/4000\n",
            "214/214 [==============================] - 0s 2ms/step - loss: 0.5606 - accuracy: 0.7520 - val_loss: 0.5204 - val_accuracy: 0.7776\n",
            "Epoch 101/4000\n",
            "214/214 [==============================] - 0s 2ms/step - loss: 0.5608 - accuracy: 0.7495 - val_loss: 0.5195 - val_accuracy: 0.7786\n",
            "Epoch 101: early stopping\n"
          ]
        }
      ]
    },
    {
      "cell_type": "code",
      "source": [
        "#visualisation\n",
        "plt.plot(trained_model_3.history['loss'],color='red',label='Training Loss')\n",
        "plt.plot(trained_model_3.history['val_loss'],color='blue',label='Testing Loss')\n",
        "plt.legend()\n",
        "plt.show()"
      ],
      "metadata": {
        "colab": {
          "base_uri": "https://localhost:8080/",
          "height": 268
        },
        "id": "a-UoQ5lbTHBn",
        "outputId": "ef8708ac-48b0-4091-cca9-24906f3c3426"
      },
      "execution_count": null,
      "outputs": [
        {
          "output_type": "display_data",
          "data": {
            "text/plain": [
              "<Figure size 432x288 with 1 Axes>"
            ],
            "image/png": "[encoded data removed]"
          },
          "metadata": {
            "needs_background": "light"
          }
        }
      ]
    },
    {
      "cell_type": "code",
      "source": [
        "plt.plot(trained_model_3.history['accuracy'],color='red',label='Training Loss')\n",
        "plt.plot(trained_model_3.history['val_accuracy'],color='blue',label='Testing Loss')\n",
        "plt.legend()\n",
        "plt.show()"
      ],
      "metadata": {
        "colab": {
          "base_uri": "https://localhost:8080/",
          "height": 265
        },
        "id": "LzioXu50VKNf",
        "outputId": "9115a33a-0fc7-4313-a354-b501024e9bf7"
      },
      "execution_count": null,
      "outputs": [
        {
          "output_type": "display_data",
          "data": {
            "text/plain": [
              "<Figure size 432x288 with 1 Axes>"
            ],
            "image/png": "[encoded data removed]"
          },
          "metadata": {
            "needs_background": "light"
          }
        }
      ]
    },
    {
      "cell_type": "code",
      "source": [
        "#find prediction\n",
        "y_pred3=model2.predict(x_test_ros).round(2)\n",
        "y_pred3"
      ],
      "metadata": {
        "colab": {
          "base_uri": "https://localhost:8080/"
        },
        "id": "Xrv-RtU-VPrH",
        "outputId": "ecd5ed2e-e758-4e01-f2ef-2e0ce45ae7e5"
      },
      "execution_count": null,
      "outputs": [
        {
          "output_type": "execute_result",
          "data": {
            "text/plain": [
              "array([[0.23],\n",
              "       [0.78],\n",
              "       [0.11],\n",
              "       ...,\n",
              "       [0.85],\n",
              "       [0.77],\n",
              "       [0.88]], dtype=float32)"
            ]
          },
          "metadata": {},
          "execution_count": 87
        }
      ]
    },
    {
      "cell_type": "code",
      "source": [
        "y_pred3=np.where(y_pred3>=0.5,1,0)\n",
        "y_pred3"
      ],
      "metadata": {
        "colab": {
          "base_uri": "https://localhost:8080/"
        },
        "id": "iy62q-uMVXWN",
        "outputId": "b8d1abd6-582b-4eb8-ccbe-be2befb81b76"
      },
      "execution_count": null,
      "outputs": [
        {
          "output_type": "execute_result",
          "data": {
            "text/plain": [
              "array([[0],\n",
              "       [1],\n",
              "       [0],\n",
              "       ...,\n",
              "       [1],\n",
              "       [1],\n",
              "       [1]])"
            ]
          },
          "metadata": {},
          "execution_count": 88
        }
      ]
    },
    {
      "cell_type": "code",
      "source": [
        "print(classification_report(y_test_ros,y_pred3))\n",
        "print(confusion_matrix(y_test_ros,y_pred3))"
      ],
      "metadata": {
        "colab": {
          "base_uri": "https://localhost:8080/"
        },
        "id": "xcamXHa-VdMK",
        "outputId": "2453c64e-ae39-49d3-a782-aed569e88aaf"
      },
      "execution_count": null,
      "outputs": [
        {
          "output_type": "stream",
          "name": "stdout",
          "text": [
            "              precision    recall  f1-score   support\n",
            "\n",
            "           0       0.82      0.71      0.77      1450\n",
            "           1       0.75      0.85      0.79      1450\n",
            "\n",
            "    accuracy                           0.78      2900\n",
            "   macro avg       0.79      0.78      0.78      2900\n",
            "weighted avg       0.79      0.78      0.78      2900\n",
            "\n",
            "[[1036  414]\n",
            " [ 222 1228]]\n"
          ]
        }
      ]
    },
    {
      "cell_type": "markdown",
      "source": [
        "As we can see accuracy of the model after applying Random Over Sampler is 79% but after applying Regularization that is Lasso and Ridge, accuracy of the model is 78%."
      ],
      "metadata": {
        "id": "WICa7IozXNnw"
      }
    }
  ]
}